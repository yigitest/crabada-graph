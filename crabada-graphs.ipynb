{
 "cells": [
  {
   "cell_type": "code",
   "execution_count": 1,
   "id": "e6f8357b",
   "metadata": {},
   "outputs": [
    {
     "data": {
      "application/javascript": [
       "\n",
       "            setTimeout(function() {\n",
       "                var nbb_cell_id = 1;\n",
       "                var nbb_unformatted_code = \"%load_ext nb_black\";\n",
       "                var nbb_formatted_code = \"%load_ext nb_black\";\n",
       "                var nbb_cells = Jupyter.notebook.get_cells();\n",
       "                for (var i = 0; i < nbb_cells.length; ++i) {\n",
       "                    if (nbb_cells[i].input_prompt_number == nbb_cell_id) {\n",
       "                        if (nbb_cells[i].get_text() == nbb_unformatted_code) {\n",
       "                             nbb_cells[i].set_text(nbb_formatted_code);\n",
       "                        }\n",
       "                        break;\n",
       "                    }\n",
       "                }\n",
       "            }, 500);\n",
       "            "
      ],
      "text/plain": [
       "<IPython.core.display.Javascript object>"
      ]
     },
     "metadata": {},
     "output_type": "display_data"
    }
   ],
   "source": [
    "%load_ext nb_black"
   ]
  },
  {
   "cell_type": "code",
   "execution_count": 2,
   "id": "e78451ab",
   "metadata": {},
   "outputs": [
    {
     "data": {
      "application/javascript": [
       "\n",
       "            setTimeout(function() {\n",
       "                var nbb_cell_id = 2;\n",
       "                var nbb_unformatted_code = \"import requests\\nfrom datetime import datetime\";\n",
       "                var nbb_formatted_code = \"import requests\\nfrom datetime import datetime\";\n",
       "                var nbb_cells = Jupyter.notebook.get_cells();\n",
       "                for (var i = 0; i < nbb_cells.length; ++i) {\n",
       "                    if (nbb_cells[i].input_prompt_number == nbb_cell_id) {\n",
       "                        if (nbb_cells[i].get_text() == nbb_unformatted_code) {\n",
       "                             nbb_cells[i].set_text(nbb_formatted_code);\n",
       "                        }\n",
       "                        break;\n",
       "                    }\n",
       "                }\n",
       "            }, 500);\n",
       "            "
      ],
      "text/plain": [
       "<IPython.core.display.Javascript object>"
      ]
     },
     "metadata": {},
     "output_type": "display_data"
    }
   ],
   "source": [
    "import requests\n",
    "from datetime import datetime"
   ]
  },
  {
   "cell_type": "code",
   "execution_count": 3,
   "id": "c7e8888f",
   "metadata": {},
   "outputs": [
    {
     "data": {
      "application/javascript": [
       "\n",
       "            setTimeout(function() {\n",
       "                var nbb_cell_id = 3;\n",
       "                var nbb_unformatted_code = \"def _get_matched_recently(limit=1000, pure_number=-1, breed_count=-1, class_name=None):\\n    url = \\\"https://api.crabada.com/public/order/matched-recently\\\"\\n    params = {\\\"limit\\\": limit}\\n    result = requests.get(url=url, params=params)\\n    result.raise_for_status()\\n\\n    json = result.json()\\n\\n    crabadas = json[\\\"result\\\"]\\n\\n    def check_crabada(cra):\\n        if pure_number != -1 and cra[\\\"pure_number\\\"] != pure_number:\\n            return False\\n        if breed_count != -1 and cra[\\\"breed_count\\\"] != breed_count:\\n            return False\\n        if class_name is not None and cra[\\\"class_name\\\"] != class_name:\\n            return False\\n        return True\\n\\n    filtered_crabadas = [cra for cra in crabadas if check_crabada(cra)]\\n    return filtered_crabadas\";\n",
       "                var nbb_formatted_code = \"def _get_matched_recently(limit=1000, pure_number=-1, breed_count=-1, class_name=None):\\n    url = \\\"https://api.crabada.com/public/order/matched-recently\\\"\\n    params = {\\\"limit\\\": limit}\\n    result = requests.get(url=url, params=params)\\n    result.raise_for_status()\\n\\n    json = result.json()\\n\\n    crabadas = json[\\\"result\\\"]\\n\\n    def check_crabada(cra):\\n        if pure_number != -1 and cra[\\\"pure_number\\\"] != pure_number:\\n            return False\\n        if breed_count != -1 and cra[\\\"breed_count\\\"] != breed_count:\\n            return False\\n        if class_name is not None and cra[\\\"class_name\\\"] != class_name:\\n            return False\\n        return True\\n\\n    filtered_crabadas = [cra for cra in crabadas if check_crabada(cra)]\\n    return filtered_crabadas\";\n",
       "                var nbb_cells = Jupyter.notebook.get_cells();\n",
       "                for (var i = 0; i < nbb_cells.length; ++i) {\n",
       "                    if (nbb_cells[i].input_prompt_number == nbb_cell_id) {\n",
       "                        if (nbb_cells[i].get_text() == nbb_unformatted_code) {\n",
       "                             nbb_cells[i].set_text(nbb_formatted_code);\n",
       "                        }\n",
       "                        break;\n",
       "                    }\n",
       "                }\n",
       "            }, 500);\n",
       "            "
      ],
      "text/plain": [
       "<IPython.core.display.Javascript object>"
      ]
     },
     "metadata": {},
     "output_type": "display_data"
    }
   ],
   "source": [
    "def _get_matched_recently(limit=1000, pure_number=-1, breed_count=-1, class_name=None):\n",
    "    url = \"https://api.crabada.com/public/order/matched-recently\"\n",
    "    params = {\"limit\": limit}\n",
    "    result = requests.get(url=url, params=params)\n",
    "    result.raise_for_status()\n",
    "\n",
    "    json = result.json()\n",
    "\n",
    "    crabadas = json[\"result\"]\n",
    "\n",
    "    def check_crabada(cra):\n",
    "        if pure_number != -1 and cra[\"pure_number\"] != pure_number:\n",
    "            return False\n",
    "        if breed_count != -1 and cra[\"breed_count\"] != breed_count:\n",
    "            return False\n",
    "        if class_name is not None and cra[\"class_name\"] != class_name:\n",
    "            return False\n",
    "        return True\n",
    "\n",
    "    filtered_crabadas = [cra for cra in crabadas if check_crabada(cra)]\n",
    "    return filtered_crabadas"
   ]
  },
  {
   "cell_type": "code",
   "execution_count": 29,
   "id": "1ea29127",
   "metadata": {},
   "outputs": [
    {
     "data": {
      "application/javascript": [
       "\n",
       "            setTimeout(function() {\n",
       "                var nbb_cell_id = 29;\n",
       "                var nbb_unformatted_code = \"crabadas = _get_matched_recently(\\n    limit=1000, pure_number=6, breed_count=2, class_name=None\\n)\";\n",
       "                var nbb_formatted_code = \"crabadas = _get_matched_recently(\\n    limit=1000, pure_number=6, breed_count=2, class_name=None\\n)\";\n",
       "                var nbb_cells = Jupyter.notebook.get_cells();\n",
       "                for (var i = 0; i < nbb_cells.length; ++i) {\n",
       "                    if (nbb_cells[i].input_prompt_number == nbb_cell_id) {\n",
       "                        if (nbb_cells[i].get_text() == nbb_unformatted_code) {\n",
       "                             nbb_cells[i].set_text(nbb_formatted_code);\n",
       "                        }\n",
       "                        break;\n",
       "                    }\n",
       "                }\n",
       "            }, 500);\n",
       "            "
      ],
      "text/plain": [
       "<IPython.core.display.Javascript object>"
      ]
     },
     "metadata": {},
     "output_type": "display_data"
    }
   ],
   "source": [
    "crabadas = _get_matched_recently(\n",
    "    limit=1000, pure_number=6, breed_count=2, class_name=None\n",
    ")"
   ]
  },
  {
   "cell_type": "code",
   "execution_count": 30,
   "id": "351e7824",
   "metadata": {},
   "outputs": [
    {
     "data": {
      "application/vnd.plotly.v1+json": {
       "config": {
        "plotlyServerURL": "https://plot.ly"
       },
       "data": [
        {
         "hovertemplate": "<b>%{hovertext}</b><br><br>color=BULK<br>x=%{x}<br>y=%{y}<extra></extra>",
         "hovertext": [
          "BULK-P6-B2",
          "BULK-P6-B2",
          "BULK-P6-B2",
          "BULK-P6-B2",
          "BULK-P6-B2",
          "BULK-P6-B2",
          "BULK-P6-B2",
          "BULK-P6-B2",
          "BULK-P6-B2",
          "BULK-P6-B2",
          "BULK-P6-B2",
          "BULK-P6-B2",
          "BULK-P6-B2",
          "BULK-P6-B2",
          "BULK-P6-B2",
          "BULK-P6-B2",
          "BULK-P6-B2",
          "BULK-P6-B2",
          "BULK-P6-B2",
          "BULK-P6-B2",
          "BULK-P6-B2",
          "BULK-P6-B2",
          "BULK-P6-B2",
          "BULK-P6-B2",
          "BULK-P6-B2",
          "BULK-P6-B2",
          "BULK-P6-B2",
          "BULK-P6-B2",
          "BULK-P6-B2",
          "BULK-P6-B2",
          "BULK-P6-B2",
          "BULK-P6-B2",
          "BULK-P6-B2",
          "BULK-P6-B2",
          "BULK-P6-B2",
          "BULK-P6-B2",
          "BULK-P6-B2",
          "BULK-P6-B2",
          "BULK-P6-B2",
          "BULK-P6-B2",
          "BULK-P6-B2",
          "BULK-P6-B2",
          "BULK-P6-B2",
          "BULK-P6-B2",
          "BULK-P6-B2",
          "BULK-P6-B2",
          "BULK-P6-B2",
          "BULK-P6-B2",
          "BULK-P6-B2",
          "BULK-P6-B2",
          "BULK-P6-B2",
          "BULK-P6-B2",
          "BULK-P6-B2",
          "BULK-P6-B2",
          "BULK-P6-B2",
          "BULK-P6-B2",
          "BULK-P6-B2",
          "BULK-P6-B2",
          "BULK-P6-B2",
          "BULK-P6-B2",
          "BULK-P6-B2",
          "BULK-P6-B2",
          "BULK-P6-B2",
          "BULK-P6-B2",
          "BULK-P6-B2",
          "BULK-P6-B2",
          "BULK-P6-B2",
          "BULK-P6-B2",
          "BULK-P6-B2",
          "BULK-P6-B2",
          "BULK-P6-B2",
          "BULK-P6-B2",
          "BULK-P6-B2",
          "BULK-P6-B2",
          "BULK-P6-B2",
          "BULK-P6-B2",
          "BULK-P6-B2",
          "BULK-P6-B2",
          "BULK-P6-B2",
          "BULK-P6-B2",
          "BULK-P6-B2",
          "BULK-P6-B2",
          "BULK-P6-B2",
          "BULK-P6-B2",
          "BULK-P6-B2",
          "BULK-P6-B2",
          "BULK-P6-B2",
          "BULK-P6-B2",
          "BULK-P6-B2",
          "BULK-P6-B2",
          "BULK-P6-B2",
          "BULK-P6-B2",
          "BULK-P6-B2",
          "BULK-P6-B2",
          "BULK-P6-B2",
          "BULK-P6-B2",
          "BULK-P6-B2",
          "BULK-P6-B2",
          "BULK-P6-B2",
          "BULK-P6-B2",
          "BULK-P6-B2",
          "BULK-P6-B2",
          "BULK-P6-B2",
          "BULK-P6-B2",
          "BULK-P6-B2",
          "BULK-P6-B2",
          "BULK-P6-B2",
          "BULK-P6-B2",
          "BULK-P6-B2",
          "BULK-P6-B2",
          "BULK-P6-B2",
          "BULK-P6-B2",
          "BULK-P6-B2",
          "BULK-P6-B2",
          "BULK-P6-B2",
          "BULK-P6-B2",
          "BULK-P6-B2",
          "BULK-P6-B2",
          "BULK-P6-B2",
          "BULK-P6-B2",
          "BULK-P6-B2",
          "BULK-P6-B2",
          "BULK-P6-B2",
          "BULK-P6-B2",
          "BULK-P6-B2",
          "BULK-P6-B2",
          "BULK-P6-B2",
          "BULK-P6-B2",
          "BULK-P6-B2",
          "BULK-P6-B2",
          "BULK-P6-B2",
          "BULK-P6-B2",
          "BULK-P6-B2",
          "BULK-P6-B2",
          "BULK-P6-B2",
          "BULK-P6-B2",
          "BULK-P6-B2",
          "BULK-P6-B2",
          "BULK-P6-B2",
          "BULK-P6-B2",
          "BULK-P6-B2",
          "BULK-P6-B2",
          "BULK-P6-B2",
          "BULK-P6-B2",
          "BULK-P6-B2"
         ],
         "legendgroup": "BULK",
         "marker": {
          "color": "#636efa",
          "symbol": "circle"
         },
         "mode": "markers",
         "name": "BULK",
         "orientation": "v",
         "showlegend": true,
         "type": "scatter",
         "x": [
          "2022-03-23T09:58:48",
          "2022-03-23T09:58:45",
          "2022-03-23T09:58:12",
          "2022-03-23T09:57:56",
          "2022-03-23T09:44:18",
          "2022-03-23T09:33:16",
          "2022-03-23T09:32:26",
          "2022-03-23T09:27:45",
          "2022-03-23T09:19:42",
          "2022-03-23T09:19:15",
          "2022-03-23T09:16:34",
          "2022-03-23T09:14:54",
          "2022-03-23T09:14:21",
          "2022-03-23T09:13:33",
          "2022-03-23T09:02:28",
          "2022-03-23T09:00:51",
          "2022-03-23T08:56:27",
          "2022-03-23T08:53:42",
          "2022-03-23T08:53:29",
          "2022-03-23T07:55:49",
          "2022-03-23T07:34:43",
          "2022-03-23T07:33:47",
          "2022-03-23T07:32:51",
          "2022-03-23T06:50:25",
          "2022-03-23T06:10:29",
          "2022-03-23T06:05:35",
          "2022-03-23T05:50:30",
          "2022-03-23T05:42:39",
          "2022-03-23T05:41:06",
          "2022-03-23T05:35:45",
          "2022-03-23T05:05:14",
          "2022-03-23T05:00:28",
          "2022-03-23T04:02:33",
          "2022-03-23T03:56:48",
          "2022-03-23T03:54:31",
          "2022-03-23T02:56:28",
          "2022-03-23T02:52:54",
          "2022-03-23T02:50:52",
          "2022-03-23T02:39:38",
          "2022-03-23T02:39:06",
          "2022-03-23T02:25:08",
          "2022-03-23T01:53:09",
          "2022-03-23T01:39:10",
          "2022-03-23T01:38:03",
          "2022-03-23T01:36:47",
          "2022-03-23T01:36:37",
          "2022-03-23T01:36:24",
          "2022-03-23T01:31:50",
          "2022-03-23T01:31:40",
          "2022-03-23T01:16:07",
          "2022-03-23T01:14:23",
          "2022-03-23T01:12:57",
          "2022-03-23T00:15:10",
          "2022-03-22T23:29:20",
          "2022-03-22T23:27:16",
          "2022-03-22T23:17:52",
          "2022-03-22T23:07:25",
          "2022-03-22T22:26:24",
          "2022-03-22T22:24:13",
          "2022-03-22T22:03:31",
          "2022-03-22T22:01:27",
          "2022-03-22T21:58:37",
          "2022-03-22T21:47:42",
          "2022-03-22T21:46:53",
          "2022-03-22T21:46:53",
          "2022-03-22T21:19:37",
          "2022-03-22T21:19:08",
          "2022-03-22T21:18:43",
          "2022-03-22T20:59:16",
          "2022-03-22T20:57:46",
          "2022-03-22T20:57:06",
          "2022-03-22T20:21:02",
          "2022-03-22T20:18:38",
          "2022-03-22T20:13:26",
          "2022-03-22T20:12:52",
          "2022-03-22T20:05:36",
          "2022-03-22T20:02:11",
          "2022-03-22T20:01:57",
          "2022-03-22T19:59:30",
          "2022-03-22T19:53:12",
          "2022-03-22T19:53:02",
          "2022-03-22T19:34:07",
          "2022-03-22T19:27:31",
          "2022-03-22T19:14:08",
          "2022-03-22T19:13:59",
          "2022-03-22T19:13:43",
          "2022-03-22T19:09:54",
          "2022-03-22T19:07:54",
          "2022-03-22T18:02:38",
          "2022-03-22T17:56:43",
          "2022-03-22T17:54:06",
          "2022-03-22T17:08:01",
          "2022-03-22T17:01:11",
          "2022-03-22T16:47:16",
          "2022-03-22T16:47:06",
          "2022-03-22T16:46:53",
          "2022-03-22T16:46:10",
          "2022-03-22T16:45:45",
          "2022-03-22T16:45:09",
          "2022-03-22T16:41:39",
          "2022-03-22T16:27:25",
          "2022-03-22T16:05:29",
          "2022-03-22T16:03:41",
          "2022-03-22T15:36:16",
          "2022-03-22T15:26:39",
          "2022-03-22T15:02:39",
          "2022-03-22T14:55:40",
          "2022-03-22T14:40:12",
          "2022-03-22T14:39:40",
          "2022-03-22T14:39:08",
          "2022-03-22T14:38:38",
          "2022-03-22T14:31:47",
          "2022-03-22T14:25:29",
          "2022-03-22T14:17:47",
          "2022-03-22T14:01:02",
          "2022-03-22T14:00:44",
          "2022-03-22T13:53:17",
          "2022-03-22T13:52:44",
          "2022-03-22T13:50:54",
          "2022-03-22T13:42:57",
          "2022-03-22T12:54:14",
          "2022-03-22T12:45:40",
          "2022-03-22T12:42:13",
          "2022-03-22T12:42:12",
          "2022-03-22T12:14:11",
          "2022-03-22T12:06:18",
          "2022-03-22T12:05:49",
          "2022-03-22T12:05:21",
          "2022-03-22T12:04:53",
          "2022-03-22T12:04:29",
          "2022-03-22T12:03:33",
          "2022-03-22T12:03:14",
          "2022-03-22T12:02:57",
          "2022-03-22T12:02:25",
          "2022-03-22T12:02:00",
          "2022-03-22T12:01:43",
          "2022-03-22T12:01:13",
          "2022-03-22T12:00:21",
          "2022-03-22T12:00:00",
          "2022-03-22T11:57:29",
          "2022-03-22T11:57:02",
          "2022-03-22T11:56:32",
          "2022-03-22T11:56:08",
          "2022-03-22T11:55:42",
          "2022-03-22T11:55:14"
         ],
         "xaxis": "x",
         "y": [
          15899,
          15999,
          15750,
          15619.999999999998,
          15899,
          24999.999999999996,
          24999.999999999996,
          15399,
          15199,
          15299,
          15499,
          15998,
          15998,
          15998,
          15799,
          19600,
          16497,
          25100,
          24999,
          15799,
          15900.000000000002,
          15855,
          15779.999999999998,
          15998,
          15539,
          15539,
          15900.000000000002,
          15539,
          15539,
          15600,
          15800,
          15750,
          17450,
          16499,
          16200,
          16499,
          16499,
          16498,
          16495,
          16498,
          16350,
          16300.000000000002,
          16300.000000000002,
          16300.000000000002,
          16200,
          16200,
          16199,
          16190,
          16179.999999999998,
          16192,
          16193,
          16179.999999999998,
          16195,
          15999,
          16300.000000000002,
          15999,
          15939.999999999998,
          16250,
          24999.999999999996,
          16250,
          16199,
          16099.999999999998,
          16099.999999999998,
          16000,
          16000,
          15400,
          15600,
          15500.000000000002,
          16099.999999999998,
          16099.999999999998,
          16099,
          17700,
          17400,
          17500,
          17500,
          16259.999999999998,
          15800,
          15800,
          15799,
          15699,
          15699,
          15705,
          15699.999999999998,
          15800,
          16999,
          15799,
          15989,
          24899,
          15989,
          24899,
          16160,
          16099.999999999998,
          16497,
          15999,
          15999,
          15999,
          15999,
          15999,
          15987.999999999998,
          15975,
          15987.999999999998,
          15849,
          16999,
          15999,
          15979,
          16250,
          15996.000000000002,
          15990,
          15990,
          15990,
          15990,
          15990,
          15960,
          15896,
          15899,
          15896,
          15899,
          15899,
          15899,
          15890,
          15899,
          15990,
          15999,
          15990,
          15999,
          15999,
          15999,
          15999,
          15999,
          15999,
          15999,
          15998,
          15996.000000000002,
          15900.000000000002,
          15900.000000000002,
          15900.000000000002,
          15899,
          15899,
          15699.999999999998,
          15699.999999999998,
          15699.999999999998,
          15699.999999999998,
          15699,
          15680,
          15680
         ],
         "yaxis": "y"
        },
        {
         "hovertemplate": "<b>%{hovertext}</b><br><br>color=SUNKEN<br>x=%{x}<br>y=%{y}<extra></extra>",
         "hovertext": [
          "SUNKEN-P6-B2",
          "SUNKEN-P6-B2",
          "SUNKEN-P6-B2",
          "SUNKEN-P6-B2",
          "SUNKEN-P6-B2",
          "SUNKEN-P6-B2",
          "SUNKEN-P6-B2",
          "SUNKEN-P6-B2",
          "SUNKEN-P6-B2",
          "SUNKEN-P6-B2",
          "SUNKEN-P6-B2"
         ],
         "legendgroup": "SUNKEN",
         "marker": {
          "color": "#EF553B",
          "symbol": "circle"
         },
         "mode": "markers",
         "name": "SUNKEN",
         "orientation": "v",
         "showlegend": true,
         "type": "scatter",
         "x": [
          "2022-03-23T09:57:20",
          "2022-03-23T09:56:50",
          "2022-03-23T09:35:31",
          "2022-03-23T09:26:14",
          "2022-03-23T09:03:03",
          "2022-03-23T08:48:15",
          "2022-03-23T08:45:58",
          "2022-03-23T08:32:25",
          "2022-03-22T19:25:49",
          "2022-03-22T19:25:35",
          "2022-03-22T18:15:32"
         ],
         "xaxis": "x",
         "y": [
          17590,
          17590,
          17690,
          17700,
          31399,
          29998.999999999996,
          29998.999999999996,
          29998.999999999996,
          32000,
          31950,
          32999
         ],
         "yaxis": "y"
        },
        {
         "hovertemplate": "<b>%{hovertext}</b><br><br>color=RUINED<br>x=%{x}<br>y=%{y}<extra></extra>",
         "hovertext": [
          "RUINED-P6-B2",
          "RUINED-P6-B2",
          "RUINED-P6-B2",
          "RUINED-P6-B2",
          "RUINED-P6-B2",
          "RUINED-P6-B2",
          "RUINED-P6-B2",
          "RUINED-P6-B2",
          "RUINED-P6-B2",
          "RUINED-P6-B2"
         ],
         "legendgroup": "RUINED",
         "marker": {
          "color": "#00cc96",
          "symbol": "circle"
         },
         "mode": "markers",
         "name": "RUINED",
         "orientation": "v",
         "showlegend": true,
         "type": "scatter",
         "x": [
          "2022-03-23T09:51:33",
          "2022-03-23T09:50:55",
          "2022-03-23T07:08:59",
          "2022-03-23T01:56:08",
          "2022-03-23T00:39:30",
          "2022-03-22T23:56:13",
          "2022-03-22T20:33:08",
          "2022-03-22T18:35:35",
          "2022-03-22T15:58:31",
          "2022-03-22T13:36:55"
         ],
         "xaxis": "x",
         "y": [
          38600,
          37777,
          17999,
          18400,
          30025,
          18750,
          18900,
          18100,
          16999,
          18500
         ],
         "yaxis": "y"
        },
        {
         "hovertemplate": "<b>%{hovertext}</b><br><br>color=GEM<br>x=%{x}<br>y=%{y}<extra></extra>",
         "hovertext": [
          "GEM-P6-B2",
          "GEM-P6-B2",
          "GEM-P6-B2",
          "GEM-P6-B2",
          "GEM-P6-B2",
          "GEM-P6-B2",
          "GEM-P6-B2",
          "GEM-P6-B2",
          "GEM-P6-B2",
          "GEM-P6-B2",
          "GEM-P6-B2",
          "GEM-P6-B2",
          "GEM-P6-B2",
          "GEM-P6-B2",
          "GEM-P6-B2",
          "GEM-P6-B2",
          "GEM-P6-B2",
          "GEM-P6-B2",
          "GEM-P6-B2",
          "GEM-P6-B2",
          "GEM-P6-B2",
          "GEM-P6-B2",
          "GEM-P6-B2",
          "GEM-P6-B2",
          "GEM-P6-B2",
          "GEM-P6-B2",
          "GEM-P6-B2",
          "GEM-P6-B2",
          "GEM-P6-B2",
          "GEM-P6-B2",
          "GEM-P6-B2",
          "GEM-P6-B2",
          "GEM-P6-B2",
          "GEM-P6-B2",
          "GEM-P6-B2",
          "GEM-P6-B2",
          "GEM-P6-B2",
          "GEM-P6-B2",
          "GEM-P6-B2",
          "GEM-P6-B2",
          "GEM-P6-B2",
          "GEM-P6-B2",
          "GEM-P6-B2",
          "GEM-P6-B2",
          "GEM-P6-B2",
          "GEM-P6-B2",
          "GEM-P6-B2",
          "GEM-P6-B2",
          "GEM-P6-B2",
          "GEM-P6-B2",
          "GEM-P6-B2",
          "GEM-P6-B2",
          "GEM-P6-B2",
          "GEM-P6-B2",
          "GEM-P6-B2",
          "GEM-P6-B2",
          "GEM-P6-B2",
          "GEM-P6-B2",
          "GEM-P6-B2",
          "GEM-P6-B2",
          "GEM-P6-B2",
          "GEM-P6-B2",
          "GEM-P6-B2",
          "GEM-P6-B2",
          "GEM-P6-B2",
          "GEM-P6-B2",
          "GEM-P6-B2",
          "GEM-P6-B2",
          "GEM-P6-B2",
          "GEM-P6-B2",
          "GEM-P6-B2",
          "GEM-P6-B2",
          "GEM-P6-B2",
          "GEM-P6-B2",
          "GEM-P6-B2",
          "GEM-P6-B2",
          "GEM-P6-B2",
          "GEM-P6-B2"
         ],
         "legendgroup": "GEM",
         "marker": {
          "color": "#ab63fa",
          "symbol": "circle"
         },
         "mode": "markers",
         "name": "GEM",
         "orientation": "v",
         "showlegend": true,
         "type": "scatter",
         "x": [
          "2022-03-23T09:36:22",
          "2022-03-23T09:31:02",
          "2022-03-23T09:04:36",
          "2022-03-23T09:03:48",
          "2022-03-23T08:50:08",
          "2022-03-23T08:29:20",
          "2022-03-23T07:53:39",
          "2022-03-23T07:01:53",
          "2022-03-23T07:00:45",
          "2022-03-23T07:00:29",
          "2022-03-23T06:59:44",
          "2022-03-23T06:58:19",
          "2022-03-23T06:56:53",
          "2022-03-23T06:48:41",
          "2022-03-23T06:46:47",
          "2022-03-23T06:13:37",
          "2022-03-23T06:00:11",
          "2022-03-23T05:57:49",
          "2022-03-23T05:57:06",
          "2022-03-23T03:59:09",
          "2022-03-23T03:57:52",
          "2022-03-23T03:20:01",
          "2022-03-23T03:18:36",
          "2022-03-23T02:59:35",
          "2022-03-23T02:41:25",
          "2022-03-23T02:37:44",
          "2022-03-23T02:36:21",
          "2022-03-23T02:35:12",
          "2022-03-23T02:34:34",
          "2022-03-23T02:28:02",
          "2022-03-23T01:53:59",
          "2022-03-23T01:33:26",
          "2022-03-23T01:32:31",
          "2022-03-23T01:02:23",
          "2022-03-23T00:59:45",
          "2022-03-23T00:56:28",
          "2022-03-22T23:49:56",
          "2022-03-22T23:48:05",
          "2022-03-22T22:10:46",
          "2022-03-22T22:01:33",
          "2022-03-22T21:57:59",
          "2022-03-22T21:57:52",
          "2022-03-22T21:57:41",
          "2022-03-22T21:57:33",
          "2022-03-22T21:56:58",
          "2022-03-22T21:41:35",
          "2022-03-22T21:41:32",
          "2022-03-22T20:58:34",
          "2022-03-22T20:30:33",
          "2022-03-22T20:13:04",
          "2022-03-22T19:14:53",
          "2022-03-22T19:13:33",
          "2022-03-22T19:05:50",
          "2022-03-22T19:04:56",
          "2022-03-22T18:25:45",
          "2022-03-22T18:24:18",
          "2022-03-22T18:12:11",
          "2022-03-22T17:35:59",
          "2022-03-22T17:08:07",
          "2022-03-22T16:59:12",
          "2022-03-22T16:21:09",
          "2022-03-22T16:20:56",
          "2022-03-22T16:20:38",
          "2022-03-22T16:04:13",
          "2022-03-22T16:03:37",
          "2022-03-22T15:46:35",
          "2022-03-22T15:06:15",
          "2022-03-22T14:59:11",
          "2022-03-22T14:56:37",
          "2022-03-22T14:56:12",
          "2022-03-22T14:32:31",
          "2022-03-22T14:21:14",
          "2022-03-22T14:20:48",
          "2022-03-22T14:18:13",
          "2022-03-22T14:18:09",
          "2022-03-22T13:35:10",
          "2022-03-22T12:55:56",
          "2022-03-22T12:54:55"
         ],
         "xaxis": "x",
         "y": [
          17099,
          17000,
          17240,
          17199,
          16999,
          16899,
          16899,
          17000,
          16899,
          16899,
          16899,
          16899,
          16800,
          16899,
          16899,
          16899,
          16899,
          16899,
          16899,
          17199,
          16950,
          16950,
          16900,
          16900,
          16800,
          16800,
          16700,
          16700,
          16690,
          16699,
          16697,
          16600,
          16500,
          17199,
          16800,
          16698,
          16479,
          16479,
          16600,
          16450,
          16420,
          16450,
          16420,
          16420,
          16369,
          16369,
          16369,
          16479,
          16470,
          16470,
          16400,
          16400,
          16550,
          16570,
          16550,
          16570,
          16699,
          16640,
          16650,
          16650,
          26798.999999999996,
          16700,
          26750,
          17600,
          16798,
          26999,
          27177,
          16666,
          16666,
          16650,
          16300.000000000002,
          16666,
          16666,
          16666,
          16666,
          16666,
          16800,
          16799
         ],
         "yaxis": "y"
        },
        {
         "hovertemplate": "<b>%{hovertext}</b><br><br>color=PRIME<br>x=%{x}<br>y=%{y}<extra></extra>",
         "hovertext": [
          "PRIME-P6-B2",
          "PRIME-P6-B2",
          "PRIME-P6-B2",
          "PRIME-P6-B2",
          "PRIME-P6-B2",
          "PRIME-P6-B2",
          "PRIME-P6-B2",
          "PRIME-P6-B2",
          "PRIME-P6-B2",
          "PRIME-P6-B2",
          "PRIME-P6-B2",
          "PRIME-P6-B2",
          "PRIME-P6-B2",
          "PRIME-P6-B2",
          "PRIME-P6-B2",
          "PRIME-P6-B2",
          "PRIME-P6-B2",
          "PRIME-P6-B2",
          "PRIME-P6-B2",
          "PRIME-P6-B2",
          "PRIME-P6-B2",
          "PRIME-P6-B2",
          "PRIME-P6-B2",
          "PRIME-P6-B2",
          "PRIME-P6-B2",
          "PRIME-P6-B2",
          "PRIME-P6-B2",
          "PRIME-P6-B2",
          "PRIME-P6-B2",
          "PRIME-P6-B2",
          "PRIME-P6-B2",
          "PRIME-P6-B2",
          "PRIME-P6-B2",
          "PRIME-P6-B2",
          "PRIME-P6-B2",
          "PRIME-P6-B2",
          "PRIME-P6-B2",
          "PRIME-P6-B2",
          "PRIME-P6-B2",
          "PRIME-P6-B2",
          "PRIME-P6-B2",
          "PRIME-P6-B2",
          "PRIME-P6-B2",
          "PRIME-P6-B2",
          "PRIME-P6-B2",
          "PRIME-P6-B2",
          "PRIME-P6-B2",
          "PRIME-P6-B2",
          "PRIME-P6-B2",
          "PRIME-P6-B2",
          "PRIME-P6-B2",
          "PRIME-P6-B2",
          "PRIME-P6-B2",
          "PRIME-P6-B2",
          "PRIME-P6-B2",
          "PRIME-P6-B2",
          "PRIME-P6-B2",
          "PRIME-P6-B2",
          "PRIME-P6-B2",
          "PRIME-P6-B2",
          "PRIME-P6-B2",
          "PRIME-P6-B2",
          "PRIME-P6-B2",
          "PRIME-P6-B2",
          "PRIME-P6-B2",
          "PRIME-P6-B2",
          "PRIME-P6-B2",
          "PRIME-P6-B2",
          "PRIME-P6-B2",
          "PRIME-P6-B2",
          "PRIME-P6-B2",
          "PRIME-P6-B2",
          "PRIME-P6-B2",
          "PRIME-P6-B2",
          "PRIME-P6-B2",
          "PRIME-P6-B2",
          "PRIME-P6-B2",
          "PRIME-P6-B2",
          "PRIME-P6-B2",
          "PRIME-P6-B2",
          "PRIME-P6-B2",
          "PRIME-P6-B2",
          "PRIME-P6-B2",
          "PRIME-P6-B2",
          "PRIME-P6-B2",
          "PRIME-P6-B2",
          "PRIME-P6-B2",
          "PRIME-P6-B2",
          "PRIME-P6-B2",
          "PRIME-P6-B2",
          "PRIME-P6-B2",
          "PRIME-P6-B2",
          "PRIME-P6-B2",
          "PRIME-P6-B2",
          "PRIME-P6-B2",
          "PRIME-P6-B2",
          "PRIME-P6-B2",
          "PRIME-P6-B2",
          "PRIME-P6-B2",
          "PRIME-P6-B2",
          "PRIME-P6-B2",
          "PRIME-P6-B2",
          "PRIME-P6-B2",
          "PRIME-P6-B2",
          "PRIME-P6-B2",
          "PRIME-P6-B2",
          "PRIME-P6-B2",
          "PRIME-P6-B2",
          "PRIME-P6-B2",
          "PRIME-P6-B2",
          "PRIME-P6-B2",
          "PRIME-P6-B2",
          "PRIME-P6-B2",
          "PRIME-P6-B2",
          "PRIME-P6-B2",
          "PRIME-P6-B2",
          "PRIME-P6-B2",
          "PRIME-P6-B2",
          "PRIME-P6-B2",
          "PRIME-P6-B2",
          "PRIME-P6-B2",
          "PRIME-P6-B2",
          "PRIME-P6-B2"
         ],
         "legendgroup": "PRIME",
         "marker": {
          "color": "#FFA15A",
          "symbol": "circle"
         },
         "mode": "markers",
         "name": "PRIME",
         "orientation": "v",
         "showlegend": true,
         "type": "scatter",
         "x": [
          "2022-03-23T09:35:03",
          "2022-03-23T09:28:07",
          "2022-03-23T09:08:51",
          "2022-03-23T08:57:22",
          "2022-03-23T08:56:37",
          "2022-03-23T08:53:54",
          "2022-03-23T08:53:02",
          "2022-03-23T08:52:05",
          "2022-03-23T08:23:44",
          "2022-03-23T08:22:32",
          "2022-03-23T08:15:06",
          "2022-03-23T07:51:59",
          "2022-03-23T07:50:51",
          "2022-03-23T07:48:32",
          "2022-03-23T07:33:24",
          "2022-03-23T07:25:36",
          "2022-03-23T07:16:20",
          "2022-03-23T06:31:56",
          "2022-03-23T06:00:34",
          "2022-03-23T05:59:49",
          "2022-03-23T05:59:29",
          "2022-03-23T05:59:09",
          "2022-03-23T05:58:53",
          "2022-03-23T04:19:45",
          "2022-03-23T04:17:24",
          "2022-03-23T04:07:35",
          "2022-03-23T04:02:24",
          "2022-03-23T03:49:13",
          "2022-03-23T03:43:08",
          "2022-03-23T03:34:30",
          "2022-03-23T03:31:54",
          "2022-03-23T03:21:14",
          "2022-03-23T03:07:50",
          "2022-03-23T03:07:05",
          "2022-03-23T02:52:38",
          "2022-03-23T02:23:30",
          "2022-03-23T01:55:43",
          "2022-03-23T01:55:19",
          "2022-03-23T00:50:26",
          "2022-03-23T00:06:58",
          "2022-03-23T00:05:10",
          "2022-03-23T00:01:21",
          "2022-03-22T23:37:36",
          "2022-03-22T22:47:23",
          "2022-03-22T22:31:38",
          "2022-03-22T22:12:11",
          "2022-03-22T22:01:41",
          "2022-03-22T21:48:08",
          "2022-03-22T21:47:26",
          "2022-03-22T21:45:15",
          "2022-03-22T21:44:35",
          "2022-03-22T21:44:08",
          "2022-03-22T21:14:18",
          "2022-03-22T21:08:30",
          "2022-03-22T21:05:52",
          "2022-03-22T21:04:33",
          "2022-03-22T21:01:46",
          "2022-03-22T21:00:07",
          "2022-03-22T20:57:48",
          "2022-03-22T20:57:17",
          "2022-03-22T20:55:53",
          "2022-03-22T20:52:06",
          "2022-03-22T20:49:55",
          "2022-03-22T20:40:47",
          "2022-03-22T20:40:39",
          "2022-03-22T20:36:14",
          "2022-03-22T20:35:50",
          "2022-03-22T20:35:37",
          "2022-03-22T20:35:17",
          "2022-03-22T20:33:47",
          "2022-03-22T20:33:12",
          "2022-03-22T20:32:39",
          "2022-03-22T20:31:37",
          "2022-03-22T20:28:44",
          "2022-03-22T20:20:38",
          "2022-03-22T20:08:26",
          "2022-03-22T20:03:39",
          "2022-03-22T20:03:05",
          "2022-03-22T19:59:54",
          "2022-03-22T19:59:24",
          "2022-03-22T19:58:37",
          "2022-03-22T19:57:23",
          "2022-03-22T19:56:36",
          "2022-03-22T19:56:08",
          "2022-03-22T19:53:50",
          "2022-03-22T19:41:05",
          "2022-03-22T19:26:38",
          "2022-03-22T19:13:07",
          "2022-03-22T18:52:05",
          "2022-03-22T18:23:16",
          "2022-03-22T18:03:46",
          "2022-03-22T17:56:20",
          "2022-03-22T17:56:08",
          "2022-03-22T17:37:32",
          "2022-03-22T17:29:40",
          "2022-03-22T17:23:07",
          "2022-03-22T17:07:21",
          "2022-03-22T16:57:54",
          "2022-03-22T16:55:45",
          "2022-03-22T16:50:17",
          "2022-03-22T16:41:21",
          "2022-03-22T16:39:45",
          "2022-03-22T16:33:46",
          "2022-03-22T15:17:17",
          "2022-03-22T14:49:37",
          "2022-03-22T14:45:18",
          "2022-03-22T13:55:46",
          "2022-03-22T13:36:11",
          "2022-03-22T13:35:00",
          "2022-03-22T13:21:41",
          "2022-03-22T13:18:57",
          "2022-03-22T13:17:06",
          "2022-03-22T13:10:13",
          "2022-03-22T13:06:27",
          "2022-03-22T12:51:21",
          "2022-03-22T12:16:53",
          "2022-03-22T12:13:25",
          "2022-03-22T12:13:17",
          "2022-03-22T12:13:05",
          "2022-03-22T12:12:07",
          "2022-03-22T11:53:36",
          "2022-03-22T11:52:20",
          "2022-03-22T11:44:18"
         ],
         "xaxis": "x",
         "y": [
          37000,
          17800,
          17987,
          17987,
          17988,
          17899,
          17899,
          17850,
          17850,
          17899,
          17950,
          17949,
          17849,
          17848,
          17987,
          17949,
          17949,
          17988,
          17949,
          31799,
          31750,
          31690,
          31680,
          18500,
          18490,
          18443,
          18442,
          18442,
          18430,
          17999,
          17999,
          17999,
          17999,
          17999,
          17775,
          31888,
          33333,
          33299,
          17770,
          17999,
          17899,
          17350,
          17999,
          17420,
          17999,
          17555,
          17490,
          17500,
          17500,
          17999,
          17555,
          17999,
          17300,
          17999,
          17000,
          17000,
          34800,
          17377,
          17377,
          17999,
          17999,
          17400,
          17333,
          17444,
          17599,
          17599,
          17599,
          17499,
          17999,
          17499,
          17599,
          17599,
          17499,
          17499,
          17599,
          18440,
          17999,
          17999,
          17750,
          17750,
          29998.999999999996,
          17999,
          33999,
          34000,
          17989,
          18440,
          18336,
          18336,
          18443,
          21111,
          18499,
          18499,
          18499,
          18750,
          18600,
          29998,
          18600,
          18750,
          19800.000000000004,
          19000.000000000004,
          19000.000000000004,
          18500,
          18999,
          18780,
          17999,
          17999,
          17999,
          17999,
          17990,
          17700,
          17500,
          17444,
          17444,
          17999,
          17400,
          17999,
          17399,
          17399,
          17399,
          17998,
          17399,
          17380,
          17999
         ],
         "yaxis": "y"
        },
        {
         "hovertemplate": "<b>%{hovertext}</b><br><br>color=CRABOID<br>x=%{x}<br>y=%{y}<extra></extra>",
         "hovertext": [
          "CRABOID-P6-B2",
          "CRABOID-P6-B2",
          "CRABOID-P6-B2",
          "CRABOID-P6-B2",
          "CRABOID-P6-B2",
          "CRABOID-P6-B2",
          "CRABOID-P6-B2",
          "CRABOID-P6-B2",
          "CRABOID-P6-B2",
          "CRABOID-P6-B2",
          "CRABOID-P6-B2",
          "CRABOID-P6-B2",
          "CRABOID-P6-B2",
          "CRABOID-P6-B2",
          "CRABOID-P6-B2",
          "CRABOID-P6-B2",
          "CRABOID-P6-B2",
          "CRABOID-P6-B2",
          "CRABOID-P6-B2",
          "CRABOID-P6-B2",
          "CRABOID-P6-B2",
          "CRABOID-P6-B2",
          "CRABOID-P6-B2",
          "CRABOID-P6-B2",
          "CRABOID-P6-B2",
          "CRABOID-P6-B2",
          "CRABOID-P6-B2",
          "CRABOID-P6-B2",
          "CRABOID-P6-B2",
          "CRABOID-P6-B2",
          "CRABOID-P6-B2",
          "CRABOID-P6-B2",
          "CRABOID-P6-B2",
          "CRABOID-P6-B2",
          "CRABOID-P6-B2",
          "CRABOID-P6-B2",
          "CRABOID-P6-B2",
          "CRABOID-P6-B2",
          "CRABOID-P6-B2",
          "CRABOID-P6-B2",
          "CRABOID-P6-B2",
          "CRABOID-P6-B2",
          "CRABOID-P6-B2",
          "CRABOID-P6-B2",
          "CRABOID-P6-B2",
          "CRABOID-P6-B2",
          "CRABOID-P6-B2",
          "CRABOID-P6-B2",
          "CRABOID-P6-B2",
          "CRABOID-P6-B2",
          "CRABOID-P6-B2",
          "CRABOID-P6-B2",
          "CRABOID-P6-B2",
          "CRABOID-P6-B2",
          "CRABOID-P6-B2",
          "CRABOID-P6-B2",
          "CRABOID-P6-B2",
          "CRABOID-P6-B2",
          "CRABOID-P6-B2",
          "CRABOID-P6-B2",
          "CRABOID-P6-B2",
          "CRABOID-P6-B2",
          "CRABOID-P6-B2",
          "CRABOID-P6-B2",
          "CRABOID-P6-B2"
         ],
         "legendgroup": "CRABOID",
         "marker": {
          "color": "#19d3f3",
          "symbol": "circle"
         },
         "mode": "markers",
         "name": "CRABOID",
         "orientation": "v",
         "showlegend": true,
         "type": "scatter",
         "x": [
          "2022-03-23T09:06:41",
          "2022-03-23T09:05:35",
          "2022-03-23T08:59:42",
          "2022-03-23T08:58:29",
          "2022-03-23T08:57:42",
          "2022-03-23T08:55:35",
          "2022-03-23T08:47:13",
          "2022-03-23T07:18:32",
          "2022-03-23T07:05:26",
          "2022-03-23T05:11:10",
          "2022-03-23T05:02:37",
          "2022-03-23T04:26:35",
          "2022-03-23T03:44:06",
          "2022-03-23T03:18:30",
          "2022-03-23T03:15:58",
          "2022-03-23T03:12:32",
          "2022-03-23T01:36:29",
          "2022-03-23T01:11:20",
          "2022-03-23T01:08:58",
          "2022-03-23T00:42:27",
          "2022-03-23T00:26:52",
          "2022-03-22T22:37:13",
          "2022-03-22T22:23:55",
          "2022-03-22T21:48:11",
          "2022-03-22T21:43:24",
          "2022-03-22T21:00:47",
          "2022-03-22T20:57:38",
          "2022-03-22T20:21:28",
          "2022-03-22T20:18:14",
          "2022-03-22T19:34:37",
          "2022-03-22T19:34:17",
          "2022-03-22T19:19:38",
          "2022-03-22T19:15:15",
          "2022-03-22T19:13:55",
          "2022-03-22T19:05:08",
          "2022-03-22T19:02:35",
          "2022-03-22T19:02:07",
          "2022-03-22T19:02:05",
          "2022-03-22T19:01:12",
          "2022-03-22T19:00:35",
          "2022-03-22T18:40:43",
          "2022-03-22T18:04:38",
          "2022-03-22T18:00:12",
          "2022-03-22T17:57:41",
          "2022-03-22T17:37:25",
          "2022-03-22T17:36:41",
          "2022-03-22T17:36:01",
          "2022-03-22T17:33:57",
          "2022-03-22T16:07:10",
          "2022-03-22T15:59:24",
          "2022-03-22T15:20:55",
          "2022-03-22T15:17:33",
          "2022-03-22T15:05:55",
          "2022-03-22T15:05:23",
          "2022-03-22T15:05:14",
          "2022-03-22T15:02:51",
          "2022-03-22T15:02:39",
          "2022-03-22T13:48:26",
          "2022-03-22T13:39:10",
          "2022-03-22T13:24:39",
          "2022-03-22T13:13:41",
          "2022-03-22T12:32:54",
          "2022-03-22T12:32:54",
          "2022-03-22T12:32:26",
          "2022-03-22T12:01:09"
         ],
         "xaxis": "x",
         "y": [
          18400,
          18166,
          18166,
          18200,
          18166,
          18166,
          18800,
          18300,
          18000,
          18800,
          18551,
          18799,
          18650,
          18999,
          18550,
          18549,
          18548,
          18850,
          18849,
          18651,
          18449,
          19189,
          18849,
          18800,
          18500,
          18849,
          18800,
          33999,
          18869,
          39990,
          34999,
          18826,
          33333,
          31998.999999999996,
          18799,
          18849,
          18840,
          18775,
          31990,
          18800,
          18825,
          18840,
          18849,
          18820,
          31900,
          18799,
          18790,
          31997,
          19150,
          18850,
          18699,
          18599,
          18599,
          18699,
          18669,
          18550,
          18550,
          18699,
          18699,
          18699,
          18699,
          18699,
          18650,
          18649,
          18650
         ],
         "yaxis": "y"
        },
        {
         "hovertemplate": "<b>%{hovertext}</b><br><br>color=ORGANIC<br>x=%{x}<br>y=%{y}<extra></extra>",
         "hovertext": [
          "ORGANIC-P6-B2"
         ],
         "legendgroup": "ORGANIC",
         "marker": {
          "color": "#FF6692",
          "symbol": "circle"
         },
         "mode": "markers",
         "name": "ORGANIC",
         "orientation": "v",
         "showlegend": true,
         "type": "scatter",
         "x": [
          "2022-03-23T04:56:05"
         ],
         "xaxis": "x",
         "y": [
          24999.999999999996
         ],
         "yaxis": "y"
        }
       ],
       "layout": {
        "legend": {
         "title": {
          "text": "color"
         },
         "tracegroupgap": 0
        },
        "margin": {
         "t": 60
        },
        "template": {
         "data": {
          "bar": [
           {
            "error_x": {
             "color": "#2a3f5f"
            },
            "error_y": {
             "color": "#2a3f5f"
            },
            "marker": {
             "line": {
              "color": "#E5ECF6",
              "width": 0.5
             },
             "pattern": {
              "fillmode": "overlay",
              "size": 10,
              "solidity": 0.2
             }
            },
            "type": "bar"
           }
          ],
          "barpolar": [
           {
            "marker": {
             "line": {
              "color": "#E5ECF6",
              "width": 0.5
             },
             "pattern": {
              "fillmode": "overlay",
              "size": 10,
              "solidity": 0.2
             }
            },
            "type": "barpolar"
           }
          ],
          "carpet": [
           {
            "aaxis": {
             "endlinecolor": "#2a3f5f",
             "gridcolor": "white",
             "linecolor": "white",
             "minorgridcolor": "white",
             "startlinecolor": "#2a3f5f"
            },
            "baxis": {
             "endlinecolor": "#2a3f5f",
             "gridcolor": "white",
             "linecolor": "white",
             "minorgridcolor": "white",
             "startlinecolor": "#2a3f5f"
            },
            "type": "carpet"
           }
          ],
          "choropleth": [
           {
            "colorbar": {
             "outlinewidth": 0,
             "ticks": ""
            },
            "type": "choropleth"
           }
          ],
          "contour": [
           {
            "colorbar": {
             "outlinewidth": 0,
             "ticks": ""
            },
            "colorscale": [
             [
              0,
              "#0d0887"
             ],
             [
              0.1111111111111111,
              "#46039f"
             ],
             [
              0.2222222222222222,
              "#7201a8"
             ],
             [
              0.3333333333333333,
              "#9c179e"
             ],
             [
              0.4444444444444444,
              "#bd3786"
             ],
             [
              0.5555555555555556,
              "#d8576b"
             ],
             [
              0.6666666666666666,
              "#ed7953"
             ],
             [
              0.7777777777777778,
              "#fb9f3a"
             ],
             [
              0.8888888888888888,
              "#fdca26"
             ],
             [
              1,
              "#f0f921"
             ]
            ],
            "type": "contour"
           }
          ],
          "contourcarpet": [
           {
            "colorbar": {
             "outlinewidth": 0,
             "ticks": ""
            },
            "type": "contourcarpet"
           }
          ],
          "heatmap": [
           {
            "colorbar": {
             "outlinewidth": 0,
             "ticks": ""
            },
            "colorscale": [
             [
              0,
              "#0d0887"
             ],
             [
              0.1111111111111111,
              "#46039f"
             ],
             [
              0.2222222222222222,
              "#7201a8"
             ],
             [
              0.3333333333333333,
              "#9c179e"
             ],
             [
              0.4444444444444444,
              "#bd3786"
             ],
             [
              0.5555555555555556,
              "#d8576b"
             ],
             [
              0.6666666666666666,
              "#ed7953"
             ],
             [
              0.7777777777777778,
              "#fb9f3a"
             ],
             [
              0.8888888888888888,
              "#fdca26"
             ],
             [
              1,
              "#f0f921"
             ]
            ],
            "type": "heatmap"
           }
          ],
          "heatmapgl": [
           {
            "colorbar": {
             "outlinewidth": 0,
             "ticks": ""
            },
            "colorscale": [
             [
              0,
              "#0d0887"
             ],
             [
              0.1111111111111111,
              "#46039f"
             ],
             [
              0.2222222222222222,
              "#7201a8"
             ],
             [
              0.3333333333333333,
              "#9c179e"
             ],
             [
              0.4444444444444444,
              "#bd3786"
             ],
             [
              0.5555555555555556,
              "#d8576b"
             ],
             [
              0.6666666666666666,
              "#ed7953"
             ],
             [
              0.7777777777777778,
              "#fb9f3a"
             ],
             [
              0.8888888888888888,
              "#fdca26"
             ],
             [
              1,
              "#f0f921"
             ]
            ],
            "type": "heatmapgl"
           }
          ],
          "histogram": [
           {
            "marker": {
             "pattern": {
              "fillmode": "overlay",
              "size": 10,
              "solidity": 0.2
             }
            },
            "type": "histogram"
           }
          ],
          "histogram2d": [
           {
            "colorbar": {
             "outlinewidth": 0,
             "ticks": ""
            },
            "colorscale": [
             [
              0,
              "#0d0887"
             ],
             [
              0.1111111111111111,
              "#46039f"
             ],
             [
              0.2222222222222222,
              "#7201a8"
             ],
             [
              0.3333333333333333,
              "#9c179e"
             ],
             [
              0.4444444444444444,
              "#bd3786"
             ],
             [
              0.5555555555555556,
              "#d8576b"
             ],
             [
              0.6666666666666666,
              "#ed7953"
             ],
             [
              0.7777777777777778,
              "#fb9f3a"
             ],
             [
              0.8888888888888888,
              "#fdca26"
             ],
             [
              1,
              "#f0f921"
             ]
            ],
            "type": "histogram2d"
           }
          ],
          "histogram2dcontour": [
           {
            "colorbar": {
             "outlinewidth": 0,
             "ticks": ""
            },
            "colorscale": [
             [
              0,
              "#0d0887"
             ],
             [
              0.1111111111111111,
              "#46039f"
             ],
             [
              0.2222222222222222,
              "#7201a8"
             ],
             [
              0.3333333333333333,
              "#9c179e"
             ],
             [
              0.4444444444444444,
              "#bd3786"
             ],
             [
              0.5555555555555556,
              "#d8576b"
             ],
             [
              0.6666666666666666,
              "#ed7953"
             ],
             [
              0.7777777777777778,
              "#fb9f3a"
             ],
             [
              0.8888888888888888,
              "#fdca26"
             ],
             [
              1,
              "#f0f921"
             ]
            ],
            "type": "histogram2dcontour"
           }
          ],
          "mesh3d": [
           {
            "colorbar": {
             "outlinewidth": 0,
             "ticks": ""
            },
            "type": "mesh3d"
           }
          ],
          "parcoords": [
           {
            "line": {
             "colorbar": {
              "outlinewidth": 0,
              "ticks": ""
             }
            },
            "type": "parcoords"
           }
          ],
          "pie": [
           {
            "automargin": true,
            "type": "pie"
           }
          ],
          "scatter": [
           {
            "marker": {
             "colorbar": {
              "outlinewidth": 0,
              "ticks": ""
             }
            },
            "type": "scatter"
           }
          ],
          "scatter3d": [
           {
            "line": {
             "colorbar": {
              "outlinewidth": 0,
              "ticks": ""
             }
            },
            "marker": {
             "colorbar": {
              "outlinewidth": 0,
              "ticks": ""
             }
            },
            "type": "scatter3d"
           }
          ],
          "scattercarpet": [
           {
            "marker": {
             "colorbar": {
              "outlinewidth": 0,
              "ticks": ""
             }
            },
            "type": "scattercarpet"
           }
          ],
          "scattergeo": [
           {
            "marker": {
             "colorbar": {
              "outlinewidth": 0,
              "ticks": ""
             }
            },
            "type": "scattergeo"
           }
          ],
          "scattergl": [
           {
            "marker": {
             "colorbar": {
              "outlinewidth": 0,
              "ticks": ""
             }
            },
            "type": "scattergl"
           }
          ],
          "scattermapbox": [
           {
            "marker": {
             "colorbar": {
              "outlinewidth": 0,
              "ticks": ""
             }
            },
            "type": "scattermapbox"
           }
          ],
          "scatterpolar": [
           {
            "marker": {
             "colorbar": {
              "outlinewidth": 0,
              "ticks": ""
             }
            },
            "type": "scatterpolar"
           }
          ],
          "scatterpolargl": [
           {
            "marker": {
             "colorbar": {
              "outlinewidth": 0,
              "ticks": ""
             }
            },
            "type": "scatterpolargl"
           }
          ],
          "scatterternary": [
           {
            "marker": {
             "colorbar": {
              "outlinewidth": 0,
              "ticks": ""
             }
            },
            "type": "scatterternary"
           }
          ],
          "surface": [
           {
            "colorbar": {
             "outlinewidth": 0,
             "ticks": ""
            },
            "colorscale": [
             [
              0,
              "#0d0887"
             ],
             [
              0.1111111111111111,
              "#46039f"
             ],
             [
              0.2222222222222222,
              "#7201a8"
             ],
             [
              0.3333333333333333,
              "#9c179e"
             ],
             [
              0.4444444444444444,
              "#bd3786"
             ],
             [
              0.5555555555555556,
              "#d8576b"
             ],
             [
              0.6666666666666666,
              "#ed7953"
             ],
             [
              0.7777777777777778,
              "#fb9f3a"
             ],
             [
              0.8888888888888888,
              "#fdca26"
             ],
             [
              1,
              "#f0f921"
             ]
            ],
            "type": "surface"
           }
          ],
          "table": [
           {
            "cells": {
             "fill": {
              "color": "#EBF0F8"
             },
             "line": {
              "color": "white"
             }
            },
            "header": {
             "fill": {
              "color": "#C8D4E3"
             },
             "line": {
              "color": "white"
             }
            },
            "type": "table"
           }
          ]
         },
         "layout": {
          "annotationdefaults": {
           "arrowcolor": "#2a3f5f",
           "arrowhead": 0,
           "arrowwidth": 1
          },
          "autotypenumbers": "strict",
          "coloraxis": {
           "colorbar": {
            "outlinewidth": 0,
            "ticks": ""
           }
          },
          "colorscale": {
           "diverging": [
            [
             0,
             "#8e0152"
            ],
            [
             0.1,
             "#c51b7d"
            ],
            [
             0.2,
             "#de77ae"
            ],
            [
             0.3,
             "#f1b6da"
            ],
            [
             0.4,
             "#fde0ef"
            ],
            [
             0.5,
             "#f7f7f7"
            ],
            [
             0.6,
             "#e6f5d0"
            ],
            [
             0.7,
             "#b8e186"
            ],
            [
             0.8,
             "#7fbc41"
            ],
            [
             0.9,
             "#4d9221"
            ],
            [
             1,
             "#276419"
            ]
           ],
           "sequential": [
            [
             0,
             "#0d0887"
            ],
            [
             0.1111111111111111,
             "#46039f"
            ],
            [
             0.2222222222222222,
             "#7201a8"
            ],
            [
             0.3333333333333333,
             "#9c179e"
            ],
            [
             0.4444444444444444,
             "#bd3786"
            ],
            [
             0.5555555555555556,
             "#d8576b"
            ],
            [
             0.6666666666666666,
             "#ed7953"
            ],
            [
             0.7777777777777778,
             "#fb9f3a"
            ],
            [
             0.8888888888888888,
             "#fdca26"
            ],
            [
             1,
             "#f0f921"
            ]
           ],
           "sequentialminus": [
            [
             0,
             "#0d0887"
            ],
            [
             0.1111111111111111,
             "#46039f"
            ],
            [
             0.2222222222222222,
             "#7201a8"
            ],
            [
             0.3333333333333333,
             "#9c179e"
            ],
            [
             0.4444444444444444,
             "#bd3786"
            ],
            [
             0.5555555555555556,
             "#d8576b"
            ],
            [
             0.6666666666666666,
             "#ed7953"
            ],
            [
             0.7777777777777778,
             "#fb9f3a"
            ],
            [
             0.8888888888888888,
             "#fdca26"
            ],
            [
             1,
             "#f0f921"
            ]
           ]
          },
          "colorway": [
           "#636efa",
           "#EF553B",
           "#00cc96",
           "#ab63fa",
           "#FFA15A",
           "#19d3f3",
           "#FF6692",
           "#B6E880",
           "#FF97FF",
           "#FECB52"
          ],
          "font": {
           "color": "#2a3f5f"
          },
          "geo": {
           "bgcolor": "white",
           "lakecolor": "white",
           "landcolor": "#E5ECF6",
           "showlakes": true,
           "showland": true,
           "subunitcolor": "white"
          },
          "hoverlabel": {
           "align": "left"
          },
          "hovermode": "closest",
          "mapbox": {
           "style": "light"
          },
          "paper_bgcolor": "white",
          "plot_bgcolor": "#E5ECF6",
          "polar": {
           "angularaxis": {
            "gridcolor": "white",
            "linecolor": "white",
            "ticks": ""
           },
           "bgcolor": "#E5ECF6",
           "radialaxis": {
            "gridcolor": "white",
            "linecolor": "white",
            "ticks": ""
           }
          },
          "scene": {
           "xaxis": {
            "backgroundcolor": "#E5ECF6",
            "gridcolor": "white",
            "gridwidth": 2,
            "linecolor": "white",
            "showbackground": true,
            "ticks": "",
            "zerolinecolor": "white"
           },
           "yaxis": {
            "backgroundcolor": "#E5ECF6",
            "gridcolor": "white",
            "gridwidth": 2,
            "linecolor": "white",
            "showbackground": true,
            "ticks": "",
            "zerolinecolor": "white"
           },
           "zaxis": {
            "backgroundcolor": "#E5ECF6",
            "gridcolor": "white",
            "gridwidth": 2,
            "linecolor": "white",
            "showbackground": true,
            "ticks": "",
            "zerolinecolor": "white"
           }
          },
          "shapedefaults": {
           "line": {
            "color": "#2a3f5f"
           }
          },
          "ternary": {
           "aaxis": {
            "gridcolor": "white",
            "linecolor": "white",
            "ticks": ""
           },
           "baxis": {
            "gridcolor": "white",
            "linecolor": "white",
            "ticks": ""
           },
           "bgcolor": "#E5ECF6",
           "caxis": {
            "gridcolor": "white",
            "linecolor": "white",
            "ticks": ""
           }
          },
          "title": {
           "x": 0.05
          },
          "xaxis": {
           "automargin": true,
           "gridcolor": "white",
           "linecolor": "white",
           "ticks": "",
           "title": {
            "standoff": 15
           },
           "zerolinecolor": "white",
           "zerolinewidth": 2
          },
          "yaxis": {
           "automargin": true,
           "gridcolor": "white",
           "linecolor": "white",
           "ticks": "",
           "title": {
            "standoff": 15
           },
           "zerolinecolor": "white",
           "zerolinewidth": 2
          }
         }
        },
        "xaxis": {
         "anchor": "y",
         "domain": [
          0,
          1
         ],
         "title": {
          "text": "x"
         }
        },
        "yaxis": {
         "anchor": "x",
         "domain": [
          0,
          1
         ],
         "title": {
          "text": "y"
         }
        }
       }
      },
      "text/html": [
       "<div>                            <div id=\"80d89777-510a-4590-b178-4ddfcf30b49a\" class=\"plotly-graph-div\" style=\"height:525px; width:100%;\"></div>            <script type=\"text/javascript\">                require([\"plotly\"], function(Plotly) {                    window.PLOTLYENV=window.PLOTLYENV || {};                                    if (document.getElementById(\"80d89777-510a-4590-b178-4ddfcf30b49a\")) {                    Plotly.newPlot(                        \"80d89777-510a-4590-b178-4ddfcf30b49a\",                        [{\"hovertemplate\":\"<b>%{hovertext}</b><br><br>color=BULK<br>x=%{x}<br>y=%{y}<extra></extra>\",\"hovertext\":[\"BULK-P6-B2\",\"BULK-P6-B2\",\"BULK-P6-B2\",\"BULK-P6-B2\",\"BULK-P6-B2\",\"BULK-P6-B2\",\"BULK-P6-B2\",\"BULK-P6-B2\",\"BULK-P6-B2\",\"BULK-P6-B2\",\"BULK-P6-B2\",\"BULK-P6-B2\",\"BULK-P6-B2\",\"BULK-P6-B2\",\"BULK-P6-B2\",\"BULK-P6-B2\",\"BULK-P6-B2\",\"BULK-P6-B2\",\"BULK-P6-B2\",\"BULK-P6-B2\",\"BULK-P6-B2\",\"BULK-P6-B2\",\"BULK-P6-B2\",\"BULK-P6-B2\",\"BULK-P6-B2\",\"BULK-P6-B2\",\"BULK-P6-B2\",\"BULK-P6-B2\",\"BULK-P6-B2\",\"BULK-P6-B2\",\"BULK-P6-B2\",\"BULK-P6-B2\",\"BULK-P6-B2\",\"BULK-P6-B2\",\"BULK-P6-B2\",\"BULK-P6-B2\",\"BULK-P6-B2\",\"BULK-P6-B2\",\"BULK-P6-B2\",\"BULK-P6-B2\",\"BULK-P6-B2\",\"BULK-P6-B2\",\"BULK-P6-B2\",\"BULK-P6-B2\",\"BULK-P6-B2\",\"BULK-P6-B2\",\"BULK-P6-B2\",\"BULK-P6-B2\",\"BULK-P6-B2\",\"BULK-P6-B2\",\"BULK-P6-B2\",\"BULK-P6-B2\",\"BULK-P6-B2\",\"BULK-P6-B2\",\"BULK-P6-B2\",\"BULK-P6-B2\",\"BULK-P6-B2\",\"BULK-P6-B2\",\"BULK-P6-B2\",\"BULK-P6-B2\",\"BULK-P6-B2\",\"BULK-P6-B2\",\"BULK-P6-B2\",\"BULK-P6-B2\",\"BULK-P6-B2\",\"BULK-P6-B2\",\"BULK-P6-B2\",\"BULK-P6-B2\",\"BULK-P6-B2\",\"BULK-P6-B2\",\"BULK-P6-B2\",\"BULK-P6-B2\",\"BULK-P6-B2\",\"BULK-P6-B2\",\"BULK-P6-B2\",\"BULK-P6-B2\",\"BULK-P6-B2\",\"BULK-P6-B2\",\"BULK-P6-B2\",\"BULK-P6-B2\",\"BULK-P6-B2\",\"BULK-P6-B2\",\"BULK-P6-B2\",\"BULK-P6-B2\",\"BULK-P6-B2\",\"BULK-P6-B2\",\"BULK-P6-B2\",\"BULK-P6-B2\",\"BULK-P6-B2\",\"BULK-P6-B2\",\"BULK-P6-B2\",\"BULK-P6-B2\",\"BULK-P6-B2\",\"BULK-P6-B2\",\"BULK-P6-B2\",\"BULK-P6-B2\",\"BULK-P6-B2\",\"BULK-P6-B2\",\"BULK-P6-B2\",\"BULK-P6-B2\",\"BULK-P6-B2\",\"BULK-P6-B2\",\"BULK-P6-B2\",\"BULK-P6-B2\",\"BULK-P6-B2\",\"BULK-P6-B2\",\"BULK-P6-B2\",\"BULK-P6-B2\",\"BULK-P6-B2\",\"BULK-P6-B2\",\"BULK-P6-B2\",\"BULK-P6-B2\",\"BULK-P6-B2\",\"BULK-P6-B2\",\"BULK-P6-B2\",\"BULK-P6-B2\",\"BULK-P6-B2\",\"BULK-P6-B2\",\"BULK-P6-B2\",\"BULK-P6-B2\",\"BULK-P6-B2\",\"BULK-P6-B2\",\"BULK-P6-B2\",\"BULK-P6-B2\",\"BULK-P6-B2\",\"BULK-P6-B2\",\"BULK-P6-B2\",\"BULK-P6-B2\",\"BULK-P6-B2\",\"BULK-P6-B2\",\"BULK-P6-B2\",\"BULK-P6-B2\",\"BULK-P6-B2\",\"BULK-P6-B2\",\"BULK-P6-B2\",\"BULK-P6-B2\",\"BULK-P6-B2\",\"BULK-P6-B2\",\"BULK-P6-B2\",\"BULK-P6-B2\",\"BULK-P6-B2\",\"BULK-P6-B2\",\"BULK-P6-B2\",\"BULK-P6-B2\",\"BULK-P6-B2\"],\"legendgroup\":\"BULK\",\"marker\":{\"color\":\"#636efa\",\"symbol\":\"circle\"},\"mode\":\"markers\",\"name\":\"BULK\",\"orientation\":\"v\",\"showlegend\":true,\"x\":[\"2022-03-23T09:58:48\",\"2022-03-23T09:58:45\",\"2022-03-23T09:58:12\",\"2022-03-23T09:57:56\",\"2022-03-23T09:44:18\",\"2022-03-23T09:33:16\",\"2022-03-23T09:32:26\",\"2022-03-23T09:27:45\",\"2022-03-23T09:19:42\",\"2022-03-23T09:19:15\",\"2022-03-23T09:16:34\",\"2022-03-23T09:14:54\",\"2022-03-23T09:14:21\",\"2022-03-23T09:13:33\",\"2022-03-23T09:02:28\",\"2022-03-23T09:00:51\",\"2022-03-23T08:56:27\",\"2022-03-23T08:53:42\",\"2022-03-23T08:53:29\",\"2022-03-23T07:55:49\",\"2022-03-23T07:34:43\",\"2022-03-23T07:33:47\",\"2022-03-23T07:32:51\",\"2022-03-23T06:50:25\",\"2022-03-23T06:10:29\",\"2022-03-23T06:05:35\",\"2022-03-23T05:50:30\",\"2022-03-23T05:42:39\",\"2022-03-23T05:41:06\",\"2022-03-23T05:35:45\",\"2022-03-23T05:05:14\",\"2022-03-23T05:00:28\",\"2022-03-23T04:02:33\",\"2022-03-23T03:56:48\",\"2022-03-23T03:54:31\",\"2022-03-23T02:56:28\",\"2022-03-23T02:52:54\",\"2022-03-23T02:50:52\",\"2022-03-23T02:39:38\",\"2022-03-23T02:39:06\",\"2022-03-23T02:25:08\",\"2022-03-23T01:53:09\",\"2022-03-23T01:39:10\",\"2022-03-23T01:38:03\",\"2022-03-23T01:36:47\",\"2022-03-23T01:36:37\",\"2022-03-23T01:36:24\",\"2022-03-23T01:31:50\",\"2022-03-23T01:31:40\",\"2022-03-23T01:16:07\",\"2022-03-23T01:14:23\",\"2022-03-23T01:12:57\",\"2022-03-23T00:15:10\",\"2022-03-22T23:29:20\",\"2022-03-22T23:27:16\",\"2022-03-22T23:17:52\",\"2022-03-22T23:07:25\",\"2022-03-22T22:26:24\",\"2022-03-22T22:24:13\",\"2022-03-22T22:03:31\",\"2022-03-22T22:01:27\",\"2022-03-22T21:58:37\",\"2022-03-22T21:47:42\",\"2022-03-22T21:46:53\",\"2022-03-22T21:46:53\",\"2022-03-22T21:19:37\",\"2022-03-22T21:19:08\",\"2022-03-22T21:18:43\",\"2022-03-22T20:59:16\",\"2022-03-22T20:57:46\",\"2022-03-22T20:57:06\",\"2022-03-22T20:21:02\",\"2022-03-22T20:18:38\",\"2022-03-22T20:13:26\",\"2022-03-22T20:12:52\",\"2022-03-22T20:05:36\",\"2022-03-22T20:02:11\",\"2022-03-22T20:01:57\",\"2022-03-22T19:59:30\",\"2022-03-22T19:53:12\",\"2022-03-22T19:53:02\",\"2022-03-22T19:34:07\",\"2022-03-22T19:27:31\",\"2022-03-22T19:14:08\",\"2022-03-22T19:13:59\",\"2022-03-22T19:13:43\",\"2022-03-22T19:09:54\",\"2022-03-22T19:07:54\",\"2022-03-22T18:02:38\",\"2022-03-22T17:56:43\",\"2022-03-22T17:54:06\",\"2022-03-22T17:08:01\",\"2022-03-22T17:01:11\",\"2022-03-22T16:47:16\",\"2022-03-22T16:47:06\",\"2022-03-22T16:46:53\",\"2022-03-22T16:46:10\",\"2022-03-22T16:45:45\",\"2022-03-22T16:45:09\",\"2022-03-22T16:41:39\",\"2022-03-22T16:27:25\",\"2022-03-22T16:05:29\",\"2022-03-22T16:03:41\",\"2022-03-22T15:36:16\",\"2022-03-22T15:26:39\",\"2022-03-22T15:02:39\",\"2022-03-22T14:55:40\",\"2022-03-22T14:40:12\",\"2022-03-22T14:39:40\",\"2022-03-22T14:39:08\",\"2022-03-22T14:38:38\",\"2022-03-22T14:31:47\",\"2022-03-22T14:25:29\",\"2022-03-22T14:17:47\",\"2022-03-22T14:01:02\",\"2022-03-22T14:00:44\",\"2022-03-22T13:53:17\",\"2022-03-22T13:52:44\",\"2022-03-22T13:50:54\",\"2022-03-22T13:42:57\",\"2022-03-22T12:54:14\",\"2022-03-22T12:45:40\",\"2022-03-22T12:42:13\",\"2022-03-22T12:42:12\",\"2022-03-22T12:14:11\",\"2022-03-22T12:06:18\",\"2022-03-22T12:05:49\",\"2022-03-22T12:05:21\",\"2022-03-22T12:04:53\",\"2022-03-22T12:04:29\",\"2022-03-22T12:03:33\",\"2022-03-22T12:03:14\",\"2022-03-22T12:02:57\",\"2022-03-22T12:02:25\",\"2022-03-22T12:02:00\",\"2022-03-22T12:01:43\",\"2022-03-22T12:01:13\",\"2022-03-22T12:00:21\",\"2022-03-22T12:00:00\",\"2022-03-22T11:57:29\",\"2022-03-22T11:57:02\",\"2022-03-22T11:56:32\",\"2022-03-22T11:56:08\",\"2022-03-22T11:55:42\",\"2022-03-22T11:55:14\"],\"xaxis\":\"x\",\"y\":[15899.0,15999.0,15750.0,15619.999999999998,15899.0,24999.999999999996,24999.999999999996,15399.0,15199.0,15299.0,15499.0,15998.0,15998.0,15998.0,15799.0,19600.0,16497.0,25100.0,24999.0,15799.0,15900.000000000002,15855.0,15779.999999999998,15998.0,15539.0,15539.0,15900.000000000002,15539.0,15539.0,15600.0,15800.0,15750.0,17450.0,16499.0,16200.0,16499.0,16499.0,16498.0,16495.0,16498.0,16350.0,16300.000000000002,16300.000000000002,16300.000000000002,16200.0,16200.0,16199.0,16190.0,16179.999999999998,16192.0,16193.0,16179.999999999998,16195.0,15999.0,16300.000000000002,15999.0,15939.999999999998,16250.0,24999.999999999996,16250.0,16199.0,16099.999999999998,16099.999999999998,16000.0,16000.0,15400.0,15600.0,15500.000000000002,16099.999999999998,16099.999999999998,16099.0,17700.0,17400.0,17500.0,17500.0,16259.999999999998,15800.0,15800.0,15799.0,15699.0,15699.0,15705.0,15699.999999999998,15800.0,16999.0,15799.0,15989.0,24899.0,15989.0,24899.0,16160.0,16099.999999999998,16497.0,15999.0,15999.0,15999.0,15999.0,15999.0,15987.999999999998,15975.0,15987.999999999998,15849.0,16999.0,15999.0,15979.0,16250.0,15996.000000000002,15990.0,15990.0,15990.0,15990.0,15990.0,15960.0,15896.0,15899.0,15896.0,15899.0,15899.0,15899.0,15890.0,15899.0,15990.0,15999.0,15990.0,15999.0,15999.0,15999.0,15999.0,15999.0,15999.0,15999.0,15998.0,15996.000000000002,15900.000000000002,15900.000000000002,15900.000000000002,15899.0,15899.0,15699.999999999998,15699.999999999998,15699.999999999998,15699.999999999998,15699.0,15680.0,15680.0],\"yaxis\":\"y\",\"type\":\"scatter\"},{\"hovertemplate\":\"<b>%{hovertext}</b><br><br>color=SUNKEN<br>x=%{x}<br>y=%{y}<extra></extra>\",\"hovertext\":[\"SUNKEN-P6-B2\",\"SUNKEN-P6-B2\",\"SUNKEN-P6-B2\",\"SUNKEN-P6-B2\",\"SUNKEN-P6-B2\",\"SUNKEN-P6-B2\",\"SUNKEN-P6-B2\",\"SUNKEN-P6-B2\",\"SUNKEN-P6-B2\",\"SUNKEN-P6-B2\",\"SUNKEN-P6-B2\"],\"legendgroup\":\"SUNKEN\",\"marker\":{\"color\":\"#EF553B\",\"symbol\":\"circle\"},\"mode\":\"markers\",\"name\":\"SUNKEN\",\"orientation\":\"v\",\"showlegend\":true,\"x\":[\"2022-03-23T09:57:20\",\"2022-03-23T09:56:50\",\"2022-03-23T09:35:31\",\"2022-03-23T09:26:14\",\"2022-03-23T09:03:03\",\"2022-03-23T08:48:15\",\"2022-03-23T08:45:58\",\"2022-03-23T08:32:25\",\"2022-03-22T19:25:49\",\"2022-03-22T19:25:35\",\"2022-03-22T18:15:32\"],\"xaxis\":\"x\",\"y\":[17590.0,17590.0,17690.0,17700.0,31399.0,29998.999999999996,29998.999999999996,29998.999999999996,32000.0,31950.0,32999.0],\"yaxis\":\"y\",\"type\":\"scatter\"},{\"hovertemplate\":\"<b>%{hovertext}</b><br><br>color=RUINED<br>x=%{x}<br>y=%{y}<extra></extra>\",\"hovertext\":[\"RUINED-P6-B2\",\"RUINED-P6-B2\",\"RUINED-P6-B2\",\"RUINED-P6-B2\",\"RUINED-P6-B2\",\"RUINED-P6-B2\",\"RUINED-P6-B2\",\"RUINED-P6-B2\",\"RUINED-P6-B2\",\"RUINED-P6-B2\"],\"legendgroup\":\"RUINED\",\"marker\":{\"color\":\"#00cc96\",\"symbol\":\"circle\"},\"mode\":\"markers\",\"name\":\"RUINED\",\"orientation\":\"v\",\"showlegend\":true,\"x\":[\"2022-03-23T09:51:33\",\"2022-03-23T09:50:55\",\"2022-03-23T07:08:59\",\"2022-03-23T01:56:08\",\"2022-03-23T00:39:30\",\"2022-03-22T23:56:13\",\"2022-03-22T20:33:08\",\"2022-03-22T18:35:35\",\"2022-03-22T15:58:31\",\"2022-03-22T13:36:55\"],\"xaxis\":\"x\",\"y\":[38600.0,37777.0,17999.0,18400.0,30025.0,18750.0,18900.0,18100.0,16999.0,18500.0],\"yaxis\":\"y\",\"type\":\"scatter\"},{\"hovertemplate\":\"<b>%{hovertext}</b><br><br>color=GEM<br>x=%{x}<br>y=%{y}<extra></extra>\",\"hovertext\":[\"GEM-P6-B2\",\"GEM-P6-B2\",\"GEM-P6-B2\",\"GEM-P6-B2\",\"GEM-P6-B2\",\"GEM-P6-B2\",\"GEM-P6-B2\",\"GEM-P6-B2\",\"GEM-P6-B2\",\"GEM-P6-B2\",\"GEM-P6-B2\",\"GEM-P6-B2\",\"GEM-P6-B2\",\"GEM-P6-B2\",\"GEM-P6-B2\",\"GEM-P6-B2\",\"GEM-P6-B2\",\"GEM-P6-B2\",\"GEM-P6-B2\",\"GEM-P6-B2\",\"GEM-P6-B2\",\"GEM-P6-B2\",\"GEM-P6-B2\",\"GEM-P6-B2\",\"GEM-P6-B2\",\"GEM-P6-B2\",\"GEM-P6-B2\",\"GEM-P6-B2\",\"GEM-P6-B2\",\"GEM-P6-B2\",\"GEM-P6-B2\",\"GEM-P6-B2\",\"GEM-P6-B2\",\"GEM-P6-B2\",\"GEM-P6-B2\",\"GEM-P6-B2\",\"GEM-P6-B2\",\"GEM-P6-B2\",\"GEM-P6-B2\",\"GEM-P6-B2\",\"GEM-P6-B2\",\"GEM-P6-B2\",\"GEM-P6-B2\",\"GEM-P6-B2\",\"GEM-P6-B2\",\"GEM-P6-B2\",\"GEM-P6-B2\",\"GEM-P6-B2\",\"GEM-P6-B2\",\"GEM-P6-B2\",\"GEM-P6-B2\",\"GEM-P6-B2\",\"GEM-P6-B2\",\"GEM-P6-B2\",\"GEM-P6-B2\",\"GEM-P6-B2\",\"GEM-P6-B2\",\"GEM-P6-B2\",\"GEM-P6-B2\",\"GEM-P6-B2\",\"GEM-P6-B2\",\"GEM-P6-B2\",\"GEM-P6-B2\",\"GEM-P6-B2\",\"GEM-P6-B2\",\"GEM-P6-B2\",\"GEM-P6-B2\",\"GEM-P6-B2\",\"GEM-P6-B2\",\"GEM-P6-B2\",\"GEM-P6-B2\",\"GEM-P6-B2\",\"GEM-P6-B2\",\"GEM-P6-B2\",\"GEM-P6-B2\",\"GEM-P6-B2\",\"GEM-P6-B2\",\"GEM-P6-B2\"],\"legendgroup\":\"GEM\",\"marker\":{\"color\":\"#ab63fa\",\"symbol\":\"circle\"},\"mode\":\"markers\",\"name\":\"GEM\",\"orientation\":\"v\",\"showlegend\":true,\"x\":[\"2022-03-23T09:36:22\",\"2022-03-23T09:31:02\",\"2022-03-23T09:04:36\",\"2022-03-23T09:03:48\",\"2022-03-23T08:50:08\",\"2022-03-23T08:29:20\",\"2022-03-23T07:53:39\",\"2022-03-23T07:01:53\",\"2022-03-23T07:00:45\",\"2022-03-23T07:00:29\",\"2022-03-23T06:59:44\",\"2022-03-23T06:58:19\",\"2022-03-23T06:56:53\",\"2022-03-23T06:48:41\",\"2022-03-23T06:46:47\",\"2022-03-23T06:13:37\",\"2022-03-23T06:00:11\",\"2022-03-23T05:57:49\",\"2022-03-23T05:57:06\",\"2022-03-23T03:59:09\",\"2022-03-23T03:57:52\",\"2022-03-23T03:20:01\",\"2022-03-23T03:18:36\",\"2022-03-23T02:59:35\",\"2022-03-23T02:41:25\",\"2022-03-23T02:37:44\",\"2022-03-23T02:36:21\",\"2022-03-23T02:35:12\",\"2022-03-23T02:34:34\",\"2022-03-23T02:28:02\",\"2022-03-23T01:53:59\",\"2022-03-23T01:33:26\",\"2022-03-23T01:32:31\",\"2022-03-23T01:02:23\",\"2022-03-23T00:59:45\",\"2022-03-23T00:56:28\",\"2022-03-22T23:49:56\",\"2022-03-22T23:48:05\",\"2022-03-22T22:10:46\",\"2022-03-22T22:01:33\",\"2022-03-22T21:57:59\",\"2022-03-22T21:57:52\",\"2022-03-22T21:57:41\",\"2022-03-22T21:57:33\",\"2022-03-22T21:56:58\",\"2022-03-22T21:41:35\",\"2022-03-22T21:41:32\",\"2022-03-22T20:58:34\",\"2022-03-22T20:30:33\",\"2022-03-22T20:13:04\",\"2022-03-22T19:14:53\",\"2022-03-22T19:13:33\",\"2022-03-22T19:05:50\",\"2022-03-22T19:04:56\",\"2022-03-22T18:25:45\",\"2022-03-22T18:24:18\",\"2022-03-22T18:12:11\",\"2022-03-22T17:35:59\",\"2022-03-22T17:08:07\",\"2022-03-22T16:59:12\",\"2022-03-22T16:21:09\",\"2022-03-22T16:20:56\",\"2022-03-22T16:20:38\",\"2022-03-22T16:04:13\",\"2022-03-22T16:03:37\",\"2022-03-22T15:46:35\",\"2022-03-22T15:06:15\",\"2022-03-22T14:59:11\",\"2022-03-22T14:56:37\",\"2022-03-22T14:56:12\",\"2022-03-22T14:32:31\",\"2022-03-22T14:21:14\",\"2022-03-22T14:20:48\",\"2022-03-22T14:18:13\",\"2022-03-22T14:18:09\",\"2022-03-22T13:35:10\",\"2022-03-22T12:55:56\",\"2022-03-22T12:54:55\"],\"xaxis\":\"x\",\"y\":[17099.0,17000.0,17240.0,17199.0,16999.0,16899.0,16899.0,17000.0,16899.0,16899.0,16899.0,16899.0,16800.0,16899.0,16899.0,16899.0,16899.0,16899.0,16899.0,17199.0,16950.0,16950.0,16900.0,16900.0,16800.0,16800.0,16700.0,16700.0,16690.0,16699.0,16697.0,16600.0,16500.0,17199.0,16800.0,16698.0,16479.0,16479.0,16600.0,16450.0,16420.0,16450.0,16420.0,16420.0,16369.0,16369.0,16369.0,16479.0,16470.0,16470.0,16400.0,16400.0,16550.0,16570.0,16550.0,16570.0,16699.0,16640.0,16650.0,16650.0,26798.999999999996,16700.0,26750.0,17600.0,16798.0,26999.0,27177.0,16666.0,16666.0,16650.0,16300.000000000002,16666.0,16666.0,16666.0,16666.0,16666.0,16800.0,16799.0],\"yaxis\":\"y\",\"type\":\"scatter\"},{\"hovertemplate\":\"<b>%{hovertext}</b><br><br>color=PRIME<br>x=%{x}<br>y=%{y}<extra></extra>\",\"hovertext\":[\"PRIME-P6-B2\",\"PRIME-P6-B2\",\"PRIME-P6-B2\",\"PRIME-P6-B2\",\"PRIME-P6-B2\",\"PRIME-P6-B2\",\"PRIME-P6-B2\",\"PRIME-P6-B2\",\"PRIME-P6-B2\",\"PRIME-P6-B2\",\"PRIME-P6-B2\",\"PRIME-P6-B2\",\"PRIME-P6-B2\",\"PRIME-P6-B2\",\"PRIME-P6-B2\",\"PRIME-P6-B2\",\"PRIME-P6-B2\",\"PRIME-P6-B2\",\"PRIME-P6-B2\",\"PRIME-P6-B2\",\"PRIME-P6-B2\",\"PRIME-P6-B2\",\"PRIME-P6-B2\",\"PRIME-P6-B2\",\"PRIME-P6-B2\",\"PRIME-P6-B2\",\"PRIME-P6-B2\",\"PRIME-P6-B2\",\"PRIME-P6-B2\",\"PRIME-P6-B2\",\"PRIME-P6-B2\",\"PRIME-P6-B2\",\"PRIME-P6-B2\",\"PRIME-P6-B2\",\"PRIME-P6-B2\",\"PRIME-P6-B2\",\"PRIME-P6-B2\",\"PRIME-P6-B2\",\"PRIME-P6-B2\",\"PRIME-P6-B2\",\"PRIME-P6-B2\",\"PRIME-P6-B2\",\"PRIME-P6-B2\",\"PRIME-P6-B2\",\"PRIME-P6-B2\",\"PRIME-P6-B2\",\"PRIME-P6-B2\",\"PRIME-P6-B2\",\"PRIME-P6-B2\",\"PRIME-P6-B2\",\"PRIME-P6-B2\",\"PRIME-P6-B2\",\"PRIME-P6-B2\",\"PRIME-P6-B2\",\"PRIME-P6-B2\",\"PRIME-P6-B2\",\"PRIME-P6-B2\",\"PRIME-P6-B2\",\"PRIME-P6-B2\",\"PRIME-P6-B2\",\"PRIME-P6-B2\",\"PRIME-P6-B2\",\"PRIME-P6-B2\",\"PRIME-P6-B2\",\"PRIME-P6-B2\",\"PRIME-P6-B2\",\"PRIME-P6-B2\",\"PRIME-P6-B2\",\"PRIME-P6-B2\",\"PRIME-P6-B2\",\"PRIME-P6-B2\",\"PRIME-P6-B2\",\"PRIME-P6-B2\",\"PRIME-P6-B2\",\"PRIME-P6-B2\",\"PRIME-P6-B2\",\"PRIME-P6-B2\",\"PRIME-P6-B2\",\"PRIME-P6-B2\",\"PRIME-P6-B2\",\"PRIME-P6-B2\",\"PRIME-P6-B2\",\"PRIME-P6-B2\",\"PRIME-P6-B2\",\"PRIME-P6-B2\",\"PRIME-P6-B2\",\"PRIME-P6-B2\",\"PRIME-P6-B2\",\"PRIME-P6-B2\",\"PRIME-P6-B2\",\"PRIME-P6-B2\",\"PRIME-P6-B2\",\"PRIME-P6-B2\",\"PRIME-P6-B2\",\"PRIME-P6-B2\",\"PRIME-P6-B2\",\"PRIME-P6-B2\",\"PRIME-P6-B2\",\"PRIME-P6-B2\",\"PRIME-P6-B2\",\"PRIME-P6-B2\",\"PRIME-P6-B2\",\"PRIME-P6-B2\",\"PRIME-P6-B2\",\"PRIME-P6-B2\",\"PRIME-P6-B2\",\"PRIME-P6-B2\",\"PRIME-P6-B2\",\"PRIME-P6-B2\",\"PRIME-P6-B2\",\"PRIME-P6-B2\",\"PRIME-P6-B2\",\"PRIME-P6-B2\",\"PRIME-P6-B2\",\"PRIME-P6-B2\",\"PRIME-P6-B2\",\"PRIME-P6-B2\",\"PRIME-P6-B2\",\"PRIME-P6-B2\",\"PRIME-P6-B2\",\"PRIME-P6-B2\",\"PRIME-P6-B2\",\"PRIME-P6-B2\"],\"legendgroup\":\"PRIME\",\"marker\":{\"color\":\"#FFA15A\",\"symbol\":\"circle\"},\"mode\":\"markers\",\"name\":\"PRIME\",\"orientation\":\"v\",\"showlegend\":true,\"x\":[\"2022-03-23T09:35:03\",\"2022-03-23T09:28:07\",\"2022-03-23T09:08:51\",\"2022-03-23T08:57:22\",\"2022-03-23T08:56:37\",\"2022-03-23T08:53:54\",\"2022-03-23T08:53:02\",\"2022-03-23T08:52:05\",\"2022-03-23T08:23:44\",\"2022-03-23T08:22:32\",\"2022-03-23T08:15:06\",\"2022-03-23T07:51:59\",\"2022-03-23T07:50:51\",\"2022-03-23T07:48:32\",\"2022-03-23T07:33:24\",\"2022-03-23T07:25:36\",\"2022-03-23T07:16:20\",\"2022-03-23T06:31:56\",\"2022-03-23T06:00:34\",\"2022-03-23T05:59:49\",\"2022-03-23T05:59:29\",\"2022-03-23T05:59:09\",\"2022-03-23T05:58:53\",\"2022-03-23T04:19:45\",\"2022-03-23T04:17:24\",\"2022-03-23T04:07:35\",\"2022-03-23T04:02:24\",\"2022-03-23T03:49:13\",\"2022-03-23T03:43:08\",\"2022-03-23T03:34:30\",\"2022-03-23T03:31:54\",\"2022-03-23T03:21:14\",\"2022-03-23T03:07:50\",\"2022-03-23T03:07:05\",\"2022-03-23T02:52:38\",\"2022-03-23T02:23:30\",\"2022-03-23T01:55:43\",\"2022-03-23T01:55:19\",\"2022-03-23T00:50:26\",\"2022-03-23T00:06:58\",\"2022-03-23T00:05:10\",\"2022-03-23T00:01:21\",\"2022-03-22T23:37:36\",\"2022-03-22T22:47:23\",\"2022-03-22T22:31:38\",\"2022-03-22T22:12:11\",\"2022-03-22T22:01:41\",\"2022-03-22T21:48:08\",\"2022-03-22T21:47:26\",\"2022-03-22T21:45:15\",\"2022-03-22T21:44:35\",\"2022-03-22T21:44:08\",\"2022-03-22T21:14:18\",\"2022-03-22T21:08:30\",\"2022-03-22T21:05:52\",\"2022-03-22T21:04:33\",\"2022-03-22T21:01:46\",\"2022-03-22T21:00:07\",\"2022-03-22T20:57:48\",\"2022-03-22T20:57:17\",\"2022-03-22T20:55:53\",\"2022-03-22T20:52:06\",\"2022-03-22T20:49:55\",\"2022-03-22T20:40:47\",\"2022-03-22T20:40:39\",\"2022-03-22T20:36:14\",\"2022-03-22T20:35:50\",\"2022-03-22T20:35:37\",\"2022-03-22T20:35:17\",\"2022-03-22T20:33:47\",\"2022-03-22T20:33:12\",\"2022-03-22T20:32:39\",\"2022-03-22T20:31:37\",\"2022-03-22T20:28:44\",\"2022-03-22T20:20:38\",\"2022-03-22T20:08:26\",\"2022-03-22T20:03:39\",\"2022-03-22T20:03:05\",\"2022-03-22T19:59:54\",\"2022-03-22T19:59:24\",\"2022-03-22T19:58:37\",\"2022-03-22T19:57:23\",\"2022-03-22T19:56:36\",\"2022-03-22T19:56:08\",\"2022-03-22T19:53:50\",\"2022-03-22T19:41:05\",\"2022-03-22T19:26:38\",\"2022-03-22T19:13:07\",\"2022-03-22T18:52:05\",\"2022-03-22T18:23:16\",\"2022-03-22T18:03:46\",\"2022-03-22T17:56:20\",\"2022-03-22T17:56:08\",\"2022-03-22T17:37:32\",\"2022-03-22T17:29:40\",\"2022-03-22T17:23:07\",\"2022-03-22T17:07:21\",\"2022-03-22T16:57:54\",\"2022-03-22T16:55:45\",\"2022-03-22T16:50:17\",\"2022-03-22T16:41:21\",\"2022-03-22T16:39:45\",\"2022-03-22T16:33:46\",\"2022-03-22T15:17:17\",\"2022-03-22T14:49:37\",\"2022-03-22T14:45:18\",\"2022-03-22T13:55:46\",\"2022-03-22T13:36:11\",\"2022-03-22T13:35:00\",\"2022-03-22T13:21:41\",\"2022-03-22T13:18:57\",\"2022-03-22T13:17:06\",\"2022-03-22T13:10:13\",\"2022-03-22T13:06:27\",\"2022-03-22T12:51:21\",\"2022-03-22T12:16:53\",\"2022-03-22T12:13:25\",\"2022-03-22T12:13:17\",\"2022-03-22T12:13:05\",\"2022-03-22T12:12:07\",\"2022-03-22T11:53:36\",\"2022-03-22T11:52:20\",\"2022-03-22T11:44:18\"],\"xaxis\":\"x\",\"y\":[37000.0,17800.0,17987.0,17987.0,17988.0,17899.0,17899.0,17850.0,17850.0,17899.0,17950.0,17949.0,17849.0,17848.0,17987.0,17949.0,17949.0,17988.0,17949.0,31799.0,31750.0,31690.0,31680.0,18500.0,18490.0,18443.0,18442.0,18442.0,18430.0,17999.0,17999.0,17999.0,17999.0,17999.0,17775.0,31888.0,33333.0,33299.0,17770.0,17999.0,17899.0,17350.0,17999.0,17420.0,17999.0,17555.0,17490.0,17500.0,17500.0,17999.0,17555.0,17999.0,17300.0,17999.0,17000.0,17000.0,34800.0,17377.0,17377.0,17999.0,17999.0,17400.0,17333.0,17444.0,17599.0,17599.0,17599.0,17499.0,17999.0,17499.0,17599.0,17599.0,17499.0,17499.0,17599.0,18440.0,17999.0,17999.0,17750.0,17750.0,29998.999999999996,17999.0,33999.0,34000.0,17989.0,18440.0,18336.0,18336.0,18443.0,21111.0,18499.0,18499.0,18499.0,18750.0,18600.0,29998.0,18600.0,18750.0,19800.000000000004,19000.000000000004,19000.000000000004,18500.0,18999.0,18780.0,17999.0,17999.0,17999.0,17999.0,17990.0,17700.0,17500.0,17444.0,17444.0,17999.0,17400.0,17999.0,17399.0,17399.0,17399.0,17998.0,17399.0,17380.0,17999.0],\"yaxis\":\"y\",\"type\":\"scatter\"},{\"hovertemplate\":\"<b>%{hovertext}</b><br><br>color=CRABOID<br>x=%{x}<br>y=%{y}<extra></extra>\",\"hovertext\":[\"CRABOID-P6-B2\",\"CRABOID-P6-B2\",\"CRABOID-P6-B2\",\"CRABOID-P6-B2\",\"CRABOID-P6-B2\",\"CRABOID-P6-B2\",\"CRABOID-P6-B2\",\"CRABOID-P6-B2\",\"CRABOID-P6-B2\",\"CRABOID-P6-B2\",\"CRABOID-P6-B2\",\"CRABOID-P6-B2\",\"CRABOID-P6-B2\",\"CRABOID-P6-B2\",\"CRABOID-P6-B2\",\"CRABOID-P6-B2\",\"CRABOID-P6-B2\",\"CRABOID-P6-B2\",\"CRABOID-P6-B2\",\"CRABOID-P6-B2\",\"CRABOID-P6-B2\",\"CRABOID-P6-B2\",\"CRABOID-P6-B2\",\"CRABOID-P6-B2\",\"CRABOID-P6-B2\",\"CRABOID-P6-B2\",\"CRABOID-P6-B2\",\"CRABOID-P6-B2\",\"CRABOID-P6-B2\",\"CRABOID-P6-B2\",\"CRABOID-P6-B2\",\"CRABOID-P6-B2\",\"CRABOID-P6-B2\",\"CRABOID-P6-B2\",\"CRABOID-P6-B2\",\"CRABOID-P6-B2\",\"CRABOID-P6-B2\",\"CRABOID-P6-B2\",\"CRABOID-P6-B2\",\"CRABOID-P6-B2\",\"CRABOID-P6-B2\",\"CRABOID-P6-B2\",\"CRABOID-P6-B2\",\"CRABOID-P6-B2\",\"CRABOID-P6-B2\",\"CRABOID-P6-B2\",\"CRABOID-P6-B2\",\"CRABOID-P6-B2\",\"CRABOID-P6-B2\",\"CRABOID-P6-B2\",\"CRABOID-P6-B2\",\"CRABOID-P6-B2\",\"CRABOID-P6-B2\",\"CRABOID-P6-B2\",\"CRABOID-P6-B2\",\"CRABOID-P6-B2\",\"CRABOID-P6-B2\",\"CRABOID-P6-B2\",\"CRABOID-P6-B2\",\"CRABOID-P6-B2\",\"CRABOID-P6-B2\",\"CRABOID-P6-B2\",\"CRABOID-P6-B2\",\"CRABOID-P6-B2\",\"CRABOID-P6-B2\"],\"legendgroup\":\"CRABOID\",\"marker\":{\"color\":\"#19d3f3\",\"symbol\":\"circle\"},\"mode\":\"markers\",\"name\":\"CRABOID\",\"orientation\":\"v\",\"showlegend\":true,\"x\":[\"2022-03-23T09:06:41\",\"2022-03-23T09:05:35\",\"2022-03-23T08:59:42\",\"2022-03-23T08:58:29\",\"2022-03-23T08:57:42\",\"2022-03-23T08:55:35\",\"2022-03-23T08:47:13\",\"2022-03-23T07:18:32\",\"2022-03-23T07:05:26\",\"2022-03-23T05:11:10\",\"2022-03-23T05:02:37\",\"2022-03-23T04:26:35\",\"2022-03-23T03:44:06\",\"2022-03-23T03:18:30\",\"2022-03-23T03:15:58\",\"2022-03-23T03:12:32\",\"2022-03-23T01:36:29\",\"2022-03-23T01:11:20\",\"2022-03-23T01:08:58\",\"2022-03-23T00:42:27\",\"2022-03-23T00:26:52\",\"2022-03-22T22:37:13\",\"2022-03-22T22:23:55\",\"2022-03-22T21:48:11\",\"2022-03-22T21:43:24\",\"2022-03-22T21:00:47\",\"2022-03-22T20:57:38\",\"2022-03-22T20:21:28\",\"2022-03-22T20:18:14\",\"2022-03-22T19:34:37\",\"2022-03-22T19:34:17\",\"2022-03-22T19:19:38\",\"2022-03-22T19:15:15\",\"2022-03-22T19:13:55\",\"2022-03-22T19:05:08\",\"2022-03-22T19:02:35\",\"2022-03-22T19:02:07\",\"2022-03-22T19:02:05\",\"2022-03-22T19:01:12\",\"2022-03-22T19:00:35\",\"2022-03-22T18:40:43\",\"2022-03-22T18:04:38\",\"2022-03-22T18:00:12\",\"2022-03-22T17:57:41\",\"2022-03-22T17:37:25\",\"2022-03-22T17:36:41\",\"2022-03-22T17:36:01\",\"2022-03-22T17:33:57\",\"2022-03-22T16:07:10\",\"2022-03-22T15:59:24\",\"2022-03-22T15:20:55\",\"2022-03-22T15:17:33\",\"2022-03-22T15:05:55\",\"2022-03-22T15:05:23\",\"2022-03-22T15:05:14\",\"2022-03-22T15:02:51\",\"2022-03-22T15:02:39\",\"2022-03-22T13:48:26\",\"2022-03-22T13:39:10\",\"2022-03-22T13:24:39\",\"2022-03-22T13:13:41\",\"2022-03-22T12:32:54\",\"2022-03-22T12:32:54\",\"2022-03-22T12:32:26\",\"2022-03-22T12:01:09\"],\"xaxis\":\"x\",\"y\":[18400.0,18166.0,18166.0,18200.0,18166.0,18166.0,18800.0,18300.0,18000.0,18800.0,18551.0,18799.0,18650.0,18999.0,18550.0,18549.0,18548.0,18850.0,18849.0,18651.0,18449.0,19189.0,18849.0,18800.0,18500.0,18849.0,18800.0,33999.0,18869.0,39990.0,34999.0,18826.0,33333.0,31998.999999999996,18799.0,18849.0,18840.0,18775.0,31990.0,18800.0,18825.0,18840.0,18849.0,18820.0,31900.0,18799.0,18790.0,31997.0,19150.0,18850.0,18699.0,18599.0,18599.0,18699.0,18669.0,18550.0,18550.0,18699.0,18699.0,18699.0,18699.0,18699.0,18650.0,18649.0,18650.0],\"yaxis\":\"y\",\"type\":\"scatter\"},{\"hovertemplate\":\"<b>%{hovertext}</b><br><br>color=ORGANIC<br>x=%{x}<br>y=%{y}<extra></extra>\",\"hovertext\":[\"ORGANIC-P6-B2\"],\"legendgroup\":\"ORGANIC\",\"marker\":{\"color\":\"#FF6692\",\"symbol\":\"circle\"},\"mode\":\"markers\",\"name\":\"ORGANIC\",\"orientation\":\"v\",\"showlegend\":true,\"x\":[\"2022-03-23T04:56:05\"],\"xaxis\":\"x\",\"y\":[24999.999999999996],\"yaxis\":\"y\",\"type\":\"scatter\"}],                        {\"template\":{\"data\":{\"bar\":[{\"error_x\":{\"color\":\"#2a3f5f\"},\"error_y\":{\"color\":\"#2a3f5f\"},\"marker\":{\"line\":{\"color\":\"#E5ECF6\",\"width\":0.5},\"pattern\":{\"fillmode\":\"overlay\",\"size\":10,\"solidity\":0.2}},\"type\":\"bar\"}],\"barpolar\":[{\"marker\":{\"line\":{\"color\":\"#E5ECF6\",\"width\":0.5},\"pattern\":{\"fillmode\":\"overlay\",\"size\":10,\"solidity\":0.2}},\"type\":\"barpolar\"}],\"carpet\":[{\"aaxis\":{\"endlinecolor\":\"#2a3f5f\",\"gridcolor\":\"white\",\"linecolor\":\"white\",\"minorgridcolor\":\"white\",\"startlinecolor\":\"#2a3f5f\"},\"baxis\":{\"endlinecolor\":\"#2a3f5f\",\"gridcolor\":\"white\",\"linecolor\":\"white\",\"minorgridcolor\":\"white\",\"startlinecolor\":\"#2a3f5f\"},\"type\":\"carpet\"}],\"choropleth\":[{\"colorbar\":{\"outlinewidth\":0,\"ticks\":\"\"},\"type\":\"choropleth\"}],\"contour\":[{\"colorbar\":{\"outlinewidth\":0,\"ticks\":\"\"},\"colorscale\":[[0.0,\"#0d0887\"],[0.1111111111111111,\"#46039f\"],[0.2222222222222222,\"#7201a8\"],[0.3333333333333333,\"#9c179e\"],[0.4444444444444444,\"#bd3786\"],[0.5555555555555556,\"#d8576b\"],[0.6666666666666666,\"#ed7953\"],[0.7777777777777778,\"#fb9f3a\"],[0.8888888888888888,\"#fdca26\"],[1.0,\"#f0f921\"]],\"type\":\"contour\"}],\"contourcarpet\":[{\"colorbar\":{\"outlinewidth\":0,\"ticks\":\"\"},\"type\":\"contourcarpet\"}],\"heatmap\":[{\"colorbar\":{\"outlinewidth\":0,\"ticks\":\"\"},\"colorscale\":[[0.0,\"#0d0887\"],[0.1111111111111111,\"#46039f\"],[0.2222222222222222,\"#7201a8\"],[0.3333333333333333,\"#9c179e\"],[0.4444444444444444,\"#bd3786\"],[0.5555555555555556,\"#d8576b\"],[0.6666666666666666,\"#ed7953\"],[0.7777777777777778,\"#fb9f3a\"],[0.8888888888888888,\"#fdca26\"],[1.0,\"#f0f921\"]],\"type\":\"heatmap\"}],\"heatmapgl\":[{\"colorbar\":{\"outlinewidth\":0,\"ticks\":\"\"},\"colorscale\":[[0.0,\"#0d0887\"],[0.1111111111111111,\"#46039f\"],[0.2222222222222222,\"#7201a8\"],[0.3333333333333333,\"#9c179e\"],[0.4444444444444444,\"#bd3786\"],[0.5555555555555556,\"#d8576b\"],[0.6666666666666666,\"#ed7953\"],[0.7777777777777778,\"#fb9f3a\"],[0.8888888888888888,\"#fdca26\"],[1.0,\"#f0f921\"]],\"type\":\"heatmapgl\"}],\"histogram\":[{\"marker\":{\"pattern\":{\"fillmode\":\"overlay\",\"size\":10,\"solidity\":0.2}},\"type\":\"histogram\"}],\"histogram2d\":[{\"colorbar\":{\"outlinewidth\":0,\"ticks\":\"\"},\"colorscale\":[[0.0,\"#0d0887\"],[0.1111111111111111,\"#46039f\"],[0.2222222222222222,\"#7201a8\"],[0.3333333333333333,\"#9c179e\"],[0.4444444444444444,\"#bd3786\"],[0.5555555555555556,\"#d8576b\"],[0.6666666666666666,\"#ed7953\"],[0.7777777777777778,\"#fb9f3a\"],[0.8888888888888888,\"#fdca26\"],[1.0,\"#f0f921\"]],\"type\":\"histogram2d\"}],\"histogram2dcontour\":[{\"colorbar\":{\"outlinewidth\":0,\"ticks\":\"\"},\"colorscale\":[[0.0,\"#0d0887\"],[0.1111111111111111,\"#46039f\"],[0.2222222222222222,\"#7201a8\"],[0.3333333333333333,\"#9c179e\"],[0.4444444444444444,\"#bd3786\"],[0.5555555555555556,\"#d8576b\"],[0.6666666666666666,\"#ed7953\"],[0.7777777777777778,\"#fb9f3a\"],[0.8888888888888888,\"#fdca26\"],[1.0,\"#f0f921\"]],\"type\":\"histogram2dcontour\"}],\"mesh3d\":[{\"colorbar\":{\"outlinewidth\":0,\"ticks\":\"\"},\"type\":\"mesh3d\"}],\"parcoords\":[{\"line\":{\"colorbar\":{\"outlinewidth\":0,\"ticks\":\"\"}},\"type\":\"parcoords\"}],\"pie\":[{\"automargin\":true,\"type\":\"pie\"}],\"scatter\":[{\"marker\":{\"colorbar\":{\"outlinewidth\":0,\"ticks\":\"\"}},\"type\":\"scatter\"}],\"scatter3d\":[{\"line\":{\"colorbar\":{\"outlinewidth\":0,\"ticks\":\"\"}},\"marker\":{\"colorbar\":{\"outlinewidth\":0,\"ticks\":\"\"}},\"type\":\"scatter3d\"}],\"scattercarpet\":[{\"marker\":{\"colorbar\":{\"outlinewidth\":0,\"ticks\":\"\"}},\"type\":\"scattercarpet\"}],\"scattergeo\":[{\"marker\":{\"colorbar\":{\"outlinewidth\":0,\"ticks\":\"\"}},\"type\":\"scattergeo\"}],\"scattergl\":[{\"marker\":{\"colorbar\":{\"outlinewidth\":0,\"ticks\":\"\"}},\"type\":\"scattergl\"}],\"scattermapbox\":[{\"marker\":{\"colorbar\":{\"outlinewidth\":0,\"ticks\":\"\"}},\"type\":\"scattermapbox\"}],\"scatterpolar\":[{\"marker\":{\"colorbar\":{\"outlinewidth\":0,\"ticks\":\"\"}},\"type\":\"scatterpolar\"}],\"scatterpolargl\":[{\"marker\":{\"colorbar\":{\"outlinewidth\":0,\"ticks\":\"\"}},\"type\":\"scatterpolargl\"}],\"scatterternary\":[{\"marker\":{\"colorbar\":{\"outlinewidth\":0,\"ticks\":\"\"}},\"type\":\"scatterternary\"}],\"surface\":[{\"colorbar\":{\"outlinewidth\":0,\"ticks\":\"\"},\"colorscale\":[[0.0,\"#0d0887\"],[0.1111111111111111,\"#46039f\"],[0.2222222222222222,\"#7201a8\"],[0.3333333333333333,\"#9c179e\"],[0.4444444444444444,\"#bd3786\"],[0.5555555555555556,\"#d8576b\"],[0.6666666666666666,\"#ed7953\"],[0.7777777777777778,\"#fb9f3a\"],[0.8888888888888888,\"#fdca26\"],[1.0,\"#f0f921\"]],\"type\":\"surface\"}],\"table\":[{\"cells\":{\"fill\":{\"color\":\"#EBF0F8\"},\"line\":{\"color\":\"white\"}},\"header\":{\"fill\":{\"color\":\"#C8D4E3\"},\"line\":{\"color\":\"white\"}},\"type\":\"table\"}]},\"layout\":{\"annotationdefaults\":{\"arrowcolor\":\"#2a3f5f\",\"arrowhead\":0,\"arrowwidth\":1},\"autotypenumbers\":\"strict\",\"coloraxis\":{\"colorbar\":{\"outlinewidth\":0,\"ticks\":\"\"}},\"colorscale\":{\"diverging\":[[0,\"#8e0152\"],[0.1,\"#c51b7d\"],[0.2,\"#de77ae\"],[0.3,\"#f1b6da\"],[0.4,\"#fde0ef\"],[0.5,\"#f7f7f7\"],[0.6,\"#e6f5d0\"],[0.7,\"#b8e186\"],[0.8,\"#7fbc41\"],[0.9,\"#4d9221\"],[1,\"#276419\"]],\"sequential\":[[0.0,\"#0d0887\"],[0.1111111111111111,\"#46039f\"],[0.2222222222222222,\"#7201a8\"],[0.3333333333333333,\"#9c179e\"],[0.4444444444444444,\"#bd3786\"],[0.5555555555555556,\"#d8576b\"],[0.6666666666666666,\"#ed7953\"],[0.7777777777777778,\"#fb9f3a\"],[0.8888888888888888,\"#fdca26\"],[1.0,\"#f0f921\"]],\"sequentialminus\":[[0.0,\"#0d0887\"],[0.1111111111111111,\"#46039f\"],[0.2222222222222222,\"#7201a8\"],[0.3333333333333333,\"#9c179e\"],[0.4444444444444444,\"#bd3786\"],[0.5555555555555556,\"#d8576b\"],[0.6666666666666666,\"#ed7953\"],[0.7777777777777778,\"#fb9f3a\"],[0.8888888888888888,\"#fdca26\"],[1.0,\"#f0f921\"]]},\"colorway\":[\"#636efa\",\"#EF553B\",\"#00cc96\",\"#ab63fa\",\"#FFA15A\",\"#19d3f3\",\"#FF6692\",\"#B6E880\",\"#FF97FF\",\"#FECB52\"],\"font\":{\"color\":\"#2a3f5f\"},\"geo\":{\"bgcolor\":\"white\",\"lakecolor\":\"white\",\"landcolor\":\"#E5ECF6\",\"showlakes\":true,\"showland\":true,\"subunitcolor\":\"white\"},\"hoverlabel\":{\"align\":\"left\"},\"hovermode\":\"closest\",\"mapbox\":{\"style\":\"light\"},\"paper_bgcolor\":\"white\",\"plot_bgcolor\":\"#E5ECF6\",\"polar\":{\"angularaxis\":{\"gridcolor\":\"white\",\"linecolor\":\"white\",\"ticks\":\"\"},\"bgcolor\":\"#E5ECF6\",\"radialaxis\":{\"gridcolor\":\"white\",\"linecolor\":\"white\",\"ticks\":\"\"}},\"scene\":{\"xaxis\":{\"backgroundcolor\":\"#E5ECF6\",\"gridcolor\":\"white\",\"gridwidth\":2,\"linecolor\":\"white\",\"showbackground\":true,\"ticks\":\"\",\"zerolinecolor\":\"white\"},\"yaxis\":{\"backgroundcolor\":\"#E5ECF6\",\"gridcolor\":\"white\",\"gridwidth\":2,\"linecolor\":\"white\",\"showbackground\":true,\"ticks\":\"\",\"zerolinecolor\":\"white\"},\"zaxis\":{\"backgroundcolor\":\"#E5ECF6\",\"gridcolor\":\"white\",\"gridwidth\":2,\"linecolor\":\"white\",\"showbackground\":true,\"ticks\":\"\",\"zerolinecolor\":\"white\"}},\"shapedefaults\":{\"line\":{\"color\":\"#2a3f5f\"}},\"ternary\":{\"aaxis\":{\"gridcolor\":\"white\",\"linecolor\":\"white\",\"ticks\":\"\"},\"baxis\":{\"gridcolor\":\"white\",\"linecolor\":\"white\",\"ticks\":\"\"},\"bgcolor\":\"#E5ECF6\",\"caxis\":{\"gridcolor\":\"white\",\"linecolor\":\"white\",\"ticks\":\"\"}},\"title\":{\"x\":0.05},\"xaxis\":{\"automargin\":true,\"gridcolor\":\"white\",\"linecolor\":\"white\",\"ticks\":\"\",\"title\":{\"standoff\":15},\"zerolinecolor\":\"white\",\"zerolinewidth\":2},\"yaxis\":{\"automargin\":true,\"gridcolor\":\"white\",\"linecolor\":\"white\",\"ticks\":\"\",\"title\":{\"standoff\":15},\"zerolinecolor\":\"white\",\"zerolinewidth\":2}}},\"xaxis\":{\"anchor\":\"y\",\"domain\":[0.0,1.0],\"title\":{\"text\":\"x\"}},\"yaxis\":{\"anchor\":\"x\",\"domain\":[0.0,1.0],\"title\":{\"text\":\"y\"}},\"legend\":{\"title\":{\"text\":\"color\"},\"tracegroupgap\":0},\"margin\":{\"t\":60}},                        {\"responsive\": true}                    ).then(function(){\n",
       "                            \n",
       "var gd = document.getElementById('80d89777-510a-4590-b178-4ddfcf30b49a');\n",
       "var x = new MutationObserver(function (mutations, observer) {{\n",
       "        var display = window.getComputedStyle(gd).display;\n",
       "        if (!display || display === 'none') {{\n",
       "            console.log([gd, 'removed!']);\n",
       "            Plotly.purge(gd);\n",
       "            observer.disconnect();\n",
       "        }}\n",
       "}});\n",
       "\n",
       "// Listen for the removal of the full notebook cells\n",
       "var notebookContainer = gd.closest('#notebook-container');\n",
       "if (notebookContainer) {{\n",
       "    x.observe(notebookContainer, {childList: true});\n",
       "}}\n",
       "\n",
       "// Listen for the clearing of the current output cell\n",
       "var outputEl = gd.closest('.output');\n",
       "if (outputEl) {{\n",
       "    x.observe(outputEl, {childList: true});\n",
       "}}\n",
       "\n",
       "                        })                };                });            </script>        </div>"
      ]
     },
     "metadata": {},
     "output_type": "display_data"
    },
    {
     "data": {
      "application/javascript": [
       "\n",
       "            setTimeout(function() {\n",
       "                var nbb_cell_id = 30;\n",
       "                var nbb_unformatted_code = \"import pandas as pd\\nimport plotly.express as px\\n\\n\\nx = [datetime.fromtimestamp(cra[\\\"transaction_time\\\"]) for cra in crabadas]\\ny = [cra[\\\"price\\\"] / 10**18 for cra in crabadas]\\ncolor = [cra[\\\"class_name\\\"] for cra in crabadas]\\nhover_data = [\\n    f\\\"{cra['class_name']}-P{cra['pure_number']}-B{cra['breed_count']}\\\"\\n    for cra in crabadas\\n]\\n\\nfig = px.scatter(x=x, y=y, color=color, hover_name=hover_data)\\nfig.show()\";\n",
       "                var nbb_formatted_code = \"import pandas as pd\\nimport plotly.express as px\\n\\n\\nx = [datetime.fromtimestamp(cra[\\\"transaction_time\\\"]) for cra in crabadas]\\ny = [cra[\\\"price\\\"] / 10**18 for cra in crabadas]\\ncolor = [cra[\\\"class_name\\\"] for cra in crabadas]\\nhover_data = [\\n    f\\\"{cra['class_name']}-P{cra['pure_number']}-B{cra['breed_count']}\\\"\\n    for cra in crabadas\\n]\\n\\nfig = px.scatter(x=x, y=y, color=color, hover_name=hover_data)\\nfig.show()\";\n",
       "                var nbb_cells = Jupyter.notebook.get_cells();\n",
       "                for (var i = 0; i < nbb_cells.length; ++i) {\n",
       "                    if (nbb_cells[i].input_prompt_number == nbb_cell_id) {\n",
       "                        if (nbb_cells[i].get_text() == nbb_unformatted_code) {\n",
       "                             nbb_cells[i].set_text(nbb_formatted_code);\n",
       "                        }\n",
       "                        break;\n",
       "                    }\n",
       "                }\n",
       "            }, 500);\n",
       "            "
      ],
      "text/plain": [
       "<IPython.core.display.Javascript object>"
      ]
     },
     "metadata": {},
     "output_type": "display_data"
    }
   ],
   "source": [
    "import pandas as pd\n",
    "import plotly.express as px\n",
    "\n",
    "\n",
    "x = [datetime.fromtimestamp(cra[\"transaction_time\"]) for cra in crabadas]\n",
    "y = [cra[\"price\"] / 10**18 for cra in crabadas]\n",
    "color = [cra[\"class_name\"] for cra in crabadas]\n",
    "hover_data = [\n",
    "    f\"{cra['class_name']}-P{cra['pure_number']}-B{cra['breed_count']}\"\n",
    "    for cra in crabadas\n",
    "]\n",
    "\n",
    "fig = px.scatter(x=x, y=y, color=color, hover_name=hover_data)\n",
    "fig.show()"
   ]
  },
  {
   "cell_type": "code",
   "execution_count": 32,
   "id": "f86682d5",
   "metadata": {},
   "outputs": [
    {
     "data": {
      "application/vnd.plotly.v1+json": {
       "config": {
        "plotlyServerURL": "https://plot.ly"
       },
       "data": [
        {
         "alignmentgroup": "True",
         "hovertemplate": "x=%{x}<br>y=%{y}<extra></extra>",
         "legendgroup": "",
         "marker": {
          "color": "#636efa",
          "pattern": {
           "shape": ""
          }
         },
         "name": "",
         "offsetgroup": "",
         "orientation": "v",
         "showlegend": false,
         "textposition": "auto",
         "type": "bar",
         "x": [
          "BULK",
          "SUNKEN",
          "RUINED",
          "GEM",
          "PRIME",
          "CRABOID",
          "ORGANIC"
         ],
         "xaxis": "x",
         "y": [
          145,
          11,
          10,
          78,
          123,
          65,
          1
         ],
         "yaxis": "y"
        }
       ],
       "layout": {
        "barmode": "relative",
        "legend": {
         "tracegroupgap": 0
        },
        "margin": {
         "t": 60
        },
        "template": {
         "data": {
          "bar": [
           {
            "error_x": {
             "color": "#2a3f5f"
            },
            "error_y": {
             "color": "#2a3f5f"
            },
            "marker": {
             "line": {
              "color": "#E5ECF6",
              "width": 0.5
             },
             "pattern": {
              "fillmode": "overlay",
              "size": 10,
              "solidity": 0.2
             }
            },
            "type": "bar"
           }
          ],
          "barpolar": [
           {
            "marker": {
             "line": {
              "color": "#E5ECF6",
              "width": 0.5
             },
             "pattern": {
              "fillmode": "overlay",
              "size": 10,
              "solidity": 0.2
             }
            },
            "type": "barpolar"
           }
          ],
          "carpet": [
           {
            "aaxis": {
             "endlinecolor": "#2a3f5f",
             "gridcolor": "white",
             "linecolor": "white",
             "minorgridcolor": "white",
             "startlinecolor": "#2a3f5f"
            },
            "baxis": {
             "endlinecolor": "#2a3f5f",
             "gridcolor": "white",
             "linecolor": "white",
             "minorgridcolor": "white",
             "startlinecolor": "#2a3f5f"
            },
            "type": "carpet"
           }
          ],
          "choropleth": [
           {
            "colorbar": {
             "outlinewidth": 0,
             "ticks": ""
            },
            "type": "choropleth"
           }
          ],
          "contour": [
           {
            "colorbar": {
             "outlinewidth": 0,
             "ticks": ""
            },
            "colorscale": [
             [
              0,
              "#0d0887"
             ],
             [
              0.1111111111111111,
              "#46039f"
             ],
             [
              0.2222222222222222,
              "#7201a8"
             ],
             [
              0.3333333333333333,
              "#9c179e"
             ],
             [
              0.4444444444444444,
              "#bd3786"
             ],
             [
              0.5555555555555556,
              "#d8576b"
             ],
             [
              0.6666666666666666,
              "#ed7953"
             ],
             [
              0.7777777777777778,
              "#fb9f3a"
             ],
             [
              0.8888888888888888,
              "#fdca26"
             ],
             [
              1,
              "#f0f921"
             ]
            ],
            "type": "contour"
           }
          ],
          "contourcarpet": [
           {
            "colorbar": {
             "outlinewidth": 0,
             "ticks": ""
            },
            "type": "contourcarpet"
           }
          ],
          "heatmap": [
           {
            "colorbar": {
             "outlinewidth": 0,
             "ticks": ""
            },
            "colorscale": [
             [
              0,
              "#0d0887"
             ],
             [
              0.1111111111111111,
              "#46039f"
             ],
             [
              0.2222222222222222,
              "#7201a8"
             ],
             [
              0.3333333333333333,
              "#9c179e"
             ],
             [
              0.4444444444444444,
              "#bd3786"
             ],
             [
              0.5555555555555556,
              "#d8576b"
             ],
             [
              0.6666666666666666,
              "#ed7953"
             ],
             [
              0.7777777777777778,
              "#fb9f3a"
             ],
             [
              0.8888888888888888,
              "#fdca26"
             ],
             [
              1,
              "#f0f921"
             ]
            ],
            "type": "heatmap"
           }
          ],
          "heatmapgl": [
           {
            "colorbar": {
             "outlinewidth": 0,
             "ticks": ""
            },
            "colorscale": [
             [
              0,
              "#0d0887"
             ],
             [
              0.1111111111111111,
              "#46039f"
             ],
             [
              0.2222222222222222,
              "#7201a8"
             ],
             [
              0.3333333333333333,
              "#9c179e"
             ],
             [
              0.4444444444444444,
              "#bd3786"
             ],
             [
              0.5555555555555556,
              "#d8576b"
             ],
             [
              0.6666666666666666,
              "#ed7953"
             ],
             [
              0.7777777777777778,
              "#fb9f3a"
             ],
             [
              0.8888888888888888,
              "#fdca26"
             ],
             [
              1,
              "#f0f921"
             ]
            ],
            "type": "heatmapgl"
           }
          ],
          "histogram": [
           {
            "marker": {
             "pattern": {
              "fillmode": "overlay",
              "size": 10,
              "solidity": 0.2
             }
            },
            "type": "histogram"
           }
          ],
          "histogram2d": [
           {
            "colorbar": {
             "outlinewidth": 0,
             "ticks": ""
            },
            "colorscale": [
             [
              0,
              "#0d0887"
             ],
             [
              0.1111111111111111,
              "#46039f"
             ],
             [
              0.2222222222222222,
              "#7201a8"
             ],
             [
              0.3333333333333333,
              "#9c179e"
             ],
             [
              0.4444444444444444,
              "#bd3786"
             ],
             [
              0.5555555555555556,
              "#d8576b"
             ],
             [
              0.6666666666666666,
              "#ed7953"
             ],
             [
              0.7777777777777778,
              "#fb9f3a"
             ],
             [
              0.8888888888888888,
              "#fdca26"
             ],
             [
              1,
              "#f0f921"
             ]
            ],
            "type": "histogram2d"
           }
          ],
          "histogram2dcontour": [
           {
            "colorbar": {
             "outlinewidth": 0,
             "ticks": ""
            },
            "colorscale": [
             [
              0,
              "#0d0887"
             ],
             [
              0.1111111111111111,
              "#46039f"
             ],
             [
              0.2222222222222222,
              "#7201a8"
             ],
             [
              0.3333333333333333,
              "#9c179e"
             ],
             [
              0.4444444444444444,
              "#bd3786"
             ],
             [
              0.5555555555555556,
              "#d8576b"
             ],
             [
              0.6666666666666666,
              "#ed7953"
             ],
             [
              0.7777777777777778,
              "#fb9f3a"
             ],
             [
              0.8888888888888888,
              "#fdca26"
             ],
             [
              1,
              "#f0f921"
             ]
            ],
            "type": "histogram2dcontour"
           }
          ],
          "mesh3d": [
           {
            "colorbar": {
             "outlinewidth": 0,
             "ticks": ""
            },
            "type": "mesh3d"
           }
          ],
          "parcoords": [
           {
            "line": {
             "colorbar": {
              "outlinewidth": 0,
              "ticks": ""
             }
            },
            "type": "parcoords"
           }
          ],
          "pie": [
           {
            "automargin": true,
            "type": "pie"
           }
          ],
          "scatter": [
           {
            "marker": {
             "colorbar": {
              "outlinewidth": 0,
              "ticks": ""
             }
            },
            "type": "scatter"
           }
          ],
          "scatter3d": [
           {
            "line": {
             "colorbar": {
              "outlinewidth": 0,
              "ticks": ""
             }
            },
            "marker": {
             "colorbar": {
              "outlinewidth": 0,
              "ticks": ""
             }
            },
            "type": "scatter3d"
           }
          ],
          "scattercarpet": [
           {
            "marker": {
             "colorbar": {
              "outlinewidth": 0,
              "ticks": ""
             }
            },
            "type": "scattercarpet"
           }
          ],
          "scattergeo": [
           {
            "marker": {
             "colorbar": {
              "outlinewidth": 0,
              "ticks": ""
             }
            },
            "type": "scattergeo"
           }
          ],
          "scattergl": [
           {
            "marker": {
             "colorbar": {
              "outlinewidth": 0,
              "ticks": ""
             }
            },
            "type": "scattergl"
           }
          ],
          "scattermapbox": [
           {
            "marker": {
             "colorbar": {
              "outlinewidth": 0,
              "ticks": ""
             }
            },
            "type": "scattermapbox"
           }
          ],
          "scatterpolar": [
           {
            "marker": {
             "colorbar": {
              "outlinewidth": 0,
              "ticks": ""
             }
            },
            "type": "scatterpolar"
           }
          ],
          "scatterpolargl": [
           {
            "marker": {
             "colorbar": {
              "outlinewidth": 0,
              "ticks": ""
             }
            },
            "type": "scatterpolargl"
           }
          ],
          "scatterternary": [
           {
            "marker": {
             "colorbar": {
              "outlinewidth": 0,
              "ticks": ""
             }
            },
            "type": "scatterternary"
           }
          ],
          "surface": [
           {
            "colorbar": {
             "outlinewidth": 0,
             "ticks": ""
            },
            "colorscale": [
             [
              0,
              "#0d0887"
             ],
             [
              0.1111111111111111,
              "#46039f"
             ],
             [
              0.2222222222222222,
              "#7201a8"
             ],
             [
              0.3333333333333333,
              "#9c179e"
             ],
             [
              0.4444444444444444,
              "#bd3786"
             ],
             [
              0.5555555555555556,
              "#d8576b"
             ],
             [
              0.6666666666666666,
              "#ed7953"
             ],
             [
              0.7777777777777778,
              "#fb9f3a"
             ],
             [
              0.8888888888888888,
              "#fdca26"
             ],
             [
              1,
              "#f0f921"
             ]
            ],
            "type": "surface"
           }
          ],
          "table": [
           {
            "cells": {
             "fill": {
              "color": "#EBF0F8"
             },
             "line": {
              "color": "white"
             }
            },
            "header": {
             "fill": {
              "color": "#C8D4E3"
             },
             "line": {
              "color": "white"
             }
            },
            "type": "table"
           }
          ]
         },
         "layout": {
          "annotationdefaults": {
           "arrowcolor": "#2a3f5f",
           "arrowhead": 0,
           "arrowwidth": 1
          },
          "autotypenumbers": "strict",
          "coloraxis": {
           "colorbar": {
            "outlinewidth": 0,
            "ticks": ""
           }
          },
          "colorscale": {
           "diverging": [
            [
             0,
             "#8e0152"
            ],
            [
             0.1,
             "#c51b7d"
            ],
            [
             0.2,
             "#de77ae"
            ],
            [
             0.3,
             "#f1b6da"
            ],
            [
             0.4,
             "#fde0ef"
            ],
            [
             0.5,
             "#f7f7f7"
            ],
            [
             0.6,
             "#e6f5d0"
            ],
            [
             0.7,
             "#b8e186"
            ],
            [
             0.8,
             "#7fbc41"
            ],
            [
             0.9,
             "#4d9221"
            ],
            [
             1,
             "#276419"
            ]
           ],
           "sequential": [
            [
             0,
             "#0d0887"
            ],
            [
             0.1111111111111111,
             "#46039f"
            ],
            [
             0.2222222222222222,
             "#7201a8"
            ],
            [
             0.3333333333333333,
             "#9c179e"
            ],
            [
             0.4444444444444444,
             "#bd3786"
            ],
            [
             0.5555555555555556,
             "#d8576b"
            ],
            [
             0.6666666666666666,
             "#ed7953"
            ],
            [
             0.7777777777777778,
             "#fb9f3a"
            ],
            [
             0.8888888888888888,
             "#fdca26"
            ],
            [
             1,
             "#f0f921"
            ]
           ],
           "sequentialminus": [
            [
             0,
             "#0d0887"
            ],
            [
             0.1111111111111111,
             "#46039f"
            ],
            [
             0.2222222222222222,
             "#7201a8"
            ],
            [
             0.3333333333333333,
             "#9c179e"
            ],
            [
             0.4444444444444444,
             "#bd3786"
            ],
            [
             0.5555555555555556,
             "#d8576b"
            ],
            [
             0.6666666666666666,
             "#ed7953"
            ],
            [
             0.7777777777777778,
             "#fb9f3a"
            ],
            [
             0.8888888888888888,
             "#fdca26"
            ],
            [
             1,
             "#f0f921"
            ]
           ]
          },
          "colorway": [
           "#636efa",
           "#EF553B",
           "#00cc96",
           "#ab63fa",
           "#FFA15A",
           "#19d3f3",
           "#FF6692",
           "#B6E880",
           "#FF97FF",
           "#FECB52"
          ],
          "font": {
           "color": "#2a3f5f"
          },
          "geo": {
           "bgcolor": "white",
           "lakecolor": "white",
           "landcolor": "#E5ECF6",
           "showlakes": true,
           "showland": true,
           "subunitcolor": "white"
          },
          "hoverlabel": {
           "align": "left"
          },
          "hovermode": "closest",
          "mapbox": {
           "style": "light"
          },
          "paper_bgcolor": "white",
          "plot_bgcolor": "#E5ECF6",
          "polar": {
           "angularaxis": {
            "gridcolor": "white",
            "linecolor": "white",
            "ticks": ""
           },
           "bgcolor": "#E5ECF6",
           "radialaxis": {
            "gridcolor": "white",
            "linecolor": "white",
            "ticks": ""
           }
          },
          "scene": {
           "xaxis": {
            "backgroundcolor": "#E5ECF6",
            "gridcolor": "white",
            "gridwidth": 2,
            "linecolor": "white",
            "showbackground": true,
            "ticks": "",
            "zerolinecolor": "white"
           },
           "yaxis": {
            "backgroundcolor": "#E5ECF6",
            "gridcolor": "white",
            "gridwidth": 2,
            "linecolor": "white",
            "showbackground": true,
            "ticks": "",
            "zerolinecolor": "white"
           },
           "zaxis": {
            "backgroundcolor": "#E5ECF6",
            "gridcolor": "white",
            "gridwidth": 2,
            "linecolor": "white",
            "showbackground": true,
            "ticks": "",
            "zerolinecolor": "white"
           }
          },
          "shapedefaults": {
           "line": {
            "color": "#2a3f5f"
           }
          },
          "ternary": {
           "aaxis": {
            "gridcolor": "white",
            "linecolor": "white",
            "ticks": ""
           },
           "baxis": {
            "gridcolor": "white",
            "linecolor": "white",
            "ticks": ""
           },
           "bgcolor": "#E5ECF6",
           "caxis": {
            "gridcolor": "white",
            "linecolor": "white",
            "ticks": ""
           }
          },
          "title": {
           "x": 0.05
          },
          "xaxis": {
           "automargin": true,
           "gridcolor": "white",
           "linecolor": "white",
           "ticks": "",
           "title": {
            "standoff": 15
           },
           "zerolinecolor": "white",
           "zerolinewidth": 2
          },
          "yaxis": {
           "automargin": true,
           "gridcolor": "white",
           "linecolor": "white",
           "ticks": "",
           "title": {
            "standoff": 15
           },
           "zerolinecolor": "white",
           "zerolinewidth": 2
          }
         }
        },
        "xaxis": {
         "anchor": "y",
         "domain": [
          0,
          1
         ],
         "title": {
          "text": "x"
         }
        },
        "yaxis": {
         "anchor": "x",
         "domain": [
          0,
          1
         ],
         "title": {
          "text": "y"
         }
        }
       }
      },
      "text/html": [
       "<div>                            <div id=\"69747a91-c50c-4118-a62c-dfb50aec2604\" class=\"plotly-graph-div\" style=\"height:525px; width:100%;\"></div>            <script type=\"text/javascript\">                require([\"plotly\"], function(Plotly) {                    window.PLOTLYENV=window.PLOTLYENV || {};                                    if (document.getElementById(\"69747a91-c50c-4118-a62c-dfb50aec2604\")) {                    Plotly.newPlot(                        \"69747a91-c50c-4118-a62c-dfb50aec2604\",                        [{\"alignmentgroup\":\"True\",\"hovertemplate\":\"x=%{x}<br>y=%{y}<extra></extra>\",\"legendgroup\":\"\",\"marker\":{\"color\":\"#636efa\",\"pattern\":{\"shape\":\"\"}},\"name\":\"\",\"offsetgroup\":\"\",\"orientation\":\"v\",\"showlegend\":false,\"textposition\":\"auto\",\"x\":[\"BULK\",\"SUNKEN\",\"RUINED\",\"GEM\",\"PRIME\",\"CRABOID\",\"ORGANIC\"],\"xaxis\":\"x\",\"y\":[145,11,10,78,123,65,1],\"yaxis\":\"y\",\"type\":\"bar\"}],                        {\"template\":{\"data\":{\"bar\":[{\"error_x\":{\"color\":\"#2a3f5f\"},\"error_y\":{\"color\":\"#2a3f5f\"},\"marker\":{\"line\":{\"color\":\"#E5ECF6\",\"width\":0.5},\"pattern\":{\"fillmode\":\"overlay\",\"size\":10,\"solidity\":0.2}},\"type\":\"bar\"}],\"barpolar\":[{\"marker\":{\"line\":{\"color\":\"#E5ECF6\",\"width\":0.5},\"pattern\":{\"fillmode\":\"overlay\",\"size\":10,\"solidity\":0.2}},\"type\":\"barpolar\"}],\"carpet\":[{\"aaxis\":{\"endlinecolor\":\"#2a3f5f\",\"gridcolor\":\"white\",\"linecolor\":\"white\",\"minorgridcolor\":\"white\",\"startlinecolor\":\"#2a3f5f\"},\"baxis\":{\"endlinecolor\":\"#2a3f5f\",\"gridcolor\":\"white\",\"linecolor\":\"white\",\"minorgridcolor\":\"white\",\"startlinecolor\":\"#2a3f5f\"},\"type\":\"carpet\"}],\"choropleth\":[{\"colorbar\":{\"outlinewidth\":0,\"ticks\":\"\"},\"type\":\"choropleth\"}],\"contour\":[{\"colorbar\":{\"outlinewidth\":0,\"ticks\":\"\"},\"colorscale\":[[0.0,\"#0d0887\"],[0.1111111111111111,\"#46039f\"],[0.2222222222222222,\"#7201a8\"],[0.3333333333333333,\"#9c179e\"],[0.4444444444444444,\"#bd3786\"],[0.5555555555555556,\"#d8576b\"],[0.6666666666666666,\"#ed7953\"],[0.7777777777777778,\"#fb9f3a\"],[0.8888888888888888,\"#fdca26\"],[1.0,\"#f0f921\"]],\"type\":\"contour\"}],\"contourcarpet\":[{\"colorbar\":{\"outlinewidth\":0,\"ticks\":\"\"},\"type\":\"contourcarpet\"}],\"heatmap\":[{\"colorbar\":{\"outlinewidth\":0,\"ticks\":\"\"},\"colorscale\":[[0.0,\"#0d0887\"],[0.1111111111111111,\"#46039f\"],[0.2222222222222222,\"#7201a8\"],[0.3333333333333333,\"#9c179e\"],[0.4444444444444444,\"#bd3786\"],[0.5555555555555556,\"#d8576b\"],[0.6666666666666666,\"#ed7953\"],[0.7777777777777778,\"#fb9f3a\"],[0.8888888888888888,\"#fdca26\"],[1.0,\"#f0f921\"]],\"type\":\"heatmap\"}],\"heatmapgl\":[{\"colorbar\":{\"outlinewidth\":0,\"ticks\":\"\"},\"colorscale\":[[0.0,\"#0d0887\"],[0.1111111111111111,\"#46039f\"],[0.2222222222222222,\"#7201a8\"],[0.3333333333333333,\"#9c179e\"],[0.4444444444444444,\"#bd3786\"],[0.5555555555555556,\"#d8576b\"],[0.6666666666666666,\"#ed7953\"],[0.7777777777777778,\"#fb9f3a\"],[0.8888888888888888,\"#fdca26\"],[1.0,\"#f0f921\"]],\"type\":\"heatmapgl\"}],\"histogram\":[{\"marker\":{\"pattern\":{\"fillmode\":\"overlay\",\"size\":10,\"solidity\":0.2}},\"type\":\"histogram\"}],\"histogram2d\":[{\"colorbar\":{\"outlinewidth\":0,\"ticks\":\"\"},\"colorscale\":[[0.0,\"#0d0887\"],[0.1111111111111111,\"#46039f\"],[0.2222222222222222,\"#7201a8\"],[0.3333333333333333,\"#9c179e\"],[0.4444444444444444,\"#bd3786\"],[0.5555555555555556,\"#d8576b\"],[0.6666666666666666,\"#ed7953\"],[0.7777777777777778,\"#fb9f3a\"],[0.8888888888888888,\"#fdca26\"],[1.0,\"#f0f921\"]],\"type\":\"histogram2d\"}],\"histogram2dcontour\":[{\"colorbar\":{\"outlinewidth\":0,\"ticks\":\"\"},\"colorscale\":[[0.0,\"#0d0887\"],[0.1111111111111111,\"#46039f\"],[0.2222222222222222,\"#7201a8\"],[0.3333333333333333,\"#9c179e\"],[0.4444444444444444,\"#bd3786\"],[0.5555555555555556,\"#d8576b\"],[0.6666666666666666,\"#ed7953\"],[0.7777777777777778,\"#fb9f3a\"],[0.8888888888888888,\"#fdca26\"],[1.0,\"#f0f921\"]],\"type\":\"histogram2dcontour\"}],\"mesh3d\":[{\"colorbar\":{\"outlinewidth\":0,\"ticks\":\"\"},\"type\":\"mesh3d\"}],\"parcoords\":[{\"line\":{\"colorbar\":{\"outlinewidth\":0,\"ticks\":\"\"}},\"type\":\"parcoords\"}],\"pie\":[{\"automargin\":true,\"type\":\"pie\"}],\"scatter\":[{\"marker\":{\"colorbar\":{\"outlinewidth\":0,\"ticks\":\"\"}},\"type\":\"scatter\"}],\"scatter3d\":[{\"line\":{\"colorbar\":{\"outlinewidth\":0,\"ticks\":\"\"}},\"marker\":{\"colorbar\":{\"outlinewidth\":0,\"ticks\":\"\"}},\"type\":\"scatter3d\"}],\"scattercarpet\":[{\"marker\":{\"colorbar\":{\"outlinewidth\":0,\"ticks\":\"\"}},\"type\":\"scattercarpet\"}],\"scattergeo\":[{\"marker\":{\"colorbar\":{\"outlinewidth\":0,\"ticks\":\"\"}},\"type\":\"scattergeo\"}],\"scattergl\":[{\"marker\":{\"colorbar\":{\"outlinewidth\":0,\"ticks\":\"\"}},\"type\":\"scattergl\"}],\"scattermapbox\":[{\"marker\":{\"colorbar\":{\"outlinewidth\":0,\"ticks\":\"\"}},\"type\":\"scattermapbox\"}],\"scatterpolar\":[{\"marker\":{\"colorbar\":{\"outlinewidth\":0,\"ticks\":\"\"}},\"type\":\"scatterpolar\"}],\"scatterpolargl\":[{\"marker\":{\"colorbar\":{\"outlinewidth\":0,\"ticks\":\"\"}},\"type\":\"scatterpolargl\"}],\"scatterternary\":[{\"marker\":{\"colorbar\":{\"outlinewidth\":0,\"ticks\":\"\"}},\"type\":\"scatterternary\"}],\"surface\":[{\"colorbar\":{\"outlinewidth\":0,\"ticks\":\"\"},\"colorscale\":[[0.0,\"#0d0887\"],[0.1111111111111111,\"#46039f\"],[0.2222222222222222,\"#7201a8\"],[0.3333333333333333,\"#9c179e\"],[0.4444444444444444,\"#bd3786\"],[0.5555555555555556,\"#d8576b\"],[0.6666666666666666,\"#ed7953\"],[0.7777777777777778,\"#fb9f3a\"],[0.8888888888888888,\"#fdca26\"],[1.0,\"#f0f921\"]],\"type\":\"surface\"}],\"table\":[{\"cells\":{\"fill\":{\"color\":\"#EBF0F8\"},\"line\":{\"color\":\"white\"}},\"header\":{\"fill\":{\"color\":\"#C8D4E3\"},\"line\":{\"color\":\"white\"}},\"type\":\"table\"}]},\"layout\":{\"annotationdefaults\":{\"arrowcolor\":\"#2a3f5f\",\"arrowhead\":0,\"arrowwidth\":1},\"autotypenumbers\":\"strict\",\"coloraxis\":{\"colorbar\":{\"outlinewidth\":0,\"ticks\":\"\"}},\"colorscale\":{\"diverging\":[[0,\"#8e0152\"],[0.1,\"#c51b7d\"],[0.2,\"#de77ae\"],[0.3,\"#f1b6da\"],[0.4,\"#fde0ef\"],[0.5,\"#f7f7f7\"],[0.6,\"#e6f5d0\"],[0.7,\"#b8e186\"],[0.8,\"#7fbc41\"],[0.9,\"#4d9221\"],[1,\"#276419\"]],\"sequential\":[[0.0,\"#0d0887\"],[0.1111111111111111,\"#46039f\"],[0.2222222222222222,\"#7201a8\"],[0.3333333333333333,\"#9c179e\"],[0.4444444444444444,\"#bd3786\"],[0.5555555555555556,\"#d8576b\"],[0.6666666666666666,\"#ed7953\"],[0.7777777777777778,\"#fb9f3a\"],[0.8888888888888888,\"#fdca26\"],[1.0,\"#f0f921\"]],\"sequentialminus\":[[0.0,\"#0d0887\"],[0.1111111111111111,\"#46039f\"],[0.2222222222222222,\"#7201a8\"],[0.3333333333333333,\"#9c179e\"],[0.4444444444444444,\"#bd3786\"],[0.5555555555555556,\"#d8576b\"],[0.6666666666666666,\"#ed7953\"],[0.7777777777777778,\"#fb9f3a\"],[0.8888888888888888,\"#fdca26\"],[1.0,\"#f0f921\"]]},\"colorway\":[\"#636efa\",\"#EF553B\",\"#00cc96\",\"#ab63fa\",\"#FFA15A\",\"#19d3f3\",\"#FF6692\",\"#B6E880\",\"#FF97FF\",\"#FECB52\"],\"font\":{\"color\":\"#2a3f5f\"},\"geo\":{\"bgcolor\":\"white\",\"lakecolor\":\"white\",\"landcolor\":\"#E5ECF6\",\"showlakes\":true,\"showland\":true,\"subunitcolor\":\"white\"},\"hoverlabel\":{\"align\":\"left\"},\"hovermode\":\"closest\",\"mapbox\":{\"style\":\"light\"},\"paper_bgcolor\":\"white\",\"plot_bgcolor\":\"#E5ECF6\",\"polar\":{\"angularaxis\":{\"gridcolor\":\"white\",\"linecolor\":\"white\",\"ticks\":\"\"},\"bgcolor\":\"#E5ECF6\",\"radialaxis\":{\"gridcolor\":\"white\",\"linecolor\":\"white\",\"ticks\":\"\"}},\"scene\":{\"xaxis\":{\"backgroundcolor\":\"#E5ECF6\",\"gridcolor\":\"white\",\"gridwidth\":2,\"linecolor\":\"white\",\"showbackground\":true,\"ticks\":\"\",\"zerolinecolor\":\"white\"},\"yaxis\":{\"backgroundcolor\":\"#E5ECF6\",\"gridcolor\":\"white\",\"gridwidth\":2,\"linecolor\":\"white\",\"showbackground\":true,\"ticks\":\"\",\"zerolinecolor\":\"white\"},\"zaxis\":{\"backgroundcolor\":\"#E5ECF6\",\"gridcolor\":\"white\",\"gridwidth\":2,\"linecolor\":\"white\",\"showbackground\":true,\"ticks\":\"\",\"zerolinecolor\":\"white\"}},\"shapedefaults\":{\"line\":{\"color\":\"#2a3f5f\"}},\"ternary\":{\"aaxis\":{\"gridcolor\":\"white\",\"linecolor\":\"white\",\"ticks\":\"\"},\"baxis\":{\"gridcolor\":\"white\",\"linecolor\":\"white\",\"ticks\":\"\"},\"bgcolor\":\"#E5ECF6\",\"caxis\":{\"gridcolor\":\"white\",\"linecolor\":\"white\",\"ticks\":\"\"}},\"title\":{\"x\":0.05},\"xaxis\":{\"automargin\":true,\"gridcolor\":\"white\",\"linecolor\":\"white\",\"ticks\":\"\",\"title\":{\"standoff\":15},\"zerolinecolor\":\"white\",\"zerolinewidth\":2},\"yaxis\":{\"automargin\":true,\"gridcolor\":\"white\",\"linecolor\":\"white\",\"ticks\":\"\",\"title\":{\"standoff\":15},\"zerolinecolor\":\"white\",\"zerolinewidth\":2}}},\"xaxis\":{\"anchor\":\"y\",\"domain\":[0.0,1.0],\"title\":{\"text\":\"x\"}},\"yaxis\":{\"anchor\":\"x\",\"domain\":[0.0,1.0],\"title\":{\"text\":\"y\"}},\"legend\":{\"tracegroupgap\":0},\"margin\":{\"t\":60},\"barmode\":\"relative\"},                        {\"responsive\": true}                    ).then(function(){\n",
       "                            \n",
       "var gd = document.getElementById('69747a91-c50c-4118-a62c-dfb50aec2604');\n",
       "var x = new MutationObserver(function (mutations, observer) {{\n",
       "        var display = window.getComputedStyle(gd).display;\n",
       "        if (!display || display === 'none') {{\n",
       "            console.log([gd, 'removed!']);\n",
       "            Plotly.purge(gd);\n",
       "            observer.disconnect();\n",
       "        }}\n",
       "}});\n",
       "\n",
       "// Listen for the removal of the full notebook cells\n",
       "var notebookContainer = gd.closest('#notebook-container');\n",
       "if (notebookContainer) {{\n",
       "    x.observe(notebookContainer, {childList: true});\n",
       "}}\n",
       "\n",
       "// Listen for the clearing of the current output cell\n",
       "var outputEl = gd.closest('.output');\n",
       "if (outputEl) {{\n",
       "    x.observe(outputEl, {childList: true});\n",
       "}}\n",
       "\n",
       "                        })                };                });            </script>        </div>"
      ]
     },
     "metadata": {},
     "output_type": "display_data"
    },
    {
     "data": {
      "application/javascript": [
       "\n",
       "            setTimeout(function() {\n",
       "                var nbb_cell_id = 32;\n",
       "                var nbb_unformatted_code = \"group_by_class = {}\\nfor cra in crabadas:\\n    class_name = cra[\\\"class_name\\\"]\\n    if class_name in group_by_class:\\n        group_by_class[class_name] = group_by_class[class_name] + 1\\n    else:\\n        group_by_class[class_name] = 1\\n\\nfig = px.bar(x=group_by_class.keys(), y=group_by_class.values())\\nfig.show()\";\n",
       "                var nbb_formatted_code = \"group_by_class = {}\\nfor cra in crabadas:\\n    class_name = cra[\\\"class_name\\\"]\\n    if class_name in group_by_class:\\n        group_by_class[class_name] = group_by_class[class_name] + 1\\n    else:\\n        group_by_class[class_name] = 1\\n\\nfig = px.bar(x=group_by_class.keys(), y=group_by_class.values())\\nfig.show()\";\n",
       "                var nbb_cells = Jupyter.notebook.get_cells();\n",
       "                for (var i = 0; i < nbb_cells.length; ++i) {\n",
       "                    if (nbb_cells[i].input_prompt_number == nbb_cell_id) {\n",
       "                        if (nbb_cells[i].get_text() == nbb_unformatted_code) {\n",
       "                             nbb_cells[i].set_text(nbb_formatted_code);\n",
       "                        }\n",
       "                        break;\n",
       "                    }\n",
       "                }\n",
       "            }, 500);\n",
       "            "
      ],
      "text/plain": [
       "<IPython.core.display.Javascript object>"
      ]
     },
     "metadata": {},
     "output_type": "display_data"
    }
   ],
   "source": [
    "group_by_class = {}\n",
    "for cra in crabadas:\n",
    "    class_name = cra[\"class_name\"]\n",
    "    if class_name in group_by_class:\n",
    "        group_by_class[class_name] = group_by_class[class_name] + 1\n",
    "    else:\n",
    "        group_by_class[class_name] = 1\n",
    "\n",
    "fig = px.bar(x=group_by_class.keys(), y=group_by_class.values())\n",
    "fig.show()"
   ]
  },
  {
   "cell_type": "code",
   "execution_count": null,
   "id": "ef670bfc",
   "metadata": {},
   "outputs": [],
   "source": []
  }
 ],
 "metadata": {
  "kernelspec": {
   "display_name": "Python 3 (ipykernel)",
   "language": "python",
   "name": "python3"
  },
  "language_info": {
   "codemirror_mode": {
    "name": "ipython",
    "version": 3
   },
   "file_extension": ".py",
   "mimetype": "text/x-python",
   "name": "python",
   "nbconvert_exporter": "python",
   "pygments_lexer": "ipython3",
   "version": "3.9.10"
  }
 },
 "nbformat": 4,
 "nbformat_minor": 5
}
