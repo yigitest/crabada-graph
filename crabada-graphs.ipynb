{
 "cells": [
  {
   "cell_type": "code",
   "execution_count": 1,
   "id": "e6f8357b",
   "metadata": {},
   "outputs": [
    {
     "data": {
      "application/javascript": [
       "\n",
       "            setTimeout(function() {\n",
       "                var nbb_cell_id = 1;\n",
       "                var nbb_unformatted_code = \"%load_ext nb_black\";\n",
       "                var nbb_formatted_code = \"%load_ext nb_black\";\n",
       "                var nbb_cells = Jupyter.notebook.get_cells();\n",
       "                for (var i = 0; i < nbb_cells.length; ++i) {\n",
       "                    if (nbb_cells[i].input_prompt_number == nbb_cell_id) {\n",
       "                        if (nbb_cells[i].get_text() == nbb_unformatted_code) {\n",
       "                             nbb_cells[i].set_text(nbb_formatted_code);\n",
       "                        }\n",
       "                        break;\n",
       "                    }\n",
       "                }\n",
       "            }, 500);\n",
       "            "
      ],
      "text/plain": [
       "<IPython.core.display.Javascript object>"
      ]
     },
     "metadata": {},
     "output_type": "display_data"
    }
   ],
   "source": [
    "%load_ext nb_black"
   ]
  },
  {
   "cell_type": "code",
   "execution_count": 2,
   "id": "e78451ab",
   "metadata": {},
   "outputs": [
    {
     "data": {
      "application/javascript": [
       "\n",
       "            setTimeout(function() {\n",
       "                var nbb_cell_id = 2;\n",
       "                var nbb_unformatted_code = \"import requests\\nfrom datetime import datetime\";\n",
       "                var nbb_formatted_code = \"import requests\\nfrom datetime import datetime\";\n",
       "                var nbb_cells = Jupyter.notebook.get_cells();\n",
       "                for (var i = 0; i < nbb_cells.length; ++i) {\n",
       "                    if (nbb_cells[i].input_prompt_number == nbb_cell_id) {\n",
       "                        if (nbb_cells[i].get_text() == nbb_unformatted_code) {\n",
       "                             nbb_cells[i].set_text(nbb_formatted_code);\n",
       "                        }\n",
       "                        break;\n",
       "                    }\n",
       "                }\n",
       "            }, 500);\n",
       "            "
      ],
      "text/plain": [
       "<IPython.core.display.Javascript object>"
      ]
     },
     "metadata": {},
     "output_type": "display_data"
    }
   ],
   "source": [
    "import requests\n",
    "from datetime import datetime"
   ]
  },
  {
   "cell_type": "code",
   "execution_count": 3,
   "id": "251e0fbe",
   "metadata": {},
   "outputs": [
    {
     "data": {
      "application/javascript": [
       "\n",
       "            setTimeout(function() {\n",
       "                var nbb_cell_id = 3;\n",
       "                var nbb_unformatted_code = \"def _get_matched_recently(limit=1000, pure_number=-1, breed_count=-1, class_name=None):\\n    url = \\\"https://api.crabada.com/public/order/matched-recently\\\"\\n    params = {\\\"limit\\\": limit}\\n    result = requests.get(url=url, params=params)\\n    result.raise_for_status()\\n\\n    json = result.json()\\n\\n    crabadas = json[\\\"result\\\"]\\n\\n    def check_crabada(cra):\\n        if pure_number != -1 and cra[\\\"pure_number\\\"] != pure_number:\\n            return False\\n        if breed_count != -1 and cra[\\\"breed_count\\\"] != breed_count:\\n            return False\\n        if class_name is not None and cra[\\\"class_name\\\"] != class_name:\\n            return False\\n        return True\\n\\n    filtered_crabadas = [cra for cra in crabadas if check_crabada(cra)]\\n    return filtered_crabadas\";\n",
       "                var nbb_formatted_code = \"def _get_matched_recently(limit=1000, pure_number=-1, breed_count=-1, class_name=None):\\n    url = \\\"https://api.crabada.com/public/order/matched-recently\\\"\\n    params = {\\\"limit\\\": limit}\\n    result = requests.get(url=url, params=params)\\n    result.raise_for_status()\\n\\n    json = result.json()\\n\\n    crabadas = json[\\\"result\\\"]\\n\\n    def check_crabada(cra):\\n        if pure_number != -1 and cra[\\\"pure_number\\\"] != pure_number:\\n            return False\\n        if breed_count != -1 and cra[\\\"breed_count\\\"] != breed_count:\\n            return False\\n        if class_name is not None and cra[\\\"class_name\\\"] != class_name:\\n            return False\\n        return True\\n\\n    filtered_crabadas = [cra for cra in crabadas if check_crabada(cra)]\\n    return filtered_crabadas\";\n",
       "                var nbb_cells = Jupyter.notebook.get_cells();\n",
       "                for (var i = 0; i < nbb_cells.length; ++i) {\n",
       "                    if (nbb_cells[i].input_prompt_number == nbb_cell_id) {\n",
       "                        if (nbb_cells[i].get_text() == nbb_unformatted_code) {\n",
       "                             nbb_cells[i].set_text(nbb_formatted_code);\n",
       "                        }\n",
       "                        break;\n",
       "                    }\n",
       "                }\n",
       "            }, 500);\n",
       "            "
      ],
      "text/plain": [
       "<IPython.core.display.Javascript object>"
      ]
     },
     "metadata": {},
     "output_type": "display_data"
    }
   ],
   "source": [
    "def _get_matched_recently(limit=1000, pure_number=-1, breed_count=-1, class_name=None):\n",
    "    url = \"https://api.crabada.com/public/order/matched-recently\"\n",
    "    params = {\"limit\": limit}\n",
    "    result = requests.get(url=url, params=params)\n",
    "    result.raise_for_status()\n",
    "\n",
    "    json = result.json()\n",
    "\n",
    "    crabadas = json[\"result\"]\n",
    "\n",
    "    def check_crabada(cra):\n",
    "        if pure_number != -1 and cra[\"pure_number\"] != pure_number:\n",
    "            return False\n",
    "        if breed_count != -1 and cra[\"breed_count\"] != breed_count:\n",
    "            return False\n",
    "        if class_name is not None and cra[\"class_name\"] != class_name:\n",
    "            return False\n",
    "        return True\n",
    "\n",
    "    filtered_crabadas = [cra for cra in crabadas if check_crabada(cra)]\n",
    "    return filtered_crabadas"
   ]
  },
  {
   "cell_type": "code",
   "execution_count": 7,
   "id": "1ea29127",
   "metadata": {},
   "outputs": [
    {
     "data": {
      "application/javascript": [
       "\n",
       "            setTimeout(function() {\n",
       "                var nbb_cell_id = 7;\n",
       "                var nbb_unformatted_code = \"crabadas = _get_matched_recently(\\n    limit=1000, pure_number=6, breed_count=2, class_name=None\\n)\";\n",
       "                var nbb_formatted_code = \"crabadas = _get_matched_recently(\\n    limit=1000, pure_number=6, breed_count=2, class_name=None\\n)\";\n",
       "                var nbb_cells = Jupyter.notebook.get_cells();\n",
       "                for (var i = 0; i < nbb_cells.length; ++i) {\n",
       "                    if (nbb_cells[i].input_prompt_number == nbb_cell_id) {\n",
       "                        if (nbb_cells[i].get_text() == nbb_unformatted_code) {\n",
       "                             nbb_cells[i].set_text(nbb_formatted_code);\n",
       "                        }\n",
       "                        break;\n",
       "                    }\n",
       "                }\n",
       "            }, 500);\n",
       "            "
      ],
      "text/plain": [
       "<IPython.core.display.Javascript object>"
      ]
     },
     "metadata": {},
     "output_type": "display_data"
    }
   ],
   "source": [
    "crabadas = _get_matched_recently(\n",
    "    limit=1000, pure_number=6, breed_count=2, class_name=None\n",
    ")"
   ]
  },
  {
   "cell_type": "code",
   "execution_count": 8,
   "id": "351e7824",
   "metadata": {},
   "outputs": [
    {
     "data": {
      "application/vnd.plotly.v1+json": {
       "config": {
        "plotlyServerURL": "https://plot.ly"
       },
       "data": [
        {
         "hovertemplate": "<b>%{hovertext}</b><br><br>color=PRIME<br>x=%{x}<br>y=%{y}<extra></extra>",
         "hovertext": [
          "PRIME-P6-B2",
          "PRIME-P6-B2",
          "PRIME-P6-B2",
          "PRIME-P6-B2",
          "PRIME-P6-B2",
          "PRIME-P6-B2",
          "PRIME-P6-B2",
          "PRIME-P6-B2",
          "PRIME-P6-B2",
          "PRIME-P6-B2",
          "PRIME-P6-B2",
          "PRIME-P6-B2",
          "PRIME-P6-B2",
          "PRIME-P6-B2",
          "PRIME-P6-B2",
          "PRIME-P6-B2",
          "PRIME-P6-B2",
          "PRIME-P6-B2",
          "PRIME-P6-B2",
          "PRIME-P6-B2",
          "PRIME-P6-B2",
          "PRIME-P6-B2",
          "PRIME-P6-B2",
          "PRIME-P6-B2",
          "PRIME-P6-B2",
          "PRIME-P6-B2",
          "PRIME-P6-B2",
          "PRIME-P6-B2",
          "PRIME-P6-B2",
          "PRIME-P6-B2",
          "PRIME-P6-B2",
          "PRIME-P6-B2",
          "PRIME-P6-B2",
          "PRIME-P6-B2",
          "PRIME-P6-B2",
          "PRIME-P6-B2",
          "PRIME-P6-B2",
          "PRIME-P6-B2",
          "PRIME-P6-B2",
          "PRIME-P6-B2",
          "PRIME-P6-B2",
          "PRIME-P6-B2",
          "PRIME-P6-B2",
          "PRIME-P6-B2",
          "PRIME-P6-B2",
          "PRIME-P6-B2",
          "PRIME-P6-B2",
          "PRIME-P6-B2",
          "PRIME-P6-B2",
          "PRIME-P6-B2",
          "PRIME-P6-B2",
          "PRIME-P6-B2",
          "PRIME-P6-B2",
          "PRIME-P6-B2",
          "PRIME-P6-B2",
          "PRIME-P6-B2",
          "PRIME-P6-B2",
          "PRIME-P6-B2",
          "PRIME-P6-B2",
          "PRIME-P6-B2",
          "PRIME-P6-B2",
          "PRIME-P6-B2",
          "PRIME-P6-B2",
          "PRIME-P6-B2",
          "PRIME-P6-B2",
          "PRIME-P6-B2",
          "PRIME-P6-B2",
          "PRIME-P6-B2",
          "PRIME-P6-B2",
          "PRIME-P6-B2",
          "PRIME-P6-B2",
          "PRIME-P6-B2",
          "PRIME-P6-B2",
          "PRIME-P6-B2",
          "PRIME-P6-B2",
          "PRIME-P6-B2",
          "PRIME-P6-B2",
          "PRIME-P6-B2",
          "PRIME-P6-B2",
          "PRIME-P6-B2",
          "PRIME-P6-B2",
          "PRIME-P6-B2",
          "PRIME-P6-B2",
          "PRIME-P6-B2",
          "PRIME-P6-B2",
          "PRIME-P6-B2",
          "PRIME-P6-B2",
          "PRIME-P6-B2",
          "PRIME-P6-B2",
          "PRIME-P6-B2",
          "PRIME-P6-B2",
          "PRIME-P6-B2",
          "PRIME-P6-B2",
          "PRIME-P6-B2",
          "PRIME-P6-B2",
          "PRIME-P6-B2",
          "PRIME-P6-B2",
          "PRIME-P6-B2",
          "PRIME-P6-B2",
          "PRIME-P6-B2",
          "PRIME-P6-B2",
          "PRIME-P6-B2",
          "PRIME-P6-B2",
          "PRIME-P6-B2",
          "PRIME-P6-B2",
          "PRIME-P6-B2",
          "PRIME-P6-B2",
          "PRIME-P6-B2",
          "PRIME-P6-B2",
          "PRIME-P6-B2",
          "PRIME-P6-B2",
          "PRIME-P6-B2",
          "PRIME-P6-B2",
          "PRIME-P6-B2",
          "PRIME-P6-B2",
          "PRIME-P6-B2",
          "PRIME-P6-B2",
          "PRIME-P6-B2",
          "PRIME-P6-B2",
          "PRIME-P6-B2"
         ],
         "legendgroup": "PRIME",
         "marker": {
          "color": "#636efa",
          "symbol": "circle"
         },
         "mode": "markers",
         "name": "PRIME",
         "orientation": "v",
         "showlegend": true,
         "type": "scatter",
         "x": [
          "2022-03-25T11:11:23",
          "2022-03-25T10:54:39",
          "2022-03-25T10:50:47",
          "2022-03-25T10:44:13",
          "2022-03-25T10:31:13",
          "2022-03-25T10:12:07",
          "2022-03-25T10:10:28",
          "2022-03-25T10:08:09",
          "2022-03-25T10:06:52",
          "2022-03-25T09:58:30",
          "2022-03-25T09:26:53",
          "2022-03-25T08:55:33",
          "2022-03-25T08:47:55",
          "2022-03-25T08:44:18",
          "2022-03-25T08:14:10",
          "2022-03-25T08:11:01",
          "2022-03-25T08:05:31",
          "2022-03-25T07:52:28",
          "2022-03-25T07:35:57",
          "2022-03-25T07:22:18",
          "2022-03-25T07:05:24",
          "2022-03-25T07:03:39",
          "2022-03-25T06:45:44",
          "2022-03-25T06:45:11",
          "2022-03-25T06:43:02",
          "2022-03-25T06:37:58",
          "2022-03-25T06:30:10",
          "2022-03-25T06:29:44",
          "2022-03-25T06:29:20",
          "2022-03-25T06:28:54",
          "2022-03-25T06:28:28",
          "2022-03-25T06:27:02",
          "2022-03-25T06:25:50",
          "2022-03-25T06:06:47",
          "2022-03-25T06:04:33",
          "2022-03-25T05:42:39",
          "2022-03-25T05:35:46",
          "2022-03-25T05:34:49",
          "2022-03-25T05:06:34",
          "2022-03-25T04:52:44",
          "2022-03-25T04:18:41",
          "2022-03-25T04:13:45",
          "2022-03-25T04:04:37",
          "2022-03-25T03:52:36",
          "2022-03-25T03:15:43",
          "2022-03-25T03:05:07",
          "2022-03-25T02:48:39",
          "2022-03-25T02:48:35",
          "2022-03-25T02:31:58",
          "2022-03-25T02:28:32",
          "2022-03-25T02:12:34",
          "2022-03-25T02:00:15",
          "2022-03-25T01:57:31",
          "2022-03-25T01:48:11",
          "2022-03-25T01:43:09",
          "2022-03-25T01:41:25",
          "2022-03-25T01:09:49",
          "2022-03-25T00:44:25",
          "2022-03-25T00:25:10",
          "2022-03-25T00:23:37",
          "2022-03-25T00:23:31",
          "2022-03-25T00:23:27",
          "2022-03-25T00:16:29",
          "2022-03-25T00:05:10",
          "2022-03-24T23:57:31",
          "2022-03-24T23:20:24",
          "2022-03-24T23:08:01",
          "2022-03-24T23:07:25",
          "2022-03-24T23:04:29",
          "2022-03-24T22:57:18",
          "2022-03-24T22:47:18",
          "2022-03-24T22:46:13",
          "2022-03-24T22:40:52",
          "2022-03-24T22:21:57",
          "2022-03-24T22:21:24",
          "2022-03-24T22:13:59",
          "2022-03-24T22:10:43",
          "2022-03-24T21:55:13",
          "2022-03-24T20:14:12",
          "2022-03-24T18:52:33",
          "2022-03-24T18:51:47",
          "2022-03-24T18:21:02",
          "2022-03-24T18:19:51",
          "2022-03-24T18:13:14",
          "2022-03-24T18:03:45",
          "2022-03-24T17:34:53",
          "2022-03-24T17:31:05",
          "2022-03-24T17:25:03",
          "2022-03-24T17:21:56",
          "2022-03-24T16:52:22",
          "2022-03-24T16:46:12",
          "2022-03-24T16:42:58",
          "2022-03-24T16:32:09",
          "2022-03-24T15:45:25",
          "2022-03-24T15:40:56",
          "2022-03-24T15:24:00",
          "2022-03-24T15:23:30",
          "2022-03-24T15:19:57",
          "2022-03-24T15:07:47",
          "2022-03-24T14:21:07",
          "2022-03-24T14:05:49",
          "2022-03-24T14:05:33",
          "2022-03-24T13:34:37",
          "2022-03-24T13:11:52",
          "2022-03-24T13:04:49",
          "2022-03-24T13:02:48",
          "2022-03-24T12:59:53",
          "2022-03-24T12:58:34",
          "2022-03-24T12:57:30",
          "2022-03-24T12:42:16",
          "2022-03-24T12:38:01",
          "2022-03-24T12:23:00",
          "2022-03-24T12:22:48",
          "2022-03-24T11:24:56",
          "2022-03-24T11:24:00",
          "2022-03-24T11:22:17",
          "2022-03-24T11:12:20",
          "2022-03-24T10:19:40",
          "2022-03-24T09:55:35",
          "2022-03-24T09:48:23"
         ],
         "xaxis": "x",
         "y": [
          18188,
          18000,
          18000,
          17900,
          17899,
          18000,
          17999,
          18199,
          17998,
          18399,
          18380,
          30999,
          18399,
          18390,
          18488,
          17999,
          18688,
          18500,
          18899,
          18899,
          17988,
          17988,
          17987,
          17987,
          17987,
          17987,
          17899,
          17899,
          17899,
          17899,
          17899,
          17899,
          17850,
          29998.999999999996,
          17899,
          17600,
          16999,
          16999,
          17899,
          17899,
          17899,
          17899,
          17899,
          17899,
          30899,
          17980,
          17988,
          17900,
          17980,
          17980,
          17988,
          17979,
          31069,
          31000.000000000004,
          30420,
          30420,
          17800,
          17980,
          18999,
          17980,
          31799,
          32069,
          17950,
          16250,
          17900,
          31000.000000000004,
          17900,
          30999,
          17700,
          14999,
          17700,
          17499,
          17650,
          17650,
          17650,
          17650,
          17650,
          17450,
          17700,
          17245,
          16740,
          17298,
          17298,
          17298,
          17298,
          17298,
          17298,
          17295,
          17050,
          16999,
          16860,
          17298,
          17050,
          17223,
          17298,
          17223,
          17223,
          17223,
          17399,
          17224,
          17224,
          17199,
          17199,
          20999.999999999996,
          17549,
          17399,
          17290,
          17234,
          17224,
          17250,
          17276,
          31925,
          31945,
          17300,
          17318,
          17399,
          17485,
          17350,
          17375,
          17459
         ],
         "yaxis": "y"
        },
        {
         "hovertemplate": "<b>%{hovertext}</b><br><br>color=BULK<br>x=%{x}<br>y=%{y}<extra></extra>",
         "hovertext": [
          "BULK-P6-B2",
          "BULK-P6-B2",
          "BULK-P6-B2",
          "BULK-P6-B2",
          "BULK-P6-B2",
          "BULK-P6-B2",
          "BULK-P6-B2",
          "BULK-P6-B2",
          "BULK-P6-B2",
          "BULK-P6-B2",
          "BULK-P6-B2",
          "BULK-P6-B2",
          "BULK-P6-B2",
          "BULK-P6-B2",
          "BULK-P6-B2",
          "BULK-P6-B2",
          "BULK-P6-B2",
          "BULK-P6-B2",
          "BULK-P6-B2",
          "BULK-P6-B2",
          "BULK-P6-B2",
          "BULK-P6-B2",
          "BULK-P6-B2",
          "BULK-P6-B2",
          "BULK-P6-B2",
          "BULK-P6-B2",
          "BULK-P6-B2",
          "BULK-P6-B2",
          "BULK-P6-B2",
          "BULK-P6-B2",
          "BULK-P6-B2",
          "BULK-P6-B2",
          "BULK-P6-B2",
          "BULK-P6-B2",
          "BULK-P6-B2",
          "BULK-P6-B2",
          "BULK-P6-B2",
          "BULK-P6-B2",
          "BULK-P6-B2",
          "BULK-P6-B2",
          "BULK-P6-B2",
          "BULK-P6-B2",
          "BULK-P6-B2",
          "BULK-P6-B2",
          "BULK-P6-B2",
          "BULK-P6-B2",
          "BULK-P6-B2",
          "BULK-P6-B2",
          "BULK-P6-B2",
          "BULK-P6-B2",
          "BULK-P6-B2",
          "BULK-P6-B2",
          "BULK-P6-B2",
          "BULK-P6-B2",
          "BULK-P6-B2",
          "BULK-P6-B2",
          "BULK-P6-B2",
          "BULK-P6-B2",
          "BULK-P6-B2",
          "BULK-P6-B2",
          "BULK-P6-B2",
          "BULK-P6-B2",
          "BULK-P6-B2",
          "BULK-P6-B2",
          "BULK-P6-B2",
          "BULK-P6-B2",
          "BULK-P6-B2",
          "BULK-P6-B2",
          "BULK-P6-B2",
          "BULK-P6-B2",
          "BULK-P6-B2",
          "BULK-P6-B2",
          "BULK-P6-B2",
          "BULK-P6-B2",
          "BULK-P6-B2",
          "BULK-P6-B2",
          "BULK-P6-B2",
          "BULK-P6-B2",
          "BULK-P6-B2",
          "BULK-P6-B2",
          "BULK-P6-B2",
          "BULK-P6-B2",
          "BULK-P6-B2",
          "BULK-P6-B2",
          "BULK-P6-B2",
          "BULK-P6-B2",
          "BULK-P6-B2",
          "BULK-P6-B2",
          "BULK-P6-B2",
          "BULK-P6-B2",
          "BULK-P6-B2",
          "BULK-P6-B2",
          "BULK-P6-B2",
          "BULK-P6-B2",
          "BULK-P6-B2",
          "BULK-P6-B2",
          "BULK-P6-B2",
          "BULK-P6-B2",
          "BULK-P6-B2",
          "BULK-P6-B2",
          "BULK-P6-B2",
          "BULK-P6-B2",
          "BULK-P6-B2",
          "BULK-P6-B2",
          "BULK-P6-B2",
          "BULK-P6-B2",
          "BULK-P6-B2",
          "BULK-P6-B2",
          "BULK-P6-B2",
          "BULK-P6-B2",
          "BULK-P6-B2",
          "BULK-P6-B2",
          "BULK-P6-B2",
          "BULK-P6-B2",
          "BULK-P6-B2",
          "BULK-P6-B2",
          "BULK-P6-B2"
         ],
         "legendgroup": "BULK",
         "marker": {
          "color": "#EF553B",
          "symbol": "circle"
         },
         "mode": "markers",
         "name": "BULK",
         "orientation": "v",
         "showlegend": true,
         "type": "scatter",
         "x": [
          "2022-03-25T11:04:15",
          "2022-03-25T10:42:17",
          "2022-03-25T10:38:18",
          "2022-03-25T10:25:51",
          "2022-03-25T09:35:36",
          "2022-03-25T09:23:13",
          "2022-03-25T09:17:03",
          "2022-03-25T08:29:59",
          "2022-03-25T08:20:31",
          "2022-03-25T08:09:11",
          "2022-03-25T07:55:38",
          "2022-03-25T07:00:42",
          "2022-03-25T06:52:34",
          "2022-03-25T06:33:57",
          "2022-03-25T06:06:24",
          "2022-03-25T05:48:01",
          "2022-03-25T05:46:27",
          "2022-03-25T05:43:53",
          "2022-03-25T05:29:51",
          "2022-03-25T05:28:36",
          "2022-03-25T05:14:32",
          "2022-03-25T05:12:31",
          "2022-03-25T05:08:11",
          "2022-03-25T05:04:18",
          "2022-03-25T04:38:45",
          "2022-03-25T04:19:57",
          "2022-03-25T04:07:31",
          "2022-03-25T03:41:30",
          "2022-03-25T03:06:21",
          "2022-03-25T02:55:31",
          "2022-03-25T02:26:51",
          "2022-03-25T02:19:33",
          "2022-03-25T02:18:47",
          "2022-03-25T02:06:08",
          "2022-03-25T01:57:29",
          "2022-03-25T01:23:06",
          "2022-03-25T01:17:05",
          "2022-03-25T00:42:41",
          "2022-03-25T00:41:22",
          "2022-03-25T00:22:37",
          "2022-03-25T00:22:19",
          "2022-03-25T00:20:57",
          "2022-03-25T00:18:23",
          "2022-03-25T00:17:54",
          "2022-03-24T23:36:04",
          "2022-03-24T23:35:28",
          "2022-03-24T23:34:48",
          "2022-03-24T23:11:34",
          "2022-03-24T22:09:46",
          "2022-03-24T22:05:54",
          "2022-03-24T22:05:24",
          "2022-03-24T22:04:59",
          "2022-03-24T22:04:03",
          "2022-03-24T22:04:02",
          "2022-03-24T22:03:41",
          "2022-03-24T22:03:01",
          "2022-03-24T22:02:23",
          "2022-03-24T22:01:47",
          "2022-03-24T21:54:53",
          "2022-03-24T21:36:45",
          "2022-03-24T21:34:33",
          "2022-03-24T21:32:45",
          "2022-03-24T21:32:09",
          "2022-03-24T21:28:52",
          "2022-03-24T21:17:15",
          "2022-03-24T20:58:32",
          "2022-03-24T20:45:43",
          "2022-03-24T20:31:25",
          "2022-03-24T20:31:20",
          "2022-03-24T20:30:08",
          "2022-03-24T20:29:46",
          "2022-03-24T20:29:40",
          "2022-03-24T20:29:36",
          "2022-03-24T20:29:32",
          "2022-03-24T20:25:25",
          "2022-03-24T20:22:24",
          "2022-03-24T20:20:51",
          "2022-03-24T20:19:41",
          "2022-03-24T20:19:34",
          "2022-03-24T20:10:03",
          "2022-03-24T19:39:21",
          "2022-03-24T19:22:14",
          "2022-03-24T18:51:51",
          "2022-03-24T17:57:06",
          "2022-03-24T17:25:02",
          "2022-03-24T17:24:42",
          "2022-03-24T17:23:47",
          "2022-03-24T17:08:53",
          "2022-03-24T16:57:16",
          "2022-03-24T16:50:34",
          "2022-03-24T16:48:11",
          "2022-03-24T16:15:05",
          "2022-03-24T15:26:43",
          "2022-03-24T15:11:37",
          "2022-03-24T15:09:21",
          "2022-03-24T15:06:56",
          "2022-03-24T15:06:50",
          "2022-03-24T15:05:47",
          "2022-03-24T15:02:31",
          "2022-03-24T13:50:09",
          "2022-03-24T13:47:34",
          "2022-03-24T13:46:23",
          "2022-03-24T13:22:53",
          "2022-03-24T13:21:33",
          "2022-03-24T13:21:24",
          "2022-03-24T13:10:47",
          "2022-03-24T13:10:38",
          "2022-03-24T13:06:37",
          "2022-03-24T13:04:11",
          "2022-03-24T13:04:04",
          "2022-03-24T12:37:42",
          "2022-03-24T12:33:54",
          "2022-03-24T11:40:08",
          "2022-03-24T10:33:59",
          "2022-03-24T10:00:07",
          "2022-03-24T09:41:18",
          "2022-03-24T09:18:15"
         ],
         "xaxis": "x",
         "y": [
          15950,
          15900.000000000002,
          15900.000000000002,
          16000,
          16250,
          16000,
          15999,
          16000,
          16000,
          16000,
          16000,
          15999,
          15999,
          16333,
          16369,
          16699,
          16600,
          16400,
          16570,
          16570,
          16560,
          16300.000000000002,
          16300.000000000002,
          16250,
          16250,
          16199,
          16240,
          17800,
          16240,
          16150,
          16240,
          16250,
          16099.999999999998,
          16050,
          16700,
          16199,
          16250,
          16250,
          16240,
          16300.000000000002,
          16199,
          16200,
          16099,
          16099,
          16450,
          16450,
          16440,
          16500,
          22000,
          16489,
          16488,
          16460,
          16460,
          16460,
          16445,
          16445,
          16440,
          16440,
          16350,
          15900.000000000002,
          15900.000000000002,
          15699.999999999998,
          15699.999999999998,
          15600,
          16350,
          22000,
          16450,
          16488,
          16460,
          16480,
          16470,
          16460,
          16450,
          16450,
          16450,
          16488,
          16488,
          16488,
          16488,
          16488,
          15999,
          15800,
          16590,
          16600,
          16550,
          16480,
          16699,
          18700,
          16495,
          16400,
          16400,
          16399,
          16460,
          16349,
          16345,
          16350,
          16345,
          24999.999999999996,
          16345,
          16300.000000000002,
          16298,
          16297,
          16345,
          16290,
          16280,
          16250,
          16240,
          16232,
          16230,
          16230,
          16240,
          16220.000000000002,
          16230,
          16210,
          16230,
          16229,
          16220.000000000002
         ],
         "yaxis": "y"
        },
        {
         "hovertemplate": "<b>%{hovertext}</b><br><br>color=GEM<br>x=%{x}<br>y=%{y}<extra></extra>",
         "hovertext": [
          "GEM-P6-B2",
          "GEM-P6-B2",
          "GEM-P6-B2",
          "GEM-P6-B2",
          "GEM-P6-B2",
          "GEM-P6-B2",
          "GEM-P6-B2",
          "GEM-P6-B2",
          "GEM-P6-B2",
          "GEM-P6-B2",
          "GEM-P6-B2",
          "GEM-P6-B2",
          "GEM-P6-B2",
          "GEM-P6-B2",
          "GEM-P6-B2",
          "GEM-P6-B2",
          "GEM-P6-B2",
          "GEM-P6-B2",
          "GEM-P6-B2",
          "GEM-P6-B2",
          "GEM-P6-B2",
          "GEM-P6-B2",
          "GEM-P6-B2",
          "GEM-P6-B2",
          "GEM-P6-B2",
          "GEM-P6-B2",
          "GEM-P6-B2",
          "GEM-P6-B2",
          "GEM-P6-B2",
          "GEM-P6-B2",
          "GEM-P6-B2",
          "GEM-P6-B2",
          "GEM-P6-B2",
          "GEM-P6-B2",
          "GEM-P6-B2",
          "GEM-P6-B2",
          "GEM-P6-B2",
          "GEM-P6-B2",
          "GEM-P6-B2",
          "GEM-P6-B2",
          "GEM-P6-B2",
          "GEM-P6-B2",
          "GEM-P6-B2",
          "GEM-P6-B2",
          "GEM-P6-B2",
          "GEM-P6-B2",
          "GEM-P6-B2",
          "GEM-P6-B2",
          "GEM-P6-B2",
          "GEM-P6-B2",
          "GEM-P6-B2",
          "GEM-P6-B2",
          "GEM-P6-B2",
          "GEM-P6-B2",
          "GEM-P6-B2",
          "GEM-P6-B2",
          "GEM-P6-B2",
          "GEM-P6-B2",
          "GEM-P6-B2",
          "GEM-P6-B2",
          "GEM-P6-B2",
          "GEM-P6-B2",
          "GEM-P6-B2",
          "GEM-P6-B2"
         ],
         "legendgroup": "GEM",
         "marker": {
          "color": "#00cc96",
          "symbol": "circle"
         },
         "mode": "markers",
         "name": "GEM",
         "orientation": "v",
         "showlegend": true,
         "type": "scatter",
         "x": [
          "2022-03-25T10:42:35",
          "2022-03-25T10:42:10",
          "2022-03-25T10:40:50",
          "2022-03-25T10:37:19",
          "2022-03-25T09:51:28",
          "2022-03-25T09:21:45",
          "2022-03-25T09:03:04",
          "2022-03-25T08:48:02",
          "2022-03-25T07:10:03",
          "2022-03-25T07:09:24",
          "2022-03-25T06:32:44",
          "2022-03-25T06:03:07",
          "2022-03-25T05:48:54",
          "2022-03-25T05:11:37",
          "2022-03-25T05:11:27",
          "2022-03-25T05:05:52",
          "2022-03-25T04:41:19",
          "2022-03-25T03:47:52",
          "2022-03-25T03:47:47",
          "2022-03-25T03:11:17",
          "2022-03-25T03:10:06",
          "2022-03-25T03:09:32",
          "2022-03-25T03:07:41",
          "2022-03-25T03:06:37",
          "2022-03-25T02:54:56",
          "2022-03-25T02:54:51",
          "2022-03-25T02:54:45",
          "2022-03-25T02:17:59",
          "2022-03-25T02:17:25",
          "2022-03-25T02:09:27",
          "2022-03-25T02:09:17",
          "2022-03-25T01:22:20",
          "2022-03-25T01:20:58",
          "2022-03-24T21:59:49",
          "2022-03-24T21:33:45",
          "2022-03-24T20:18:39",
          "2022-03-24T20:01:03",
          "2022-03-24T19:08:59",
          "2022-03-24T19:07:14",
          "2022-03-24T19:04:22",
          "2022-03-24T18:21:37",
          "2022-03-24T17:11:17",
          "2022-03-24T17:11:05",
          "2022-03-24T14:37:28",
          "2022-03-24T13:55:30",
          "2022-03-24T13:53:00",
          "2022-03-24T13:42:30",
          "2022-03-24T13:11:24",
          "2022-03-24T13:11:14",
          "2022-03-24T13:11:05",
          "2022-03-24T13:10:56",
          "2022-03-24T13:07:01",
          "2022-03-24T13:06:52",
          "2022-03-24T13:03:50",
          "2022-03-24T13:00:41",
          "2022-03-24T12:38:27",
          "2022-03-24T11:43:10",
          "2022-03-24T10:32:58",
          "2022-03-24T10:23:06",
          "2022-03-24T10:22:26",
          "2022-03-24T10:01:34",
          "2022-03-24T10:01:02",
          "2022-03-24T09:03:39",
          "2022-03-24T09:01:51"
         ],
         "xaxis": "x",
         "y": [
          17744,
          17983,
          17300,
          17300,
          17200,
          17299,
          17100,
          17300,
          16099.999999999998,
          16099.999999999998,
          17500,
          17599,
          17599,
          17575,
          17575,
          17500,
          17565,
          17744,
          17575,
          17544,
          17399,
          17399,
          17399,
          17399,
          17444,
          17433,
          17400,
          17395,
          17385,
          17290,
          17280,
          17385,
          17290,
          17395,
          17300,
          17550,
          18000,
          17750,
          17588,
          17588,
          17600,
          17999,
          17999,
          25998.999999999996,
          25998.999999999996,
          25250,
          17988,
          17588,
          17500,
          17100,
          17000,
          16988,
          16900,
          16800,
          16600,
          16700,
          16980,
          16700,
          16550,
          16600,
          16450,
          16450,
          16333,
          16333
         ],
         "yaxis": "y"
        },
        {
         "hovertemplate": "<b>%{hovertext}</b><br><br>color=ORGANIC<br>x=%{x}<br>y=%{y}<extra></extra>",
         "hovertext": [
          "ORGANIC-P6-B2",
          "ORGANIC-P6-B2",
          "ORGANIC-P6-B2",
          "ORGANIC-P6-B2"
         ],
         "legendgroup": "ORGANIC",
         "marker": {
          "color": "#ab63fa",
          "symbol": "circle"
         },
         "mode": "markers",
         "name": "ORGANIC",
         "orientation": "v",
         "showlegend": true,
         "type": "scatter",
         "x": [
          "2022-03-25T10:32:29",
          "2022-03-25T10:31:20",
          "2022-03-25T04:40:17",
          "2022-03-25T00:08:49"
         ],
         "xaxis": "x",
         "y": [
          36999,
          37798.99999999999,
          32999,
          22999
         ],
         "yaxis": "y"
        },
        {
         "hovertemplate": "<b>%{hovertext}</b><br><br>color=CRABOID<br>x=%{x}<br>y=%{y}<extra></extra>",
         "hovertext": [
          "CRABOID-P6-B2",
          "CRABOID-P6-B2",
          "CRABOID-P6-B2",
          "CRABOID-P6-B2",
          "CRABOID-P6-B2",
          "CRABOID-P6-B2",
          "CRABOID-P6-B2",
          "CRABOID-P6-B2",
          "CRABOID-P6-B2",
          "CRABOID-P6-B2",
          "CRABOID-P6-B2",
          "CRABOID-P6-B2",
          "CRABOID-P6-B2",
          "CRABOID-P6-B2",
          "CRABOID-P6-B2",
          "CRABOID-P6-B2",
          "CRABOID-P6-B2",
          "CRABOID-P6-B2",
          "CRABOID-P6-B2",
          "CRABOID-P6-B2",
          "CRABOID-P6-B2",
          "CRABOID-P6-B2",
          "CRABOID-P6-B2",
          "CRABOID-P6-B2",
          "CRABOID-P6-B2",
          "CRABOID-P6-B2",
          "CRABOID-P6-B2",
          "CRABOID-P6-B2",
          "CRABOID-P6-B2",
          "CRABOID-P6-B2",
          "CRABOID-P6-B2",
          "CRABOID-P6-B2",
          "CRABOID-P6-B2",
          "CRABOID-P6-B2",
          "CRABOID-P6-B2",
          "CRABOID-P6-B2",
          "CRABOID-P6-B2",
          "CRABOID-P6-B2",
          "CRABOID-P6-B2",
          "CRABOID-P6-B2",
          "CRABOID-P6-B2",
          "CRABOID-P6-B2",
          "CRABOID-P6-B2",
          "CRABOID-P6-B2",
          "CRABOID-P6-B2",
          "CRABOID-P6-B2",
          "CRABOID-P6-B2",
          "CRABOID-P6-B2"
         ],
         "legendgroup": "CRABOID",
         "marker": {
          "color": "#FFA15A",
          "symbol": "circle"
         },
         "mode": "markers",
         "name": "CRABOID",
         "orientation": "v",
         "showlegend": true,
         "type": "scatter",
         "x": [
          "2022-03-25T08:44:28",
          "2022-03-25T08:44:07",
          "2022-03-25T06:31:05",
          "2022-03-25T06:30:40",
          "2022-03-25T05:30:54",
          "2022-03-25T05:16:18",
          "2022-03-25T05:10:31",
          "2022-03-25T05:09:22",
          "2022-03-25T05:01:29",
          "2022-03-25T04:59:50",
          "2022-03-25T04:34:00",
          "2022-03-25T04:27:08",
          "2022-03-25T04:22:11",
          "2022-03-25T03:49:36",
          "2022-03-25T03:48:56",
          "2022-03-25T03:48:03",
          "2022-03-25T03:45:21",
          "2022-03-25T03:34:40",
          "2022-03-25T03:05:42",
          "2022-03-25T02:47:29",
          "2022-03-25T02:23:10",
          "2022-03-25T02:20:09",
          "2022-03-25T01:59:02",
          "2022-03-25T01:38:28",
          "2022-03-25T01:22:12",
          "2022-03-25T01:19:42",
          "2022-03-25T00:38:17",
          "2022-03-24T23:54:05",
          "2022-03-24T23:29:41",
          "2022-03-24T23:11:06",
          "2022-03-24T22:12:13",
          "2022-03-24T20:28:04",
          "2022-03-24T20:22:28",
          "2022-03-24T20:17:13",
          "2022-03-24T20:10:10",
          "2022-03-24T18:07:59",
          "2022-03-24T16:30:47",
          "2022-03-24T16:30:17",
          "2022-03-24T16:27:35",
          "2022-03-24T15:05:32",
          "2022-03-24T10:34:10",
          "2022-03-24T10:31:50",
          "2022-03-24T10:14:16",
          "2022-03-24T10:11:04",
          "2022-03-24T10:05:42",
          "2022-03-24T10:04:01",
          "2022-03-24T10:01:15",
          "2022-03-24T09:01:28"
         ],
         "xaxis": "x",
         "y": [
          40000,
          40000,
          18499,
          18499,
          18500,
          18500,
          18400,
          18350,
          18490,
          18485,
          18350,
          18199,
          18450,
          18399,
          18400,
          18399,
          34000,
          18400,
          18400,
          18400,
          18400,
          18450,
          18150,
          18100,
          18050,
          18000,
          18500,
          19000.000000000004,
          18950,
          18500,
          18490,
          31936,
          32222,
          34250,
          31920,
          19250,
          30420,
          30400,
          19849,
          18599,
          18590,
          18000,
          30000,
          30800,
          30890,
          30890,
          30549,
          30969
         ],
         "yaxis": "y"
        },
        {
         "hovertemplate": "<b>%{hovertext}</b><br><br>color=RUINED<br>x=%{x}<br>y=%{y}<extra></extra>",
         "hovertext": [
          "RUINED-P6-B2",
          "RUINED-P6-B2",
          "RUINED-P6-B2",
          "RUINED-P6-B2",
          "RUINED-P6-B2",
          "RUINED-P6-B2",
          "RUINED-P6-B2",
          "RUINED-P6-B2",
          "RUINED-P6-B2",
          "RUINED-P6-B2"
         ],
         "legendgroup": "RUINED",
         "marker": {
          "color": "#19d3f3",
          "symbol": "circle"
         },
         "mode": "markers",
         "name": "RUINED",
         "orientation": "v",
         "showlegend": true,
         "type": "scatter",
         "x": [
          "2022-03-25T08:00:07",
          "2022-03-25T07:31:36",
          "2022-03-25T05:48:15",
          "2022-03-25T02:10:34",
          "2022-03-24T23:59:22",
          "2022-03-24T19:36:45",
          "2022-03-24T18:24:26",
          "2022-03-24T16:40:55",
          "2022-03-24T15:36:23",
          "2022-03-24T12:30:13"
         ],
         "xaxis": "x",
         "y": [
          20300,
          19200,
          17800,
          17999,
          17000,
          17600,
          35975,
          16950,
          17420,
          16750
         ],
         "yaxis": "y"
        },
        {
         "hovertemplate": "<b>%{hovertext}</b><br><br>color=SUNKEN<br>x=%{x}<br>y=%{y}<extra></extra>",
         "hovertext": [
          "SUNKEN-P6-B2",
          "SUNKEN-P6-B2",
          "SUNKEN-P6-B2",
          "SUNKEN-P6-B2",
          "SUNKEN-P6-B2",
          "SUNKEN-P6-B2",
          "SUNKEN-P6-B2",
          "SUNKEN-P6-B2",
          "SUNKEN-P6-B2",
          "SUNKEN-P6-B2",
          "SUNKEN-P6-B2",
          "SUNKEN-P6-B2",
          "SUNKEN-P6-B2",
          "SUNKEN-P6-B2"
         ],
         "legendgroup": "SUNKEN",
         "marker": {
          "color": "#FF6692",
          "symbol": "circle"
         },
         "mode": "markers",
         "name": "SUNKEN",
         "orientation": "v",
         "showlegend": true,
         "type": "scatter",
         "x": [
          "2022-03-25T07:53:25",
          "2022-03-25T07:53:07",
          "2022-03-25T02:19:52",
          "2022-03-25T01:40:32",
          "2022-03-25T01:23:51",
          "2022-03-25T00:57:54",
          "2022-03-25T00:43:03",
          "2022-03-25T00:20:48",
          "2022-03-24T23:58:58",
          "2022-03-24T19:36:05",
          "2022-03-24T17:30:11",
          "2022-03-24T17:30:04",
          "2022-03-24T17:29:59",
          "2022-03-24T17:29:47"
         ],
         "xaxis": "x",
         "y": [
          31300,
          18600,
          32999,
          31700,
          30500,
          19399,
          18950,
          30450,
          19998,
          30850,
          29950,
          29949,
          29900,
          28999.999999999996
         ],
         "yaxis": "y"
        }
       ],
       "layout": {
        "legend": {
         "title": {
          "text": "color"
         },
         "tracegroupgap": 0
        },
        "margin": {
         "t": 60
        },
        "template": {
         "data": {
          "bar": [
           {
            "error_x": {
             "color": "#2a3f5f"
            },
            "error_y": {
             "color": "#2a3f5f"
            },
            "marker": {
             "line": {
              "color": "#E5ECF6",
              "width": 0.5
             },
             "pattern": {
              "fillmode": "overlay",
              "size": 10,
              "solidity": 0.2
             }
            },
            "type": "bar"
           }
          ],
          "barpolar": [
           {
            "marker": {
             "line": {
              "color": "#E5ECF6",
              "width": 0.5
             },
             "pattern": {
              "fillmode": "overlay",
              "size": 10,
              "solidity": 0.2
             }
            },
            "type": "barpolar"
           }
          ],
          "carpet": [
           {
            "aaxis": {
             "endlinecolor": "#2a3f5f",
             "gridcolor": "white",
             "linecolor": "white",
             "minorgridcolor": "white",
             "startlinecolor": "#2a3f5f"
            },
            "baxis": {
             "endlinecolor": "#2a3f5f",
             "gridcolor": "white",
             "linecolor": "white",
             "minorgridcolor": "white",
             "startlinecolor": "#2a3f5f"
            },
            "type": "carpet"
           }
          ],
          "choropleth": [
           {
            "colorbar": {
             "outlinewidth": 0,
             "ticks": ""
            },
            "type": "choropleth"
           }
          ],
          "contour": [
           {
            "colorbar": {
             "outlinewidth": 0,
             "ticks": ""
            },
            "colorscale": [
             [
              0,
              "#0d0887"
             ],
             [
              0.1111111111111111,
              "#46039f"
             ],
             [
              0.2222222222222222,
              "#7201a8"
             ],
             [
              0.3333333333333333,
              "#9c179e"
             ],
             [
              0.4444444444444444,
              "#bd3786"
             ],
             [
              0.5555555555555556,
              "#d8576b"
             ],
             [
              0.6666666666666666,
              "#ed7953"
             ],
             [
              0.7777777777777778,
              "#fb9f3a"
             ],
             [
              0.8888888888888888,
              "#fdca26"
             ],
             [
              1,
              "#f0f921"
             ]
            ],
            "type": "contour"
           }
          ],
          "contourcarpet": [
           {
            "colorbar": {
             "outlinewidth": 0,
             "ticks": ""
            },
            "type": "contourcarpet"
           }
          ],
          "heatmap": [
           {
            "colorbar": {
             "outlinewidth": 0,
             "ticks": ""
            },
            "colorscale": [
             [
              0,
              "#0d0887"
             ],
             [
              0.1111111111111111,
              "#46039f"
             ],
             [
              0.2222222222222222,
              "#7201a8"
             ],
             [
              0.3333333333333333,
              "#9c179e"
             ],
             [
              0.4444444444444444,
              "#bd3786"
             ],
             [
              0.5555555555555556,
              "#d8576b"
             ],
             [
              0.6666666666666666,
              "#ed7953"
             ],
             [
              0.7777777777777778,
              "#fb9f3a"
             ],
             [
              0.8888888888888888,
              "#fdca26"
             ],
             [
              1,
              "#f0f921"
             ]
            ],
            "type": "heatmap"
           }
          ],
          "heatmapgl": [
           {
            "colorbar": {
             "outlinewidth": 0,
             "ticks": ""
            },
            "colorscale": [
             [
              0,
              "#0d0887"
             ],
             [
              0.1111111111111111,
              "#46039f"
             ],
             [
              0.2222222222222222,
              "#7201a8"
             ],
             [
              0.3333333333333333,
              "#9c179e"
             ],
             [
              0.4444444444444444,
              "#bd3786"
             ],
             [
              0.5555555555555556,
              "#d8576b"
             ],
             [
              0.6666666666666666,
              "#ed7953"
             ],
             [
              0.7777777777777778,
              "#fb9f3a"
             ],
             [
              0.8888888888888888,
              "#fdca26"
             ],
             [
              1,
              "#f0f921"
             ]
            ],
            "type": "heatmapgl"
           }
          ],
          "histogram": [
           {
            "marker": {
             "pattern": {
              "fillmode": "overlay",
              "size": 10,
              "solidity": 0.2
             }
            },
            "type": "histogram"
           }
          ],
          "histogram2d": [
           {
            "colorbar": {
             "outlinewidth": 0,
             "ticks": ""
            },
            "colorscale": [
             [
              0,
              "#0d0887"
             ],
             [
              0.1111111111111111,
              "#46039f"
             ],
             [
              0.2222222222222222,
              "#7201a8"
             ],
             [
              0.3333333333333333,
              "#9c179e"
             ],
             [
              0.4444444444444444,
              "#bd3786"
             ],
             [
              0.5555555555555556,
              "#d8576b"
             ],
             [
              0.6666666666666666,
              "#ed7953"
             ],
             [
              0.7777777777777778,
              "#fb9f3a"
             ],
             [
              0.8888888888888888,
              "#fdca26"
             ],
             [
              1,
              "#f0f921"
             ]
            ],
            "type": "histogram2d"
           }
          ],
          "histogram2dcontour": [
           {
            "colorbar": {
             "outlinewidth": 0,
             "ticks": ""
            },
            "colorscale": [
             [
              0,
              "#0d0887"
             ],
             [
              0.1111111111111111,
              "#46039f"
             ],
             [
              0.2222222222222222,
              "#7201a8"
             ],
             [
              0.3333333333333333,
              "#9c179e"
             ],
             [
              0.4444444444444444,
              "#bd3786"
             ],
             [
              0.5555555555555556,
              "#d8576b"
             ],
             [
              0.6666666666666666,
              "#ed7953"
             ],
             [
              0.7777777777777778,
              "#fb9f3a"
             ],
             [
              0.8888888888888888,
              "#fdca26"
             ],
             [
              1,
              "#f0f921"
             ]
            ],
            "type": "histogram2dcontour"
           }
          ],
          "mesh3d": [
           {
            "colorbar": {
             "outlinewidth": 0,
             "ticks": ""
            },
            "type": "mesh3d"
           }
          ],
          "parcoords": [
           {
            "line": {
             "colorbar": {
              "outlinewidth": 0,
              "ticks": ""
             }
            },
            "type": "parcoords"
           }
          ],
          "pie": [
           {
            "automargin": true,
            "type": "pie"
           }
          ],
          "scatter": [
           {
            "marker": {
             "colorbar": {
              "outlinewidth": 0,
              "ticks": ""
             }
            },
            "type": "scatter"
           }
          ],
          "scatter3d": [
           {
            "line": {
             "colorbar": {
              "outlinewidth": 0,
              "ticks": ""
             }
            },
            "marker": {
             "colorbar": {
              "outlinewidth": 0,
              "ticks": ""
             }
            },
            "type": "scatter3d"
           }
          ],
          "scattercarpet": [
           {
            "marker": {
             "colorbar": {
              "outlinewidth": 0,
              "ticks": ""
             }
            },
            "type": "scattercarpet"
           }
          ],
          "scattergeo": [
           {
            "marker": {
             "colorbar": {
              "outlinewidth": 0,
              "ticks": ""
             }
            },
            "type": "scattergeo"
           }
          ],
          "scattergl": [
           {
            "marker": {
             "colorbar": {
              "outlinewidth": 0,
              "ticks": ""
             }
            },
            "type": "scattergl"
           }
          ],
          "scattermapbox": [
           {
            "marker": {
             "colorbar": {
              "outlinewidth": 0,
              "ticks": ""
             }
            },
            "type": "scattermapbox"
           }
          ],
          "scatterpolar": [
           {
            "marker": {
             "colorbar": {
              "outlinewidth": 0,
              "ticks": ""
             }
            },
            "type": "scatterpolar"
           }
          ],
          "scatterpolargl": [
           {
            "marker": {
             "colorbar": {
              "outlinewidth": 0,
              "ticks": ""
             }
            },
            "type": "scatterpolargl"
           }
          ],
          "scatterternary": [
           {
            "marker": {
             "colorbar": {
              "outlinewidth": 0,
              "ticks": ""
             }
            },
            "type": "scatterternary"
           }
          ],
          "surface": [
           {
            "colorbar": {
             "outlinewidth": 0,
             "ticks": ""
            },
            "colorscale": [
             [
              0,
              "#0d0887"
             ],
             [
              0.1111111111111111,
              "#46039f"
             ],
             [
              0.2222222222222222,
              "#7201a8"
             ],
             [
              0.3333333333333333,
              "#9c179e"
             ],
             [
              0.4444444444444444,
              "#bd3786"
             ],
             [
              0.5555555555555556,
              "#d8576b"
             ],
             [
              0.6666666666666666,
              "#ed7953"
             ],
             [
              0.7777777777777778,
              "#fb9f3a"
             ],
             [
              0.8888888888888888,
              "#fdca26"
             ],
             [
              1,
              "#f0f921"
             ]
            ],
            "type": "surface"
           }
          ],
          "table": [
           {
            "cells": {
             "fill": {
              "color": "#EBF0F8"
             },
             "line": {
              "color": "white"
             }
            },
            "header": {
             "fill": {
              "color": "#C8D4E3"
             },
             "line": {
              "color": "white"
             }
            },
            "type": "table"
           }
          ]
         },
         "layout": {
          "annotationdefaults": {
           "arrowcolor": "#2a3f5f",
           "arrowhead": 0,
           "arrowwidth": 1
          },
          "autotypenumbers": "strict",
          "coloraxis": {
           "colorbar": {
            "outlinewidth": 0,
            "ticks": ""
           }
          },
          "colorscale": {
           "diverging": [
            [
             0,
             "#8e0152"
            ],
            [
             0.1,
             "#c51b7d"
            ],
            [
             0.2,
             "#de77ae"
            ],
            [
             0.3,
             "#f1b6da"
            ],
            [
             0.4,
             "#fde0ef"
            ],
            [
             0.5,
             "#f7f7f7"
            ],
            [
             0.6,
             "#e6f5d0"
            ],
            [
             0.7,
             "#b8e186"
            ],
            [
             0.8,
             "#7fbc41"
            ],
            [
             0.9,
             "#4d9221"
            ],
            [
             1,
             "#276419"
            ]
           ],
           "sequential": [
            [
             0,
             "#0d0887"
            ],
            [
             0.1111111111111111,
             "#46039f"
            ],
            [
             0.2222222222222222,
             "#7201a8"
            ],
            [
             0.3333333333333333,
             "#9c179e"
            ],
            [
             0.4444444444444444,
             "#bd3786"
            ],
            [
             0.5555555555555556,
             "#d8576b"
            ],
            [
             0.6666666666666666,
             "#ed7953"
            ],
            [
             0.7777777777777778,
             "#fb9f3a"
            ],
            [
             0.8888888888888888,
             "#fdca26"
            ],
            [
             1,
             "#f0f921"
            ]
           ],
           "sequentialminus": [
            [
             0,
             "#0d0887"
            ],
            [
             0.1111111111111111,
             "#46039f"
            ],
            [
             0.2222222222222222,
             "#7201a8"
            ],
            [
             0.3333333333333333,
             "#9c179e"
            ],
            [
             0.4444444444444444,
             "#bd3786"
            ],
            [
             0.5555555555555556,
             "#d8576b"
            ],
            [
             0.6666666666666666,
             "#ed7953"
            ],
            [
             0.7777777777777778,
             "#fb9f3a"
            ],
            [
             0.8888888888888888,
             "#fdca26"
            ],
            [
             1,
             "#f0f921"
            ]
           ]
          },
          "colorway": [
           "#636efa",
           "#EF553B",
           "#00cc96",
           "#ab63fa",
           "#FFA15A",
           "#19d3f3",
           "#FF6692",
           "#B6E880",
           "#FF97FF",
           "#FECB52"
          ],
          "font": {
           "color": "#2a3f5f"
          },
          "geo": {
           "bgcolor": "white",
           "lakecolor": "white",
           "landcolor": "#E5ECF6",
           "showlakes": true,
           "showland": true,
           "subunitcolor": "white"
          },
          "hoverlabel": {
           "align": "left"
          },
          "hovermode": "closest",
          "mapbox": {
           "style": "light"
          },
          "paper_bgcolor": "white",
          "plot_bgcolor": "#E5ECF6",
          "polar": {
           "angularaxis": {
            "gridcolor": "white",
            "linecolor": "white",
            "ticks": ""
           },
           "bgcolor": "#E5ECF6",
           "radialaxis": {
            "gridcolor": "white",
            "linecolor": "white",
            "ticks": ""
           }
          },
          "scene": {
           "xaxis": {
            "backgroundcolor": "#E5ECF6",
            "gridcolor": "white",
            "gridwidth": 2,
            "linecolor": "white",
            "showbackground": true,
            "ticks": "",
            "zerolinecolor": "white"
           },
           "yaxis": {
            "backgroundcolor": "#E5ECF6",
            "gridcolor": "white",
            "gridwidth": 2,
            "linecolor": "white",
            "showbackground": true,
            "ticks": "",
            "zerolinecolor": "white"
           },
           "zaxis": {
            "backgroundcolor": "#E5ECF6",
            "gridcolor": "white",
            "gridwidth": 2,
            "linecolor": "white",
            "showbackground": true,
            "ticks": "",
            "zerolinecolor": "white"
           }
          },
          "shapedefaults": {
           "line": {
            "color": "#2a3f5f"
           }
          },
          "ternary": {
           "aaxis": {
            "gridcolor": "white",
            "linecolor": "white",
            "ticks": ""
           },
           "baxis": {
            "gridcolor": "white",
            "linecolor": "white",
            "ticks": ""
           },
           "bgcolor": "#E5ECF6",
           "caxis": {
            "gridcolor": "white",
            "linecolor": "white",
            "ticks": ""
           }
          },
          "title": {
           "x": 0.05
          },
          "xaxis": {
           "automargin": true,
           "gridcolor": "white",
           "linecolor": "white",
           "ticks": "",
           "title": {
            "standoff": 15
           },
           "zerolinecolor": "white",
           "zerolinewidth": 2
          },
          "yaxis": {
           "automargin": true,
           "gridcolor": "white",
           "linecolor": "white",
           "ticks": "",
           "title": {
            "standoff": 15
           },
           "zerolinecolor": "white",
           "zerolinewidth": 2
          }
         }
        },
        "xaxis": {
         "anchor": "y",
         "domain": [
          0,
          1
         ],
         "title": {
          "text": "x"
         }
        },
        "yaxis": {
         "anchor": "x",
         "domain": [
          0,
          1
         ],
         "title": {
          "text": "y"
         }
        }
       }
      },
      "text/html": [
       "<div>                            <div id=\"9740bca3-c6fb-4ce5-abd2-578d22cbcb2a\" class=\"plotly-graph-div\" style=\"height:525px; width:100%;\"></div>            <script type=\"text/javascript\">                require([\"plotly\"], function(Plotly) {                    window.PLOTLYENV=window.PLOTLYENV || {};                                    if (document.getElementById(\"9740bca3-c6fb-4ce5-abd2-578d22cbcb2a\")) {                    Plotly.newPlot(                        \"9740bca3-c6fb-4ce5-abd2-578d22cbcb2a\",                        [{\"hovertemplate\":\"<b>%{hovertext}</b><br><br>color=PRIME<br>x=%{x}<br>y=%{y}<extra></extra>\",\"hovertext\":[\"PRIME-P6-B2\",\"PRIME-P6-B2\",\"PRIME-P6-B2\",\"PRIME-P6-B2\",\"PRIME-P6-B2\",\"PRIME-P6-B2\",\"PRIME-P6-B2\",\"PRIME-P6-B2\",\"PRIME-P6-B2\",\"PRIME-P6-B2\",\"PRIME-P6-B2\",\"PRIME-P6-B2\",\"PRIME-P6-B2\",\"PRIME-P6-B2\",\"PRIME-P6-B2\",\"PRIME-P6-B2\",\"PRIME-P6-B2\",\"PRIME-P6-B2\",\"PRIME-P6-B2\",\"PRIME-P6-B2\",\"PRIME-P6-B2\",\"PRIME-P6-B2\",\"PRIME-P6-B2\",\"PRIME-P6-B2\",\"PRIME-P6-B2\",\"PRIME-P6-B2\",\"PRIME-P6-B2\",\"PRIME-P6-B2\",\"PRIME-P6-B2\",\"PRIME-P6-B2\",\"PRIME-P6-B2\",\"PRIME-P6-B2\",\"PRIME-P6-B2\",\"PRIME-P6-B2\",\"PRIME-P6-B2\",\"PRIME-P6-B2\",\"PRIME-P6-B2\",\"PRIME-P6-B2\",\"PRIME-P6-B2\",\"PRIME-P6-B2\",\"PRIME-P6-B2\",\"PRIME-P6-B2\",\"PRIME-P6-B2\",\"PRIME-P6-B2\",\"PRIME-P6-B2\",\"PRIME-P6-B2\",\"PRIME-P6-B2\",\"PRIME-P6-B2\",\"PRIME-P6-B2\",\"PRIME-P6-B2\",\"PRIME-P6-B2\",\"PRIME-P6-B2\",\"PRIME-P6-B2\",\"PRIME-P6-B2\",\"PRIME-P6-B2\",\"PRIME-P6-B2\",\"PRIME-P6-B2\",\"PRIME-P6-B2\",\"PRIME-P6-B2\",\"PRIME-P6-B2\",\"PRIME-P6-B2\",\"PRIME-P6-B2\",\"PRIME-P6-B2\",\"PRIME-P6-B2\",\"PRIME-P6-B2\",\"PRIME-P6-B2\",\"PRIME-P6-B2\",\"PRIME-P6-B2\",\"PRIME-P6-B2\",\"PRIME-P6-B2\",\"PRIME-P6-B2\",\"PRIME-P6-B2\",\"PRIME-P6-B2\",\"PRIME-P6-B2\",\"PRIME-P6-B2\",\"PRIME-P6-B2\",\"PRIME-P6-B2\",\"PRIME-P6-B2\",\"PRIME-P6-B2\",\"PRIME-P6-B2\",\"PRIME-P6-B2\",\"PRIME-P6-B2\",\"PRIME-P6-B2\",\"PRIME-P6-B2\",\"PRIME-P6-B2\",\"PRIME-P6-B2\",\"PRIME-P6-B2\",\"PRIME-P6-B2\",\"PRIME-P6-B2\",\"PRIME-P6-B2\",\"PRIME-P6-B2\",\"PRIME-P6-B2\",\"PRIME-P6-B2\",\"PRIME-P6-B2\",\"PRIME-P6-B2\",\"PRIME-P6-B2\",\"PRIME-P6-B2\",\"PRIME-P6-B2\",\"PRIME-P6-B2\",\"PRIME-P6-B2\",\"PRIME-P6-B2\",\"PRIME-P6-B2\",\"PRIME-P6-B2\",\"PRIME-P6-B2\",\"PRIME-P6-B2\",\"PRIME-P6-B2\",\"PRIME-P6-B2\",\"PRIME-P6-B2\",\"PRIME-P6-B2\",\"PRIME-P6-B2\",\"PRIME-P6-B2\",\"PRIME-P6-B2\",\"PRIME-P6-B2\",\"PRIME-P6-B2\",\"PRIME-P6-B2\",\"PRIME-P6-B2\",\"PRIME-P6-B2\",\"PRIME-P6-B2\",\"PRIME-P6-B2\",\"PRIME-P6-B2\"],\"legendgroup\":\"PRIME\",\"marker\":{\"color\":\"#636efa\",\"symbol\":\"circle\"},\"mode\":\"markers\",\"name\":\"PRIME\",\"orientation\":\"v\",\"showlegend\":true,\"x\":[\"2022-03-25T11:11:23\",\"2022-03-25T10:54:39\",\"2022-03-25T10:50:47\",\"2022-03-25T10:44:13\",\"2022-03-25T10:31:13\",\"2022-03-25T10:12:07\",\"2022-03-25T10:10:28\",\"2022-03-25T10:08:09\",\"2022-03-25T10:06:52\",\"2022-03-25T09:58:30\",\"2022-03-25T09:26:53\",\"2022-03-25T08:55:33\",\"2022-03-25T08:47:55\",\"2022-03-25T08:44:18\",\"2022-03-25T08:14:10\",\"2022-03-25T08:11:01\",\"2022-03-25T08:05:31\",\"2022-03-25T07:52:28\",\"2022-03-25T07:35:57\",\"2022-03-25T07:22:18\",\"2022-03-25T07:05:24\",\"2022-03-25T07:03:39\",\"2022-03-25T06:45:44\",\"2022-03-25T06:45:11\",\"2022-03-25T06:43:02\",\"2022-03-25T06:37:58\",\"2022-03-25T06:30:10\",\"2022-03-25T06:29:44\",\"2022-03-25T06:29:20\",\"2022-03-25T06:28:54\",\"2022-03-25T06:28:28\",\"2022-03-25T06:27:02\",\"2022-03-25T06:25:50\",\"2022-03-25T06:06:47\",\"2022-03-25T06:04:33\",\"2022-03-25T05:42:39\",\"2022-03-25T05:35:46\",\"2022-03-25T05:34:49\",\"2022-03-25T05:06:34\",\"2022-03-25T04:52:44\",\"2022-03-25T04:18:41\",\"2022-03-25T04:13:45\",\"2022-03-25T04:04:37\",\"2022-03-25T03:52:36\",\"2022-03-25T03:15:43\",\"2022-03-25T03:05:07\",\"2022-03-25T02:48:39\",\"2022-03-25T02:48:35\",\"2022-03-25T02:31:58\",\"2022-03-25T02:28:32\",\"2022-03-25T02:12:34\",\"2022-03-25T02:00:15\",\"2022-03-25T01:57:31\",\"2022-03-25T01:48:11\",\"2022-03-25T01:43:09\",\"2022-03-25T01:41:25\",\"2022-03-25T01:09:49\",\"2022-03-25T00:44:25\",\"2022-03-25T00:25:10\",\"2022-03-25T00:23:37\",\"2022-03-25T00:23:31\",\"2022-03-25T00:23:27\",\"2022-03-25T00:16:29\",\"2022-03-25T00:05:10\",\"2022-03-24T23:57:31\",\"2022-03-24T23:20:24\",\"2022-03-24T23:08:01\",\"2022-03-24T23:07:25\",\"2022-03-24T23:04:29\",\"2022-03-24T22:57:18\",\"2022-03-24T22:47:18\",\"2022-03-24T22:46:13\",\"2022-03-24T22:40:52\",\"2022-03-24T22:21:57\",\"2022-03-24T22:21:24\",\"2022-03-24T22:13:59\",\"2022-03-24T22:10:43\",\"2022-03-24T21:55:13\",\"2022-03-24T20:14:12\",\"2022-03-24T18:52:33\",\"2022-03-24T18:51:47\",\"2022-03-24T18:21:02\",\"2022-03-24T18:19:51\",\"2022-03-24T18:13:14\",\"2022-03-24T18:03:45\",\"2022-03-24T17:34:53\",\"2022-03-24T17:31:05\",\"2022-03-24T17:25:03\",\"2022-03-24T17:21:56\",\"2022-03-24T16:52:22\",\"2022-03-24T16:46:12\",\"2022-03-24T16:42:58\",\"2022-03-24T16:32:09\",\"2022-03-24T15:45:25\",\"2022-03-24T15:40:56\",\"2022-03-24T15:24:00\",\"2022-03-24T15:23:30\",\"2022-03-24T15:19:57\",\"2022-03-24T15:07:47\",\"2022-03-24T14:21:07\",\"2022-03-24T14:05:49\",\"2022-03-24T14:05:33\",\"2022-03-24T13:34:37\",\"2022-03-24T13:11:52\",\"2022-03-24T13:04:49\",\"2022-03-24T13:02:48\",\"2022-03-24T12:59:53\",\"2022-03-24T12:58:34\",\"2022-03-24T12:57:30\",\"2022-03-24T12:42:16\",\"2022-03-24T12:38:01\",\"2022-03-24T12:23:00\",\"2022-03-24T12:22:48\",\"2022-03-24T11:24:56\",\"2022-03-24T11:24:00\",\"2022-03-24T11:22:17\",\"2022-03-24T11:12:20\",\"2022-03-24T10:19:40\",\"2022-03-24T09:55:35\",\"2022-03-24T09:48:23\"],\"xaxis\":\"x\",\"y\":[18188.0,18000.0,18000.0,17900.0,17899.0,18000.0,17999.0,18199.0,17998.0,18399.0,18380.0,30999.0,18399.0,18390.0,18488.0,17999.0,18688.0,18500.0,18899.0,18899.0,17988.0,17988.0,17987.0,17987.0,17987.0,17987.0,17899.0,17899.0,17899.0,17899.0,17899.0,17899.0,17850.0,29998.999999999996,17899.0,17600.0,16999.0,16999.0,17899.0,17899.0,17899.0,17899.0,17899.0,17899.0,30899.0,17980.0,17988.0,17900.0,17980.0,17980.0,17988.0,17979.0,31069.0,31000.000000000004,30420.0,30420.0,17800.0,17980.0,18999.0,17980.0,31799.0,32069.0,17950.0,16250.0,17900.0,31000.000000000004,17900.0,30999.0,17700.0,14999.0,17700.0,17499.0,17650.0,17650.0,17650.0,17650.0,17650.0,17450.0,17700.0,17245.0,16740.0,17298.0,17298.0,17298.0,17298.0,17298.0,17298.0,17295.0,17050.0,16999.0,16860.0,17298.0,17050.0,17223.0,17298.0,17223.0,17223.0,17223.0,17399.0,17224.0,17224.0,17199.0,17199.0,20999.999999999996,17549.0,17399.0,17290.0,17234.0,17224.0,17250.0,17276.0,31925.0,31945.0,17300.0,17318.0,17399.0,17485.0,17350.0,17375.0,17459.0],\"yaxis\":\"y\",\"type\":\"scatter\"},{\"hovertemplate\":\"<b>%{hovertext}</b><br><br>color=BULK<br>x=%{x}<br>y=%{y}<extra></extra>\",\"hovertext\":[\"BULK-P6-B2\",\"BULK-P6-B2\",\"BULK-P6-B2\",\"BULK-P6-B2\",\"BULK-P6-B2\",\"BULK-P6-B2\",\"BULK-P6-B2\",\"BULK-P6-B2\",\"BULK-P6-B2\",\"BULK-P6-B2\",\"BULK-P6-B2\",\"BULK-P6-B2\",\"BULK-P6-B2\",\"BULK-P6-B2\",\"BULK-P6-B2\",\"BULK-P6-B2\",\"BULK-P6-B2\",\"BULK-P6-B2\",\"BULK-P6-B2\",\"BULK-P6-B2\",\"BULK-P6-B2\",\"BULK-P6-B2\",\"BULK-P6-B2\",\"BULK-P6-B2\",\"BULK-P6-B2\",\"BULK-P6-B2\",\"BULK-P6-B2\",\"BULK-P6-B2\",\"BULK-P6-B2\",\"BULK-P6-B2\",\"BULK-P6-B2\",\"BULK-P6-B2\",\"BULK-P6-B2\",\"BULK-P6-B2\",\"BULK-P6-B2\",\"BULK-P6-B2\",\"BULK-P6-B2\",\"BULK-P6-B2\",\"BULK-P6-B2\",\"BULK-P6-B2\",\"BULK-P6-B2\",\"BULK-P6-B2\",\"BULK-P6-B2\",\"BULK-P6-B2\",\"BULK-P6-B2\",\"BULK-P6-B2\",\"BULK-P6-B2\",\"BULK-P6-B2\",\"BULK-P6-B2\",\"BULK-P6-B2\",\"BULK-P6-B2\",\"BULK-P6-B2\",\"BULK-P6-B2\",\"BULK-P6-B2\",\"BULK-P6-B2\",\"BULK-P6-B2\",\"BULK-P6-B2\",\"BULK-P6-B2\",\"BULK-P6-B2\",\"BULK-P6-B2\",\"BULK-P6-B2\",\"BULK-P6-B2\",\"BULK-P6-B2\",\"BULK-P6-B2\",\"BULK-P6-B2\",\"BULK-P6-B2\",\"BULK-P6-B2\",\"BULK-P6-B2\",\"BULK-P6-B2\",\"BULK-P6-B2\",\"BULK-P6-B2\",\"BULK-P6-B2\",\"BULK-P6-B2\",\"BULK-P6-B2\",\"BULK-P6-B2\",\"BULK-P6-B2\",\"BULK-P6-B2\",\"BULK-P6-B2\",\"BULK-P6-B2\",\"BULK-P6-B2\",\"BULK-P6-B2\",\"BULK-P6-B2\",\"BULK-P6-B2\",\"BULK-P6-B2\",\"BULK-P6-B2\",\"BULK-P6-B2\",\"BULK-P6-B2\",\"BULK-P6-B2\",\"BULK-P6-B2\",\"BULK-P6-B2\",\"BULK-P6-B2\",\"BULK-P6-B2\",\"BULK-P6-B2\",\"BULK-P6-B2\",\"BULK-P6-B2\",\"BULK-P6-B2\",\"BULK-P6-B2\",\"BULK-P6-B2\",\"BULK-P6-B2\",\"BULK-P6-B2\",\"BULK-P6-B2\",\"BULK-P6-B2\",\"BULK-P6-B2\",\"BULK-P6-B2\",\"BULK-P6-B2\",\"BULK-P6-B2\",\"BULK-P6-B2\",\"BULK-P6-B2\",\"BULK-P6-B2\",\"BULK-P6-B2\",\"BULK-P6-B2\",\"BULK-P6-B2\",\"BULK-P6-B2\",\"BULK-P6-B2\",\"BULK-P6-B2\",\"BULK-P6-B2\",\"BULK-P6-B2\"],\"legendgroup\":\"BULK\",\"marker\":{\"color\":\"#EF553B\",\"symbol\":\"circle\"},\"mode\":\"markers\",\"name\":\"BULK\",\"orientation\":\"v\",\"showlegend\":true,\"x\":[\"2022-03-25T11:04:15\",\"2022-03-25T10:42:17\",\"2022-03-25T10:38:18\",\"2022-03-25T10:25:51\",\"2022-03-25T09:35:36\",\"2022-03-25T09:23:13\",\"2022-03-25T09:17:03\",\"2022-03-25T08:29:59\",\"2022-03-25T08:20:31\",\"2022-03-25T08:09:11\",\"2022-03-25T07:55:38\",\"2022-03-25T07:00:42\",\"2022-03-25T06:52:34\",\"2022-03-25T06:33:57\",\"2022-03-25T06:06:24\",\"2022-03-25T05:48:01\",\"2022-03-25T05:46:27\",\"2022-03-25T05:43:53\",\"2022-03-25T05:29:51\",\"2022-03-25T05:28:36\",\"2022-03-25T05:14:32\",\"2022-03-25T05:12:31\",\"2022-03-25T05:08:11\",\"2022-03-25T05:04:18\",\"2022-03-25T04:38:45\",\"2022-03-25T04:19:57\",\"2022-03-25T04:07:31\",\"2022-03-25T03:41:30\",\"2022-03-25T03:06:21\",\"2022-03-25T02:55:31\",\"2022-03-25T02:26:51\",\"2022-03-25T02:19:33\",\"2022-03-25T02:18:47\",\"2022-03-25T02:06:08\",\"2022-03-25T01:57:29\",\"2022-03-25T01:23:06\",\"2022-03-25T01:17:05\",\"2022-03-25T00:42:41\",\"2022-03-25T00:41:22\",\"2022-03-25T00:22:37\",\"2022-03-25T00:22:19\",\"2022-03-25T00:20:57\",\"2022-03-25T00:18:23\",\"2022-03-25T00:17:54\",\"2022-03-24T23:36:04\",\"2022-03-24T23:35:28\",\"2022-03-24T23:34:48\",\"2022-03-24T23:11:34\",\"2022-03-24T22:09:46\",\"2022-03-24T22:05:54\",\"2022-03-24T22:05:24\",\"2022-03-24T22:04:59\",\"2022-03-24T22:04:03\",\"2022-03-24T22:04:02\",\"2022-03-24T22:03:41\",\"2022-03-24T22:03:01\",\"2022-03-24T22:02:23\",\"2022-03-24T22:01:47\",\"2022-03-24T21:54:53\",\"2022-03-24T21:36:45\",\"2022-03-24T21:34:33\",\"2022-03-24T21:32:45\",\"2022-03-24T21:32:09\",\"2022-03-24T21:28:52\",\"2022-03-24T21:17:15\",\"2022-03-24T20:58:32\",\"2022-03-24T20:45:43\",\"2022-03-24T20:31:25\",\"2022-03-24T20:31:20\",\"2022-03-24T20:30:08\",\"2022-03-24T20:29:46\",\"2022-03-24T20:29:40\",\"2022-03-24T20:29:36\",\"2022-03-24T20:29:32\",\"2022-03-24T20:25:25\",\"2022-03-24T20:22:24\",\"2022-03-24T20:20:51\",\"2022-03-24T20:19:41\",\"2022-03-24T20:19:34\",\"2022-03-24T20:10:03\",\"2022-03-24T19:39:21\",\"2022-03-24T19:22:14\",\"2022-03-24T18:51:51\",\"2022-03-24T17:57:06\",\"2022-03-24T17:25:02\",\"2022-03-24T17:24:42\",\"2022-03-24T17:23:47\",\"2022-03-24T17:08:53\",\"2022-03-24T16:57:16\",\"2022-03-24T16:50:34\",\"2022-03-24T16:48:11\",\"2022-03-24T16:15:05\",\"2022-03-24T15:26:43\",\"2022-03-24T15:11:37\",\"2022-03-24T15:09:21\",\"2022-03-24T15:06:56\",\"2022-03-24T15:06:50\",\"2022-03-24T15:05:47\",\"2022-03-24T15:02:31\",\"2022-03-24T13:50:09\",\"2022-03-24T13:47:34\",\"2022-03-24T13:46:23\",\"2022-03-24T13:22:53\",\"2022-03-24T13:21:33\",\"2022-03-24T13:21:24\",\"2022-03-24T13:10:47\",\"2022-03-24T13:10:38\",\"2022-03-24T13:06:37\",\"2022-03-24T13:04:11\",\"2022-03-24T13:04:04\",\"2022-03-24T12:37:42\",\"2022-03-24T12:33:54\",\"2022-03-24T11:40:08\",\"2022-03-24T10:33:59\",\"2022-03-24T10:00:07\",\"2022-03-24T09:41:18\",\"2022-03-24T09:18:15\"],\"xaxis\":\"x\",\"y\":[15950.0,15900.000000000002,15900.000000000002,16000.0,16250.0,16000.0,15999.0,16000.0,16000.0,16000.0,16000.0,15999.0,15999.0,16333.0,16369.0,16699.0,16600.0,16400.0,16570.0,16570.0,16560.0,16300.000000000002,16300.000000000002,16250.0,16250.0,16199.0,16240.0,17800.0,16240.0,16150.0,16240.0,16250.0,16099.999999999998,16050.0,16700.0,16199.0,16250.0,16250.0,16240.0,16300.000000000002,16199.0,16200.0,16099.0,16099.0,16450.0,16450.0,16440.0,16500.0,22000.0,16489.0,16488.0,16460.0,16460.0,16460.0,16445.0,16445.0,16440.0,16440.0,16350.0,15900.000000000002,15900.000000000002,15699.999999999998,15699.999999999998,15600.0,16350.0,22000.0,16450.0,16488.0,16460.0,16480.0,16470.0,16460.0,16450.0,16450.0,16450.0,16488.0,16488.0,16488.0,16488.0,16488.0,15999.0,15800.0,16590.0,16600.0,16550.0,16480.0,16699.0,18700.0,16495.0,16400.0,16400.0,16399.0,16460.0,16349.0,16345.0,16350.0,16345.0,24999.999999999996,16345.0,16300.000000000002,16298.0,16297.0,16345.0,16290.0,16280.0,16250.0,16240.0,16232.0,16230.0,16230.0,16240.0,16220.000000000002,16230.0,16210.0,16230.0,16229.0,16220.000000000002],\"yaxis\":\"y\",\"type\":\"scatter\"},{\"hovertemplate\":\"<b>%{hovertext}</b><br><br>color=GEM<br>x=%{x}<br>y=%{y}<extra></extra>\",\"hovertext\":[\"GEM-P6-B2\",\"GEM-P6-B2\",\"GEM-P6-B2\",\"GEM-P6-B2\",\"GEM-P6-B2\",\"GEM-P6-B2\",\"GEM-P6-B2\",\"GEM-P6-B2\",\"GEM-P6-B2\",\"GEM-P6-B2\",\"GEM-P6-B2\",\"GEM-P6-B2\",\"GEM-P6-B2\",\"GEM-P6-B2\",\"GEM-P6-B2\",\"GEM-P6-B2\",\"GEM-P6-B2\",\"GEM-P6-B2\",\"GEM-P6-B2\",\"GEM-P6-B2\",\"GEM-P6-B2\",\"GEM-P6-B2\",\"GEM-P6-B2\",\"GEM-P6-B2\",\"GEM-P6-B2\",\"GEM-P6-B2\",\"GEM-P6-B2\",\"GEM-P6-B2\",\"GEM-P6-B2\",\"GEM-P6-B2\",\"GEM-P6-B2\",\"GEM-P6-B2\",\"GEM-P6-B2\",\"GEM-P6-B2\",\"GEM-P6-B2\",\"GEM-P6-B2\",\"GEM-P6-B2\",\"GEM-P6-B2\",\"GEM-P6-B2\",\"GEM-P6-B2\",\"GEM-P6-B2\",\"GEM-P6-B2\",\"GEM-P6-B2\",\"GEM-P6-B2\",\"GEM-P6-B2\",\"GEM-P6-B2\",\"GEM-P6-B2\",\"GEM-P6-B2\",\"GEM-P6-B2\",\"GEM-P6-B2\",\"GEM-P6-B2\",\"GEM-P6-B2\",\"GEM-P6-B2\",\"GEM-P6-B2\",\"GEM-P6-B2\",\"GEM-P6-B2\",\"GEM-P6-B2\",\"GEM-P6-B2\",\"GEM-P6-B2\",\"GEM-P6-B2\",\"GEM-P6-B2\",\"GEM-P6-B2\",\"GEM-P6-B2\",\"GEM-P6-B2\"],\"legendgroup\":\"GEM\",\"marker\":{\"color\":\"#00cc96\",\"symbol\":\"circle\"},\"mode\":\"markers\",\"name\":\"GEM\",\"orientation\":\"v\",\"showlegend\":true,\"x\":[\"2022-03-25T10:42:35\",\"2022-03-25T10:42:10\",\"2022-03-25T10:40:50\",\"2022-03-25T10:37:19\",\"2022-03-25T09:51:28\",\"2022-03-25T09:21:45\",\"2022-03-25T09:03:04\",\"2022-03-25T08:48:02\",\"2022-03-25T07:10:03\",\"2022-03-25T07:09:24\",\"2022-03-25T06:32:44\",\"2022-03-25T06:03:07\",\"2022-03-25T05:48:54\",\"2022-03-25T05:11:37\",\"2022-03-25T05:11:27\",\"2022-03-25T05:05:52\",\"2022-03-25T04:41:19\",\"2022-03-25T03:47:52\",\"2022-03-25T03:47:47\",\"2022-03-25T03:11:17\",\"2022-03-25T03:10:06\",\"2022-03-25T03:09:32\",\"2022-03-25T03:07:41\",\"2022-03-25T03:06:37\",\"2022-03-25T02:54:56\",\"2022-03-25T02:54:51\",\"2022-03-25T02:54:45\",\"2022-03-25T02:17:59\",\"2022-03-25T02:17:25\",\"2022-03-25T02:09:27\",\"2022-03-25T02:09:17\",\"2022-03-25T01:22:20\",\"2022-03-25T01:20:58\",\"2022-03-24T21:59:49\",\"2022-03-24T21:33:45\",\"2022-03-24T20:18:39\",\"2022-03-24T20:01:03\",\"2022-03-24T19:08:59\",\"2022-03-24T19:07:14\",\"2022-03-24T19:04:22\",\"2022-03-24T18:21:37\",\"2022-03-24T17:11:17\",\"2022-03-24T17:11:05\",\"2022-03-24T14:37:28\",\"2022-03-24T13:55:30\",\"2022-03-24T13:53:00\",\"2022-03-24T13:42:30\",\"2022-03-24T13:11:24\",\"2022-03-24T13:11:14\",\"2022-03-24T13:11:05\",\"2022-03-24T13:10:56\",\"2022-03-24T13:07:01\",\"2022-03-24T13:06:52\",\"2022-03-24T13:03:50\",\"2022-03-24T13:00:41\",\"2022-03-24T12:38:27\",\"2022-03-24T11:43:10\",\"2022-03-24T10:32:58\",\"2022-03-24T10:23:06\",\"2022-03-24T10:22:26\",\"2022-03-24T10:01:34\",\"2022-03-24T10:01:02\",\"2022-03-24T09:03:39\",\"2022-03-24T09:01:51\"],\"xaxis\":\"x\",\"y\":[17744.0,17983.0,17300.0,17300.0,17200.0,17299.0,17100.0,17300.0,16099.999999999998,16099.999999999998,17500.0,17599.0,17599.0,17575.0,17575.0,17500.0,17565.0,17744.0,17575.0,17544.0,17399.0,17399.0,17399.0,17399.0,17444.0,17433.0,17400.0,17395.0,17385.0,17290.0,17280.0,17385.0,17290.0,17395.0,17300.0,17550.0,18000.0,17750.0,17588.0,17588.0,17600.0,17999.0,17999.0,25998.999999999996,25998.999999999996,25250.0,17988.0,17588.0,17500.0,17100.0,17000.0,16988.0,16900.0,16800.0,16600.0,16700.0,16980.0,16700.0,16550.0,16600.0,16450.0,16450.0,16333.0,16333.0],\"yaxis\":\"y\",\"type\":\"scatter\"},{\"hovertemplate\":\"<b>%{hovertext}</b><br><br>color=ORGANIC<br>x=%{x}<br>y=%{y}<extra></extra>\",\"hovertext\":[\"ORGANIC-P6-B2\",\"ORGANIC-P6-B2\",\"ORGANIC-P6-B2\",\"ORGANIC-P6-B2\"],\"legendgroup\":\"ORGANIC\",\"marker\":{\"color\":\"#ab63fa\",\"symbol\":\"circle\"},\"mode\":\"markers\",\"name\":\"ORGANIC\",\"orientation\":\"v\",\"showlegend\":true,\"x\":[\"2022-03-25T10:32:29\",\"2022-03-25T10:31:20\",\"2022-03-25T04:40:17\",\"2022-03-25T00:08:49\"],\"xaxis\":\"x\",\"y\":[36999.0,37798.99999999999,32999.0,22999.0],\"yaxis\":\"y\",\"type\":\"scatter\"},{\"hovertemplate\":\"<b>%{hovertext}</b><br><br>color=CRABOID<br>x=%{x}<br>y=%{y}<extra></extra>\",\"hovertext\":[\"CRABOID-P6-B2\",\"CRABOID-P6-B2\",\"CRABOID-P6-B2\",\"CRABOID-P6-B2\",\"CRABOID-P6-B2\",\"CRABOID-P6-B2\",\"CRABOID-P6-B2\",\"CRABOID-P6-B2\",\"CRABOID-P6-B2\",\"CRABOID-P6-B2\",\"CRABOID-P6-B2\",\"CRABOID-P6-B2\",\"CRABOID-P6-B2\",\"CRABOID-P6-B2\",\"CRABOID-P6-B2\",\"CRABOID-P6-B2\",\"CRABOID-P6-B2\",\"CRABOID-P6-B2\",\"CRABOID-P6-B2\",\"CRABOID-P6-B2\",\"CRABOID-P6-B2\",\"CRABOID-P6-B2\",\"CRABOID-P6-B2\",\"CRABOID-P6-B2\",\"CRABOID-P6-B2\",\"CRABOID-P6-B2\",\"CRABOID-P6-B2\",\"CRABOID-P6-B2\",\"CRABOID-P6-B2\",\"CRABOID-P6-B2\",\"CRABOID-P6-B2\",\"CRABOID-P6-B2\",\"CRABOID-P6-B2\",\"CRABOID-P6-B2\",\"CRABOID-P6-B2\",\"CRABOID-P6-B2\",\"CRABOID-P6-B2\",\"CRABOID-P6-B2\",\"CRABOID-P6-B2\",\"CRABOID-P6-B2\",\"CRABOID-P6-B2\",\"CRABOID-P6-B2\",\"CRABOID-P6-B2\",\"CRABOID-P6-B2\",\"CRABOID-P6-B2\",\"CRABOID-P6-B2\",\"CRABOID-P6-B2\",\"CRABOID-P6-B2\"],\"legendgroup\":\"CRABOID\",\"marker\":{\"color\":\"#FFA15A\",\"symbol\":\"circle\"},\"mode\":\"markers\",\"name\":\"CRABOID\",\"orientation\":\"v\",\"showlegend\":true,\"x\":[\"2022-03-25T08:44:28\",\"2022-03-25T08:44:07\",\"2022-03-25T06:31:05\",\"2022-03-25T06:30:40\",\"2022-03-25T05:30:54\",\"2022-03-25T05:16:18\",\"2022-03-25T05:10:31\",\"2022-03-25T05:09:22\",\"2022-03-25T05:01:29\",\"2022-03-25T04:59:50\",\"2022-03-25T04:34:00\",\"2022-03-25T04:27:08\",\"2022-03-25T04:22:11\",\"2022-03-25T03:49:36\",\"2022-03-25T03:48:56\",\"2022-03-25T03:48:03\",\"2022-03-25T03:45:21\",\"2022-03-25T03:34:40\",\"2022-03-25T03:05:42\",\"2022-03-25T02:47:29\",\"2022-03-25T02:23:10\",\"2022-03-25T02:20:09\",\"2022-03-25T01:59:02\",\"2022-03-25T01:38:28\",\"2022-03-25T01:22:12\",\"2022-03-25T01:19:42\",\"2022-03-25T00:38:17\",\"2022-03-24T23:54:05\",\"2022-03-24T23:29:41\",\"2022-03-24T23:11:06\",\"2022-03-24T22:12:13\",\"2022-03-24T20:28:04\",\"2022-03-24T20:22:28\",\"2022-03-24T20:17:13\",\"2022-03-24T20:10:10\",\"2022-03-24T18:07:59\",\"2022-03-24T16:30:47\",\"2022-03-24T16:30:17\",\"2022-03-24T16:27:35\",\"2022-03-24T15:05:32\",\"2022-03-24T10:34:10\",\"2022-03-24T10:31:50\",\"2022-03-24T10:14:16\",\"2022-03-24T10:11:04\",\"2022-03-24T10:05:42\",\"2022-03-24T10:04:01\",\"2022-03-24T10:01:15\",\"2022-03-24T09:01:28\"],\"xaxis\":\"x\",\"y\":[40000.0,40000.0,18499.0,18499.0,18500.0,18500.0,18400.0,18350.0,18490.0,18485.0,18350.0,18199.0,18450.0,18399.0,18400.0,18399.0,34000.0,18400.0,18400.0,18400.0,18400.0,18450.0,18150.0,18100.0,18050.0,18000.0,18500.0,19000.000000000004,18950.0,18500.0,18490.0,31936.0,32222.0,34250.0,31920.0,19250.0,30420.0,30400.0,19849.0,18599.0,18590.0,18000.0,30000.0,30800.0,30890.0,30890.0,30549.0,30969.0],\"yaxis\":\"y\",\"type\":\"scatter\"},{\"hovertemplate\":\"<b>%{hovertext}</b><br><br>color=RUINED<br>x=%{x}<br>y=%{y}<extra></extra>\",\"hovertext\":[\"RUINED-P6-B2\",\"RUINED-P6-B2\",\"RUINED-P6-B2\",\"RUINED-P6-B2\",\"RUINED-P6-B2\",\"RUINED-P6-B2\",\"RUINED-P6-B2\",\"RUINED-P6-B2\",\"RUINED-P6-B2\",\"RUINED-P6-B2\"],\"legendgroup\":\"RUINED\",\"marker\":{\"color\":\"#19d3f3\",\"symbol\":\"circle\"},\"mode\":\"markers\",\"name\":\"RUINED\",\"orientation\":\"v\",\"showlegend\":true,\"x\":[\"2022-03-25T08:00:07\",\"2022-03-25T07:31:36\",\"2022-03-25T05:48:15\",\"2022-03-25T02:10:34\",\"2022-03-24T23:59:22\",\"2022-03-24T19:36:45\",\"2022-03-24T18:24:26\",\"2022-03-24T16:40:55\",\"2022-03-24T15:36:23\",\"2022-03-24T12:30:13\"],\"xaxis\":\"x\",\"y\":[20300.0,19200.0,17800.0,17999.0,17000.0,17600.0,35975.0,16950.0,17420.0,16750.0],\"yaxis\":\"y\",\"type\":\"scatter\"},{\"hovertemplate\":\"<b>%{hovertext}</b><br><br>color=SUNKEN<br>x=%{x}<br>y=%{y}<extra></extra>\",\"hovertext\":[\"SUNKEN-P6-B2\",\"SUNKEN-P6-B2\",\"SUNKEN-P6-B2\",\"SUNKEN-P6-B2\",\"SUNKEN-P6-B2\",\"SUNKEN-P6-B2\",\"SUNKEN-P6-B2\",\"SUNKEN-P6-B2\",\"SUNKEN-P6-B2\",\"SUNKEN-P6-B2\",\"SUNKEN-P6-B2\",\"SUNKEN-P6-B2\",\"SUNKEN-P6-B2\",\"SUNKEN-P6-B2\"],\"legendgroup\":\"SUNKEN\",\"marker\":{\"color\":\"#FF6692\",\"symbol\":\"circle\"},\"mode\":\"markers\",\"name\":\"SUNKEN\",\"orientation\":\"v\",\"showlegend\":true,\"x\":[\"2022-03-25T07:53:25\",\"2022-03-25T07:53:07\",\"2022-03-25T02:19:52\",\"2022-03-25T01:40:32\",\"2022-03-25T01:23:51\",\"2022-03-25T00:57:54\",\"2022-03-25T00:43:03\",\"2022-03-25T00:20:48\",\"2022-03-24T23:58:58\",\"2022-03-24T19:36:05\",\"2022-03-24T17:30:11\",\"2022-03-24T17:30:04\",\"2022-03-24T17:29:59\",\"2022-03-24T17:29:47\"],\"xaxis\":\"x\",\"y\":[31300.0,18600.0,32999.0,31700.0,30500.0,19399.0,18950.0,30450.0,19998.0,30850.0,29950.0,29949.0,29900.0,28999.999999999996],\"yaxis\":\"y\",\"type\":\"scatter\"}],                        {\"template\":{\"data\":{\"bar\":[{\"error_x\":{\"color\":\"#2a3f5f\"},\"error_y\":{\"color\":\"#2a3f5f\"},\"marker\":{\"line\":{\"color\":\"#E5ECF6\",\"width\":0.5},\"pattern\":{\"fillmode\":\"overlay\",\"size\":10,\"solidity\":0.2}},\"type\":\"bar\"}],\"barpolar\":[{\"marker\":{\"line\":{\"color\":\"#E5ECF6\",\"width\":0.5},\"pattern\":{\"fillmode\":\"overlay\",\"size\":10,\"solidity\":0.2}},\"type\":\"barpolar\"}],\"carpet\":[{\"aaxis\":{\"endlinecolor\":\"#2a3f5f\",\"gridcolor\":\"white\",\"linecolor\":\"white\",\"minorgridcolor\":\"white\",\"startlinecolor\":\"#2a3f5f\"},\"baxis\":{\"endlinecolor\":\"#2a3f5f\",\"gridcolor\":\"white\",\"linecolor\":\"white\",\"minorgridcolor\":\"white\",\"startlinecolor\":\"#2a3f5f\"},\"type\":\"carpet\"}],\"choropleth\":[{\"colorbar\":{\"outlinewidth\":0,\"ticks\":\"\"},\"type\":\"choropleth\"}],\"contour\":[{\"colorbar\":{\"outlinewidth\":0,\"ticks\":\"\"},\"colorscale\":[[0.0,\"#0d0887\"],[0.1111111111111111,\"#46039f\"],[0.2222222222222222,\"#7201a8\"],[0.3333333333333333,\"#9c179e\"],[0.4444444444444444,\"#bd3786\"],[0.5555555555555556,\"#d8576b\"],[0.6666666666666666,\"#ed7953\"],[0.7777777777777778,\"#fb9f3a\"],[0.8888888888888888,\"#fdca26\"],[1.0,\"#f0f921\"]],\"type\":\"contour\"}],\"contourcarpet\":[{\"colorbar\":{\"outlinewidth\":0,\"ticks\":\"\"},\"type\":\"contourcarpet\"}],\"heatmap\":[{\"colorbar\":{\"outlinewidth\":0,\"ticks\":\"\"},\"colorscale\":[[0.0,\"#0d0887\"],[0.1111111111111111,\"#46039f\"],[0.2222222222222222,\"#7201a8\"],[0.3333333333333333,\"#9c179e\"],[0.4444444444444444,\"#bd3786\"],[0.5555555555555556,\"#d8576b\"],[0.6666666666666666,\"#ed7953\"],[0.7777777777777778,\"#fb9f3a\"],[0.8888888888888888,\"#fdca26\"],[1.0,\"#f0f921\"]],\"type\":\"heatmap\"}],\"heatmapgl\":[{\"colorbar\":{\"outlinewidth\":0,\"ticks\":\"\"},\"colorscale\":[[0.0,\"#0d0887\"],[0.1111111111111111,\"#46039f\"],[0.2222222222222222,\"#7201a8\"],[0.3333333333333333,\"#9c179e\"],[0.4444444444444444,\"#bd3786\"],[0.5555555555555556,\"#d8576b\"],[0.6666666666666666,\"#ed7953\"],[0.7777777777777778,\"#fb9f3a\"],[0.8888888888888888,\"#fdca26\"],[1.0,\"#f0f921\"]],\"type\":\"heatmapgl\"}],\"histogram\":[{\"marker\":{\"pattern\":{\"fillmode\":\"overlay\",\"size\":10,\"solidity\":0.2}},\"type\":\"histogram\"}],\"histogram2d\":[{\"colorbar\":{\"outlinewidth\":0,\"ticks\":\"\"},\"colorscale\":[[0.0,\"#0d0887\"],[0.1111111111111111,\"#46039f\"],[0.2222222222222222,\"#7201a8\"],[0.3333333333333333,\"#9c179e\"],[0.4444444444444444,\"#bd3786\"],[0.5555555555555556,\"#d8576b\"],[0.6666666666666666,\"#ed7953\"],[0.7777777777777778,\"#fb9f3a\"],[0.8888888888888888,\"#fdca26\"],[1.0,\"#f0f921\"]],\"type\":\"histogram2d\"}],\"histogram2dcontour\":[{\"colorbar\":{\"outlinewidth\":0,\"ticks\":\"\"},\"colorscale\":[[0.0,\"#0d0887\"],[0.1111111111111111,\"#46039f\"],[0.2222222222222222,\"#7201a8\"],[0.3333333333333333,\"#9c179e\"],[0.4444444444444444,\"#bd3786\"],[0.5555555555555556,\"#d8576b\"],[0.6666666666666666,\"#ed7953\"],[0.7777777777777778,\"#fb9f3a\"],[0.8888888888888888,\"#fdca26\"],[1.0,\"#f0f921\"]],\"type\":\"histogram2dcontour\"}],\"mesh3d\":[{\"colorbar\":{\"outlinewidth\":0,\"ticks\":\"\"},\"type\":\"mesh3d\"}],\"parcoords\":[{\"line\":{\"colorbar\":{\"outlinewidth\":0,\"ticks\":\"\"}},\"type\":\"parcoords\"}],\"pie\":[{\"automargin\":true,\"type\":\"pie\"}],\"scatter\":[{\"marker\":{\"colorbar\":{\"outlinewidth\":0,\"ticks\":\"\"}},\"type\":\"scatter\"}],\"scatter3d\":[{\"line\":{\"colorbar\":{\"outlinewidth\":0,\"ticks\":\"\"}},\"marker\":{\"colorbar\":{\"outlinewidth\":0,\"ticks\":\"\"}},\"type\":\"scatter3d\"}],\"scattercarpet\":[{\"marker\":{\"colorbar\":{\"outlinewidth\":0,\"ticks\":\"\"}},\"type\":\"scattercarpet\"}],\"scattergeo\":[{\"marker\":{\"colorbar\":{\"outlinewidth\":0,\"ticks\":\"\"}},\"type\":\"scattergeo\"}],\"scattergl\":[{\"marker\":{\"colorbar\":{\"outlinewidth\":0,\"ticks\":\"\"}},\"type\":\"scattergl\"}],\"scattermapbox\":[{\"marker\":{\"colorbar\":{\"outlinewidth\":0,\"ticks\":\"\"}},\"type\":\"scattermapbox\"}],\"scatterpolar\":[{\"marker\":{\"colorbar\":{\"outlinewidth\":0,\"ticks\":\"\"}},\"type\":\"scatterpolar\"}],\"scatterpolargl\":[{\"marker\":{\"colorbar\":{\"outlinewidth\":0,\"ticks\":\"\"}},\"type\":\"scatterpolargl\"}],\"scatterternary\":[{\"marker\":{\"colorbar\":{\"outlinewidth\":0,\"ticks\":\"\"}},\"type\":\"scatterternary\"}],\"surface\":[{\"colorbar\":{\"outlinewidth\":0,\"ticks\":\"\"},\"colorscale\":[[0.0,\"#0d0887\"],[0.1111111111111111,\"#46039f\"],[0.2222222222222222,\"#7201a8\"],[0.3333333333333333,\"#9c179e\"],[0.4444444444444444,\"#bd3786\"],[0.5555555555555556,\"#d8576b\"],[0.6666666666666666,\"#ed7953\"],[0.7777777777777778,\"#fb9f3a\"],[0.8888888888888888,\"#fdca26\"],[1.0,\"#f0f921\"]],\"type\":\"surface\"}],\"table\":[{\"cells\":{\"fill\":{\"color\":\"#EBF0F8\"},\"line\":{\"color\":\"white\"}},\"header\":{\"fill\":{\"color\":\"#C8D4E3\"},\"line\":{\"color\":\"white\"}},\"type\":\"table\"}]},\"layout\":{\"annotationdefaults\":{\"arrowcolor\":\"#2a3f5f\",\"arrowhead\":0,\"arrowwidth\":1},\"autotypenumbers\":\"strict\",\"coloraxis\":{\"colorbar\":{\"outlinewidth\":0,\"ticks\":\"\"}},\"colorscale\":{\"diverging\":[[0,\"#8e0152\"],[0.1,\"#c51b7d\"],[0.2,\"#de77ae\"],[0.3,\"#f1b6da\"],[0.4,\"#fde0ef\"],[0.5,\"#f7f7f7\"],[0.6,\"#e6f5d0\"],[0.7,\"#b8e186\"],[0.8,\"#7fbc41\"],[0.9,\"#4d9221\"],[1,\"#276419\"]],\"sequential\":[[0.0,\"#0d0887\"],[0.1111111111111111,\"#46039f\"],[0.2222222222222222,\"#7201a8\"],[0.3333333333333333,\"#9c179e\"],[0.4444444444444444,\"#bd3786\"],[0.5555555555555556,\"#d8576b\"],[0.6666666666666666,\"#ed7953\"],[0.7777777777777778,\"#fb9f3a\"],[0.8888888888888888,\"#fdca26\"],[1.0,\"#f0f921\"]],\"sequentialminus\":[[0.0,\"#0d0887\"],[0.1111111111111111,\"#46039f\"],[0.2222222222222222,\"#7201a8\"],[0.3333333333333333,\"#9c179e\"],[0.4444444444444444,\"#bd3786\"],[0.5555555555555556,\"#d8576b\"],[0.6666666666666666,\"#ed7953\"],[0.7777777777777778,\"#fb9f3a\"],[0.8888888888888888,\"#fdca26\"],[1.0,\"#f0f921\"]]},\"colorway\":[\"#636efa\",\"#EF553B\",\"#00cc96\",\"#ab63fa\",\"#FFA15A\",\"#19d3f3\",\"#FF6692\",\"#B6E880\",\"#FF97FF\",\"#FECB52\"],\"font\":{\"color\":\"#2a3f5f\"},\"geo\":{\"bgcolor\":\"white\",\"lakecolor\":\"white\",\"landcolor\":\"#E5ECF6\",\"showlakes\":true,\"showland\":true,\"subunitcolor\":\"white\"},\"hoverlabel\":{\"align\":\"left\"},\"hovermode\":\"closest\",\"mapbox\":{\"style\":\"light\"},\"paper_bgcolor\":\"white\",\"plot_bgcolor\":\"#E5ECF6\",\"polar\":{\"angularaxis\":{\"gridcolor\":\"white\",\"linecolor\":\"white\",\"ticks\":\"\"},\"bgcolor\":\"#E5ECF6\",\"radialaxis\":{\"gridcolor\":\"white\",\"linecolor\":\"white\",\"ticks\":\"\"}},\"scene\":{\"xaxis\":{\"backgroundcolor\":\"#E5ECF6\",\"gridcolor\":\"white\",\"gridwidth\":2,\"linecolor\":\"white\",\"showbackground\":true,\"ticks\":\"\",\"zerolinecolor\":\"white\"},\"yaxis\":{\"backgroundcolor\":\"#E5ECF6\",\"gridcolor\":\"white\",\"gridwidth\":2,\"linecolor\":\"white\",\"showbackground\":true,\"ticks\":\"\",\"zerolinecolor\":\"white\"},\"zaxis\":{\"backgroundcolor\":\"#E5ECF6\",\"gridcolor\":\"white\",\"gridwidth\":2,\"linecolor\":\"white\",\"showbackground\":true,\"ticks\":\"\",\"zerolinecolor\":\"white\"}},\"shapedefaults\":{\"line\":{\"color\":\"#2a3f5f\"}},\"ternary\":{\"aaxis\":{\"gridcolor\":\"white\",\"linecolor\":\"white\",\"ticks\":\"\"},\"baxis\":{\"gridcolor\":\"white\",\"linecolor\":\"white\",\"ticks\":\"\"},\"bgcolor\":\"#E5ECF6\",\"caxis\":{\"gridcolor\":\"white\",\"linecolor\":\"white\",\"ticks\":\"\"}},\"title\":{\"x\":0.05},\"xaxis\":{\"automargin\":true,\"gridcolor\":\"white\",\"linecolor\":\"white\",\"ticks\":\"\",\"title\":{\"standoff\":15},\"zerolinecolor\":\"white\",\"zerolinewidth\":2},\"yaxis\":{\"automargin\":true,\"gridcolor\":\"white\",\"linecolor\":\"white\",\"ticks\":\"\",\"title\":{\"standoff\":15},\"zerolinecolor\":\"white\",\"zerolinewidth\":2}}},\"xaxis\":{\"anchor\":\"y\",\"domain\":[0.0,1.0],\"title\":{\"text\":\"x\"}},\"yaxis\":{\"anchor\":\"x\",\"domain\":[0.0,1.0],\"title\":{\"text\":\"y\"}},\"legend\":{\"title\":{\"text\":\"color\"},\"tracegroupgap\":0},\"margin\":{\"t\":60}},                        {\"responsive\": true}                    ).then(function(){\n",
       "                            \n",
       "var gd = document.getElementById('9740bca3-c6fb-4ce5-abd2-578d22cbcb2a');\n",
       "var x = new MutationObserver(function (mutations, observer) {{\n",
       "        var display = window.getComputedStyle(gd).display;\n",
       "        if (!display || display === 'none') {{\n",
       "            console.log([gd, 'removed!']);\n",
       "            Plotly.purge(gd);\n",
       "            observer.disconnect();\n",
       "        }}\n",
       "}});\n",
       "\n",
       "// Listen for the removal of the full notebook cells\n",
       "var notebookContainer = gd.closest('#notebook-container');\n",
       "if (notebookContainer) {{\n",
       "    x.observe(notebookContainer, {childList: true});\n",
       "}}\n",
       "\n",
       "// Listen for the clearing of the current output cell\n",
       "var outputEl = gd.closest('.output');\n",
       "if (outputEl) {{\n",
       "    x.observe(outputEl, {childList: true});\n",
       "}}\n",
       "\n",
       "                        })                };                });            </script>        </div>"
      ]
     },
     "metadata": {},
     "output_type": "display_data"
    },
    {
     "data": {
      "application/javascript": [
       "\n",
       "            setTimeout(function() {\n",
       "                var nbb_cell_id = 8;\n",
       "                var nbb_unformatted_code = \"import pandas as pd\\nimport plotly.express as px\\n\\n\\nx = [datetime.fromtimestamp(cra[\\\"transaction_time\\\"]) for cra in crabadas]\\ny = [cra[\\\"price\\\"] / 10**18 for cra in crabadas]\\ncolor = [cra[\\\"class_name\\\"] for cra in crabadas]\\nhover_data = [\\n    f\\\"{cra['class_name']}-P{cra['pure_number']}-B{cra['breed_count']}\\\"\\n    for cra in crabadas\\n]\\n\\nfig = px.scatter(x=x, y=y, color=color, hover_name=hover_data)\\nfig.show()\";\n",
       "                var nbb_formatted_code = \"import pandas as pd\\nimport plotly.express as px\\n\\n\\nx = [datetime.fromtimestamp(cra[\\\"transaction_time\\\"]) for cra in crabadas]\\ny = [cra[\\\"price\\\"] / 10**18 for cra in crabadas]\\ncolor = [cra[\\\"class_name\\\"] for cra in crabadas]\\nhover_data = [\\n    f\\\"{cra['class_name']}-P{cra['pure_number']}-B{cra['breed_count']}\\\"\\n    for cra in crabadas\\n]\\n\\nfig = px.scatter(x=x, y=y, color=color, hover_name=hover_data)\\nfig.show()\";\n",
       "                var nbb_cells = Jupyter.notebook.get_cells();\n",
       "                for (var i = 0; i < nbb_cells.length; ++i) {\n",
       "                    if (nbb_cells[i].input_prompt_number == nbb_cell_id) {\n",
       "                        if (nbb_cells[i].get_text() == nbb_unformatted_code) {\n",
       "                             nbb_cells[i].set_text(nbb_formatted_code);\n",
       "                        }\n",
       "                        break;\n",
       "                    }\n",
       "                }\n",
       "            }, 500);\n",
       "            "
      ],
      "text/plain": [
       "<IPython.core.display.Javascript object>"
      ]
     },
     "metadata": {},
     "output_type": "display_data"
    }
   ],
   "source": [
    "import pandas as pd\n",
    "import plotly.express as px\n",
    "\n",
    "\n",
    "x = [datetime.fromtimestamp(cra[\"transaction_time\"]) for cra in crabadas]\n",
    "y = [cra[\"price\"] / 10**18 for cra in crabadas]\n",
    "color = [cra[\"class_name\"] for cra in crabadas]\n",
    "hover_data = [\n",
    "    f\"{cra['class_name']}-P{cra['pure_number']}-B{cra['breed_count']}\"\n",
    "    for cra in crabadas\n",
    "]\n",
    "\n",
    "fig = px.scatter(x=x, y=y, color=color, hover_name=hover_data)\n",
    "fig.show()"
   ]
  },
  {
   "cell_type": "code",
   "execution_count": 9,
   "id": "f86682d5",
   "metadata": {},
   "outputs": [
    {
     "data": {
      "application/vnd.plotly.v1+json": {
       "config": {
        "plotlyServerURL": "https://plot.ly"
       },
       "data": [
        {
         "alignmentgroup": "True",
         "hovertemplate": "x=%{x}<br>y=%{y}<extra></extra>",
         "legendgroup": "",
         "marker": {
          "color": "#636efa",
          "pattern": {
           "shape": ""
          }
         },
         "name": "",
         "offsetgroup": "",
         "orientation": "v",
         "showlegend": false,
         "textposition": "auto",
         "type": "bar",
         "x": [
          "PRIME",
          "BULK",
          "GEM",
          "ORGANIC",
          "CRABOID",
          "RUINED",
          "SUNKEN"
         ],
         "xaxis": "x",
         "y": [
          120,
          117,
          64,
          4,
          48,
          10,
          14
         ],
         "yaxis": "y"
        }
       ],
       "layout": {
        "barmode": "relative",
        "legend": {
         "tracegroupgap": 0
        },
        "margin": {
         "t": 60
        },
        "template": {
         "data": {
          "bar": [
           {
            "error_x": {
             "color": "#2a3f5f"
            },
            "error_y": {
             "color": "#2a3f5f"
            },
            "marker": {
             "line": {
              "color": "#E5ECF6",
              "width": 0.5
             },
             "pattern": {
              "fillmode": "overlay",
              "size": 10,
              "solidity": 0.2
             }
            },
            "type": "bar"
           }
          ],
          "barpolar": [
           {
            "marker": {
             "line": {
              "color": "#E5ECF6",
              "width": 0.5
             },
             "pattern": {
              "fillmode": "overlay",
              "size": 10,
              "solidity": 0.2
             }
            },
            "type": "barpolar"
           }
          ],
          "carpet": [
           {
            "aaxis": {
             "endlinecolor": "#2a3f5f",
             "gridcolor": "white",
             "linecolor": "white",
             "minorgridcolor": "white",
             "startlinecolor": "#2a3f5f"
            },
            "baxis": {
             "endlinecolor": "#2a3f5f",
             "gridcolor": "white",
             "linecolor": "white",
             "minorgridcolor": "white",
             "startlinecolor": "#2a3f5f"
            },
            "type": "carpet"
           }
          ],
          "choropleth": [
           {
            "colorbar": {
             "outlinewidth": 0,
             "ticks": ""
            },
            "type": "choropleth"
           }
          ],
          "contour": [
           {
            "colorbar": {
             "outlinewidth": 0,
             "ticks": ""
            },
            "colorscale": [
             [
              0,
              "#0d0887"
             ],
             [
              0.1111111111111111,
              "#46039f"
             ],
             [
              0.2222222222222222,
              "#7201a8"
             ],
             [
              0.3333333333333333,
              "#9c179e"
             ],
             [
              0.4444444444444444,
              "#bd3786"
             ],
             [
              0.5555555555555556,
              "#d8576b"
             ],
             [
              0.6666666666666666,
              "#ed7953"
             ],
             [
              0.7777777777777778,
              "#fb9f3a"
             ],
             [
              0.8888888888888888,
              "#fdca26"
             ],
             [
              1,
              "#f0f921"
             ]
            ],
            "type": "contour"
           }
          ],
          "contourcarpet": [
           {
            "colorbar": {
             "outlinewidth": 0,
             "ticks": ""
            },
            "type": "contourcarpet"
           }
          ],
          "heatmap": [
           {
            "colorbar": {
             "outlinewidth": 0,
             "ticks": ""
            },
            "colorscale": [
             [
              0,
              "#0d0887"
             ],
             [
              0.1111111111111111,
              "#46039f"
             ],
             [
              0.2222222222222222,
              "#7201a8"
             ],
             [
              0.3333333333333333,
              "#9c179e"
             ],
             [
              0.4444444444444444,
              "#bd3786"
             ],
             [
              0.5555555555555556,
              "#d8576b"
             ],
             [
              0.6666666666666666,
              "#ed7953"
             ],
             [
              0.7777777777777778,
              "#fb9f3a"
             ],
             [
              0.8888888888888888,
              "#fdca26"
             ],
             [
              1,
              "#f0f921"
             ]
            ],
            "type": "heatmap"
           }
          ],
          "heatmapgl": [
           {
            "colorbar": {
             "outlinewidth": 0,
             "ticks": ""
            },
            "colorscale": [
             [
              0,
              "#0d0887"
             ],
             [
              0.1111111111111111,
              "#46039f"
             ],
             [
              0.2222222222222222,
              "#7201a8"
             ],
             [
              0.3333333333333333,
              "#9c179e"
             ],
             [
              0.4444444444444444,
              "#bd3786"
             ],
             [
              0.5555555555555556,
              "#d8576b"
             ],
             [
              0.6666666666666666,
              "#ed7953"
             ],
             [
              0.7777777777777778,
              "#fb9f3a"
             ],
             [
              0.8888888888888888,
              "#fdca26"
             ],
             [
              1,
              "#f0f921"
             ]
            ],
            "type": "heatmapgl"
           }
          ],
          "histogram": [
           {
            "marker": {
             "pattern": {
              "fillmode": "overlay",
              "size": 10,
              "solidity": 0.2
             }
            },
            "type": "histogram"
           }
          ],
          "histogram2d": [
           {
            "colorbar": {
             "outlinewidth": 0,
             "ticks": ""
            },
            "colorscale": [
             [
              0,
              "#0d0887"
             ],
             [
              0.1111111111111111,
              "#46039f"
             ],
             [
              0.2222222222222222,
              "#7201a8"
             ],
             [
              0.3333333333333333,
              "#9c179e"
             ],
             [
              0.4444444444444444,
              "#bd3786"
             ],
             [
              0.5555555555555556,
              "#d8576b"
             ],
             [
              0.6666666666666666,
              "#ed7953"
             ],
             [
              0.7777777777777778,
              "#fb9f3a"
             ],
             [
              0.8888888888888888,
              "#fdca26"
             ],
             [
              1,
              "#f0f921"
             ]
            ],
            "type": "histogram2d"
           }
          ],
          "histogram2dcontour": [
           {
            "colorbar": {
             "outlinewidth": 0,
             "ticks": ""
            },
            "colorscale": [
             [
              0,
              "#0d0887"
             ],
             [
              0.1111111111111111,
              "#46039f"
             ],
             [
              0.2222222222222222,
              "#7201a8"
             ],
             [
              0.3333333333333333,
              "#9c179e"
             ],
             [
              0.4444444444444444,
              "#bd3786"
             ],
             [
              0.5555555555555556,
              "#d8576b"
             ],
             [
              0.6666666666666666,
              "#ed7953"
             ],
             [
              0.7777777777777778,
              "#fb9f3a"
             ],
             [
              0.8888888888888888,
              "#fdca26"
             ],
             [
              1,
              "#f0f921"
             ]
            ],
            "type": "histogram2dcontour"
           }
          ],
          "mesh3d": [
           {
            "colorbar": {
             "outlinewidth": 0,
             "ticks": ""
            },
            "type": "mesh3d"
           }
          ],
          "parcoords": [
           {
            "line": {
             "colorbar": {
              "outlinewidth": 0,
              "ticks": ""
             }
            },
            "type": "parcoords"
           }
          ],
          "pie": [
           {
            "automargin": true,
            "type": "pie"
           }
          ],
          "scatter": [
           {
            "marker": {
             "colorbar": {
              "outlinewidth": 0,
              "ticks": ""
             }
            },
            "type": "scatter"
           }
          ],
          "scatter3d": [
           {
            "line": {
             "colorbar": {
              "outlinewidth": 0,
              "ticks": ""
             }
            },
            "marker": {
             "colorbar": {
              "outlinewidth": 0,
              "ticks": ""
             }
            },
            "type": "scatter3d"
           }
          ],
          "scattercarpet": [
           {
            "marker": {
             "colorbar": {
              "outlinewidth": 0,
              "ticks": ""
             }
            },
            "type": "scattercarpet"
           }
          ],
          "scattergeo": [
           {
            "marker": {
             "colorbar": {
              "outlinewidth": 0,
              "ticks": ""
             }
            },
            "type": "scattergeo"
           }
          ],
          "scattergl": [
           {
            "marker": {
             "colorbar": {
              "outlinewidth": 0,
              "ticks": ""
             }
            },
            "type": "scattergl"
           }
          ],
          "scattermapbox": [
           {
            "marker": {
             "colorbar": {
              "outlinewidth": 0,
              "ticks": ""
             }
            },
            "type": "scattermapbox"
           }
          ],
          "scatterpolar": [
           {
            "marker": {
             "colorbar": {
              "outlinewidth": 0,
              "ticks": ""
             }
            },
            "type": "scatterpolar"
           }
          ],
          "scatterpolargl": [
           {
            "marker": {
             "colorbar": {
              "outlinewidth": 0,
              "ticks": ""
             }
            },
            "type": "scatterpolargl"
           }
          ],
          "scatterternary": [
           {
            "marker": {
             "colorbar": {
              "outlinewidth": 0,
              "ticks": ""
             }
            },
            "type": "scatterternary"
           }
          ],
          "surface": [
           {
            "colorbar": {
             "outlinewidth": 0,
             "ticks": ""
            },
            "colorscale": [
             [
              0,
              "#0d0887"
             ],
             [
              0.1111111111111111,
              "#46039f"
             ],
             [
              0.2222222222222222,
              "#7201a8"
             ],
             [
              0.3333333333333333,
              "#9c179e"
             ],
             [
              0.4444444444444444,
              "#bd3786"
             ],
             [
              0.5555555555555556,
              "#d8576b"
             ],
             [
              0.6666666666666666,
              "#ed7953"
             ],
             [
              0.7777777777777778,
              "#fb9f3a"
             ],
             [
              0.8888888888888888,
              "#fdca26"
             ],
             [
              1,
              "#f0f921"
             ]
            ],
            "type": "surface"
           }
          ],
          "table": [
           {
            "cells": {
             "fill": {
              "color": "#EBF0F8"
             },
             "line": {
              "color": "white"
             }
            },
            "header": {
             "fill": {
              "color": "#C8D4E3"
             },
             "line": {
              "color": "white"
             }
            },
            "type": "table"
           }
          ]
         },
         "layout": {
          "annotationdefaults": {
           "arrowcolor": "#2a3f5f",
           "arrowhead": 0,
           "arrowwidth": 1
          },
          "autotypenumbers": "strict",
          "coloraxis": {
           "colorbar": {
            "outlinewidth": 0,
            "ticks": ""
           }
          },
          "colorscale": {
           "diverging": [
            [
             0,
             "#8e0152"
            ],
            [
             0.1,
             "#c51b7d"
            ],
            [
             0.2,
             "#de77ae"
            ],
            [
             0.3,
             "#f1b6da"
            ],
            [
             0.4,
             "#fde0ef"
            ],
            [
             0.5,
             "#f7f7f7"
            ],
            [
             0.6,
             "#e6f5d0"
            ],
            [
             0.7,
             "#b8e186"
            ],
            [
             0.8,
             "#7fbc41"
            ],
            [
             0.9,
             "#4d9221"
            ],
            [
             1,
             "#276419"
            ]
           ],
           "sequential": [
            [
             0,
             "#0d0887"
            ],
            [
             0.1111111111111111,
             "#46039f"
            ],
            [
             0.2222222222222222,
             "#7201a8"
            ],
            [
             0.3333333333333333,
             "#9c179e"
            ],
            [
             0.4444444444444444,
             "#bd3786"
            ],
            [
             0.5555555555555556,
             "#d8576b"
            ],
            [
             0.6666666666666666,
             "#ed7953"
            ],
            [
             0.7777777777777778,
             "#fb9f3a"
            ],
            [
             0.8888888888888888,
             "#fdca26"
            ],
            [
             1,
             "#f0f921"
            ]
           ],
           "sequentialminus": [
            [
             0,
             "#0d0887"
            ],
            [
             0.1111111111111111,
             "#46039f"
            ],
            [
             0.2222222222222222,
             "#7201a8"
            ],
            [
             0.3333333333333333,
             "#9c179e"
            ],
            [
             0.4444444444444444,
             "#bd3786"
            ],
            [
             0.5555555555555556,
             "#d8576b"
            ],
            [
             0.6666666666666666,
             "#ed7953"
            ],
            [
             0.7777777777777778,
             "#fb9f3a"
            ],
            [
             0.8888888888888888,
             "#fdca26"
            ],
            [
             1,
             "#f0f921"
            ]
           ]
          },
          "colorway": [
           "#636efa",
           "#EF553B",
           "#00cc96",
           "#ab63fa",
           "#FFA15A",
           "#19d3f3",
           "#FF6692",
           "#B6E880",
           "#FF97FF",
           "#FECB52"
          ],
          "font": {
           "color": "#2a3f5f"
          },
          "geo": {
           "bgcolor": "white",
           "lakecolor": "white",
           "landcolor": "#E5ECF6",
           "showlakes": true,
           "showland": true,
           "subunitcolor": "white"
          },
          "hoverlabel": {
           "align": "left"
          },
          "hovermode": "closest",
          "mapbox": {
           "style": "light"
          },
          "paper_bgcolor": "white",
          "plot_bgcolor": "#E5ECF6",
          "polar": {
           "angularaxis": {
            "gridcolor": "white",
            "linecolor": "white",
            "ticks": ""
           },
           "bgcolor": "#E5ECF6",
           "radialaxis": {
            "gridcolor": "white",
            "linecolor": "white",
            "ticks": ""
           }
          },
          "scene": {
           "xaxis": {
            "backgroundcolor": "#E5ECF6",
            "gridcolor": "white",
            "gridwidth": 2,
            "linecolor": "white",
            "showbackground": true,
            "ticks": "",
            "zerolinecolor": "white"
           },
           "yaxis": {
            "backgroundcolor": "#E5ECF6",
            "gridcolor": "white",
            "gridwidth": 2,
            "linecolor": "white",
            "showbackground": true,
            "ticks": "",
            "zerolinecolor": "white"
           },
           "zaxis": {
            "backgroundcolor": "#E5ECF6",
            "gridcolor": "white",
            "gridwidth": 2,
            "linecolor": "white",
            "showbackground": true,
            "ticks": "",
            "zerolinecolor": "white"
           }
          },
          "shapedefaults": {
           "line": {
            "color": "#2a3f5f"
           }
          },
          "ternary": {
           "aaxis": {
            "gridcolor": "white",
            "linecolor": "white",
            "ticks": ""
           },
           "baxis": {
            "gridcolor": "white",
            "linecolor": "white",
            "ticks": ""
           },
           "bgcolor": "#E5ECF6",
           "caxis": {
            "gridcolor": "white",
            "linecolor": "white",
            "ticks": ""
           }
          },
          "title": {
           "x": 0.05
          },
          "xaxis": {
           "automargin": true,
           "gridcolor": "white",
           "linecolor": "white",
           "ticks": "",
           "title": {
            "standoff": 15
           },
           "zerolinecolor": "white",
           "zerolinewidth": 2
          },
          "yaxis": {
           "automargin": true,
           "gridcolor": "white",
           "linecolor": "white",
           "ticks": "",
           "title": {
            "standoff": 15
           },
           "zerolinecolor": "white",
           "zerolinewidth": 2
          }
         }
        },
        "xaxis": {
         "anchor": "y",
         "domain": [
          0,
          1
         ],
         "title": {
          "text": "x"
         }
        },
        "yaxis": {
         "anchor": "x",
         "domain": [
          0,
          1
         ],
         "title": {
          "text": "y"
         }
        }
       }
      },
      "text/html": [
       "<div>                            <div id=\"deed47dd-3a48-4a48-814f-162aad51ca3f\" class=\"plotly-graph-div\" style=\"height:525px; width:100%;\"></div>            <script type=\"text/javascript\">                require([\"plotly\"], function(Plotly) {                    window.PLOTLYENV=window.PLOTLYENV || {};                                    if (document.getElementById(\"deed47dd-3a48-4a48-814f-162aad51ca3f\")) {                    Plotly.newPlot(                        \"deed47dd-3a48-4a48-814f-162aad51ca3f\",                        [{\"alignmentgroup\":\"True\",\"hovertemplate\":\"x=%{x}<br>y=%{y}<extra></extra>\",\"legendgroup\":\"\",\"marker\":{\"color\":\"#636efa\",\"pattern\":{\"shape\":\"\"}},\"name\":\"\",\"offsetgroup\":\"\",\"orientation\":\"v\",\"showlegend\":false,\"textposition\":\"auto\",\"x\":[\"PRIME\",\"BULK\",\"GEM\",\"ORGANIC\",\"CRABOID\",\"RUINED\",\"SUNKEN\"],\"xaxis\":\"x\",\"y\":[120,117,64,4,48,10,14],\"yaxis\":\"y\",\"type\":\"bar\"}],                        {\"template\":{\"data\":{\"bar\":[{\"error_x\":{\"color\":\"#2a3f5f\"},\"error_y\":{\"color\":\"#2a3f5f\"},\"marker\":{\"line\":{\"color\":\"#E5ECF6\",\"width\":0.5},\"pattern\":{\"fillmode\":\"overlay\",\"size\":10,\"solidity\":0.2}},\"type\":\"bar\"}],\"barpolar\":[{\"marker\":{\"line\":{\"color\":\"#E5ECF6\",\"width\":0.5},\"pattern\":{\"fillmode\":\"overlay\",\"size\":10,\"solidity\":0.2}},\"type\":\"barpolar\"}],\"carpet\":[{\"aaxis\":{\"endlinecolor\":\"#2a3f5f\",\"gridcolor\":\"white\",\"linecolor\":\"white\",\"minorgridcolor\":\"white\",\"startlinecolor\":\"#2a3f5f\"},\"baxis\":{\"endlinecolor\":\"#2a3f5f\",\"gridcolor\":\"white\",\"linecolor\":\"white\",\"minorgridcolor\":\"white\",\"startlinecolor\":\"#2a3f5f\"},\"type\":\"carpet\"}],\"choropleth\":[{\"colorbar\":{\"outlinewidth\":0,\"ticks\":\"\"},\"type\":\"choropleth\"}],\"contour\":[{\"colorbar\":{\"outlinewidth\":0,\"ticks\":\"\"},\"colorscale\":[[0.0,\"#0d0887\"],[0.1111111111111111,\"#46039f\"],[0.2222222222222222,\"#7201a8\"],[0.3333333333333333,\"#9c179e\"],[0.4444444444444444,\"#bd3786\"],[0.5555555555555556,\"#d8576b\"],[0.6666666666666666,\"#ed7953\"],[0.7777777777777778,\"#fb9f3a\"],[0.8888888888888888,\"#fdca26\"],[1.0,\"#f0f921\"]],\"type\":\"contour\"}],\"contourcarpet\":[{\"colorbar\":{\"outlinewidth\":0,\"ticks\":\"\"},\"type\":\"contourcarpet\"}],\"heatmap\":[{\"colorbar\":{\"outlinewidth\":0,\"ticks\":\"\"},\"colorscale\":[[0.0,\"#0d0887\"],[0.1111111111111111,\"#46039f\"],[0.2222222222222222,\"#7201a8\"],[0.3333333333333333,\"#9c179e\"],[0.4444444444444444,\"#bd3786\"],[0.5555555555555556,\"#d8576b\"],[0.6666666666666666,\"#ed7953\"],[0.7777777777777778,\"#fb9f3a\"],[0.8888888888888888,\"#fdca26\"],[1.0,\"#f0f921\"]],\"type\":\"heatmap\"}],\"heatmapgl\":[{\"colorbar\":{\"outlinewidth\":0,\"ticks\":\"\"},\"colorscale\":[[0.0,\"#0d0887\"],[0.1111111111111111,\"#46039f\"],[0.2222222222222222,\"#7201a8\"],[0.3333333333333333,\"#9c179e\"],[0.4444444444444444,\"#bd3786\"],[0.5555555555555556,\"#d8576b\"],[0.6666666666666666,\"#ed7953\"],[0.7777777777777778,\"#fb9f3a\"],[0.8888888888888888,\"#fdca26\"],[1.0,\"#f0f921\"]],\"type\":\"heatmapgl\"}],\"histogram\":[{\"marker\":{\"pattern\":{\"fillmode\":\"overlay\",\"size\":10,\"solidity\":0.2}},\"type\":\"histogram\"}],\"histogram2d\":[{\"colorbar\":{\"outlinewidth\":0,\"ticks\":\"\"},\"colorscale\":[[0.0,\"#0d0887\"],[0.1111111111111111,\"#46039f\"],[0.2222222222222222,\"#7201a8\"],[0.3333333333333333,\"#9c179e\"],[0.4444444444444444,\"#bd3786\"],[0.5555555555555556,\"#d8576b\"],[0.6666666666666666,\"#ed7953\"],[0.7777777777777778,\"#fb9f3a\"],[0.8888888888888888,\"#fdca26\"],[1.0,\"#f0f921\"]],\"type\":\"histogram2d\"}],\"histogram2dcontour\":[{\"colorbar\":{\"outlinewidth\":0,\"ticks\":\"\"},\"colorscale\":[[0.0,\"#0d0887\"],[0.1111111111111111,\"#46039f\"],[0.2222222222222222,\"#7201a8\"],[0.3333333333333333,\"#9c179e\"],[0.4444444444444444,\"#bd3786\"],[0.5555555555555556,\"#d8576b\"],[0.6666666666666666,\"#ed7953\"],[0.7777777777777778,\"#fb9f3a\"],[0.8888888888888888,\"#fdca26\"],[1.0,\"#f0f921\"]],\"type\":\"histogram2dcontour\"}],\"mesh3d\":[{\"colorbar\":{\"outlinewidth\":0,\"ticks\":\"\"},\"type\":\"mesh3d\"}],\"parcoords\":[{\"line\":{\"colorbar\":{\"outlinewidth\":0,\"ticks\":\"\"}},\"type\":\"parcoords\"}],\"pie\":[{\"automargin\":true,\"type\":\"pie\"}],\"scatter\":[{\"marker\":{\"colorbar\":{\"outlinewidth\":0,\"ticks\":\"\"}},\"type\":\"scatter\"}],\"scatter3d\":[{\"line\":{\"colorbar\":{\"outlinewidth\":0,\"ticks\":\"\"}},\"marker\":{\"colorbar\":{\"outlinewidth\":0,\"ticks\":\"\"}},\"type\":\"scatter3d\"}],\"scattercarpet\":[{\"marker\":{\"colorbar\":{\"outlinewidth\":0,\"ticks\":\"\"}},\"type\":\"scattercarpet\"}],\"scattergeo\":[{\"marker\":{\"colorbar\":{\"outlinewidth\":0,\"ticks\":\"\"}},\"type\":\"scattergeo\"}],\"scattergl\":[{\"marker\":{\"colorbar\":{\"outlinewidth\":0,\"ticks\":\"\"}},\"type\":\"scattergl\"}],\"scattermapbox\":[{\"marker\":{\"colorbar\":{\"outlinewidth\":0,\"ticks\":\"\"}},\"type\":\"scattermapbox\"}],\"scatterpolar\":[{\"marker\":{\"colorbar\":{\"outlinewidth\":0,\"ticks\":\"\"}},\"type\":\"scatterpolar\"}],\"scatterpolargl\":[{\"marker\":{\"colorbar\":{\"outlinewidth\":0,\"ticks\":\"\"}},\"type\":\"scatterpolargl\"}],\"scatterternary\":[{\"marker\":{\"colorbar\":{\"outlinewidth\":0,\"ticks\":\"\"}},\"type\":\"scatterternary\"}],\"surface\":[{\"colorbar\":{\"outlinewidth\":0,\"ticks\":\"\"},\"colorscale\":[[0.0,\"#0d0887\"],[0.1111111111111111,\"#46039f\"],[0.2222222222222222,\"#7201a8\"],[0.3333333333333333,\"#9c179e\"],[0.4444444444444444,\"#bd3786\"],[0.5555555555555556,\"#d8576b\"],[0.6666666666666666,\"#ed7953\"],[0.7777777777777778,\"#fb9f3a\"],[0.8888888888888888,\"#fdca26\"],[1.0,\"#f0f921\"]],\"type\":\"surface\"}],\"table\":[{\"cells\":{\"fill\":{\"color\":\"#EBF0F8\"},\"line\":{\"color\":\"white\"}},\"header\":{\"fill\":{\"color\":\"#C8D4E3\"},\"line\":{\"color\":\"white\"}},\"type\":\"table\"}]},\"layout\":{\"annotationdefaults\":{\"arrowcolor\":\"#2a3f5f\",\"arrowhead\":0,\"arrowwidth\":1},\"autotypenumbers\":\"strict\",\"coloraxis\":{\"colorbar\":{\"outlinewidth\":0,\"ticks\":\"\"}},\"colorscale\":{\"diverging\":[[0,\"#8e0152\"],[0.1,\"#c51b7d\"],[0.2,\"#de77ae\"],[0.3,\"#f1b6da\"],[0.4,\"#fde0ef\"],[0.5,\"#f7f7f7\"],[0.6,\"#e6f5d0\"],[0.7,\"#b8e186\"],[0.8,\"#7fbc41\"],[0.9,\"#4d9221\"],[1,\"#276419\"]],\"sequential\":[[0.0,\"#0d0887\"],[0.1111111111111111,\"#46039f\"],[0.2222222222222222,\"#7201a8\"],[0.3333333333333333,\"#9c179e\"],[0.4444444444444444,\"#bd3786\"],[0.5555555555555556,\"#d8576b\"],[0.6666666666666666,\"#ed7953\"],[0.7777777777777778,\"#fb9f3a\"],[0.8888888888888888,\"#fdca26\"],[1.0,\"#f0f921\"]],\"sequentialminus\":[[0.0,\"#0d0887\"],[0.1111111111111111,\"#46039f\"],[0.2222222222222222,\"#7201a8\"],[0.3333333333333333,\"#9c179e\"],[0.4444444444444444,\"#bd3786\"],[0.5555555555555556,\"#d8576b\"],[0.6666666666666666,\"#ed7953\"],[0.7777777777777778,\"#fb9f3a\"],[0.8888888888888888,\"#fdca26\"],[1.0,\"#f0f921\"]]},\"colorway\":[\"#636efa\",\"#EF553B\",\"#00cc96\",\"#ab63fa\",\"#FFA15A\",\"#19d3f3\",\"#FF6692\",\"#B6E880\",\"#FF97FF\",\"#FECB52\"],\"font\":{\"color\":\"#2a3f5f\"},\"geo\":{\"bgcolor\":\"white\",\"lakecolor\":\"white\",\"landcolor\":\"#E5ECF6\",\"showlakes\":true,\"showland\":true,\"subunitcolor\":\"white\"},\"hoverlabel\":{\"align\":\"left\"},\"hovermode\":\"closest\",\"mapbox\":{\"style\":\"light\"},\"paper_bgcolor\":\"white\",\"plot_bgcolor\":\"#E5ECF6\",\"polar\":{\"angularaxis\":{\"gridcolor\":\"white\",\"linecolor\":\"white\",\"ticks\":\"\"},\"bgcolor\":\"#E5ECF6\",\"radialaxis\":{\"gridcolor\":\"white\",\"linecolor\":\"white\",\"ticks\":\"\"}},\"scene\":{\"xaxis\":{\"backgroundcolor\":\"#E5ECF6\",\"gridcolor\":\"white\",\"gridwidth\":2,\"linecolor\":\"white\",\"showbackground\":true,\"ticks\":\"\",\"zerolinecolor\":\"white\"},\"yaxis\":{\"backgroundcolor\":\"#E5ECF6\",\"gridcolor\":\"white\",\"gridwidth\":2,\"linecolor\":\"white\",\"showbackground\":true,\"ticks\":\"\",\"zerolinecolor\":\"white\"},\"zaxis\":{\"backgroundcolor\":\"#E5ECF6\",\"gridcolor\":\"white\",\"gridwidth\":2,\"linecolor\":\"white\",\"showbackground\":true,\"ticks\":\"\",\"zerolinecolor\":\"white\"}},\"shapedefaults\":{\"line\":{\"color\":\"#2a3f5f\"}},\"ternary\":{\"aaxis\":{\"gridcolor\":\"white\",\"linecolor\":\"white\",\"ticks\":\"\"},\"baxis\":{\"gridcolor\":\"white\",\"linecolor\":\"white\",\"ticks\":\"\"},\"bgcolor\":\"#E5ECF6\",\"caxis\":{\"gridcolor\":\"white\",\"linecolor\":\"white\",\"ticks\":\"\"}},\"title\":{\"x\":0.05},\"xaxis\":{\"automargin\":true,\"gridcolor\":\"white\",\"linecolor\":\"white\",\"ticks\":\"\",\"title\":{\"standoff\":15},\"zerolinecolor\":\"white\",\"zerolinewidth\":2},\"yaxis\":{\"automargin\":true,\"gridcolor\":\"white\",\"linecolor\":\"white\",\"ticks\":\"\",\"title\":{\"standoff\":15},\"zerolinecolor\":\"white\",\"zerolinewidth\":2}}},\"xaxis\":{\"anchor\":\"y\",\"domain\":[0.0,1.0],\"title\":{\"text\":\"x\"}},\"yaxis\":{\"anchor\":\"x\",\"domain\":[0.0,1.0],\"title\":{\"text\":\"y\"}},\"legend\":{\"tracegroupgap\":0},\"margin\":{\"t\":60},\"barmode\":\"relative\"},                        {\"responsive\": true}                    ).then(function(){\n",
       "                            \n",
       "var gd = document.getElementById('deed47dd-3a48-4a48-814f-162aad51ca3f');\n",
       "var x = new MutationObserver(function (mutations, observer) {{\n",
       "        var display = window.getComputedStyle(gd).display;\n",
       "        if (!display || display === 'none') {{\n",
       "            console.log([gd, 'removed!']);\n",
       "            Plotly.purge(gd);\n",
       "            observer.disconnect();\n",
       "        }}\n",
       "}});\n",
       "\n",
       "// Listen for the removal of the full notebook cells\n",
       "var notebookContainer = gd.closest('#notebook-container');\n",
       "if (notebookContainer) {{\n",
       "    x.observe(notebookContainer, {childList: true});\n",
       "}}\n",
       "\n",
       "// Listen for the clearing of the current output cell\n",
       "var outputEl = gd.closest('.output');\n",
       "if (outputEl) {{\n",
       "    x.observe(outputEl, {childList: true});\n",
       "}}\n",
       "\n",
       "                        })                };                });            </script>        </div>"
      ]
     },
     "metadata": {},
     "output_type": "display_data"
    },
    {
     "data": {
      "application/javascript": [
       "\n",
       "            setTimeout(function() {\n",
       "                var nbb_cell_id = 9;\n",
       "                var nbb_unformatted_code = \"group_by_class = {}\\nfor cra in crabadas:\\n    class_name = cra[\\\"class_name\\\"]\\n    if class_name in group_by_class:\\n        group_by_class[class_name] = group_by_class[class_name] + 1\\n    else:\\n        group_by_class[class_name] = 1\\n\\nfig = px.bar(x=group_by_class.keys(), y=group_by_class.values())\\nfig.show()\";\n",
       "                var nbb_formatted_code = \"group_by_class = {}\\nfor cra in crabadas:\\n    class_name = cra[\\\"class_name\\\"]\\n    if class_name in group_by_class:\\n        group_by_class[class_name] = group_by_class[class_name] + 1\\n    else:\\n        group_by_class[class_name] = 1\\n\\nfig = px.bar(x=group_by_class.keys(), y=group_by_class.values())\\nfig.show()\";\n",
       "                var nbb_cells = Jupyter.notebook.get_cells();\n",
       "                for (var i = 0; i < nbb_cells.length; ++i) {\n",
       "                    if (nbb_cells[i].input_prompt_number == nbb_cell_id) {\n",
       "                        if (nbb_cells[i].get_text() == nbb_unformatted_code) {\n",
       "                             nbb_cells[i].set_text(nbb_formatted_code);\n",
       "                        }\n",
       "                        break;\n",
       "                    }\n",
       "                }\n",
       "            }, 500);\n",
       "            "
      ],
      "text/plain": [
       "<IPython.core.display.Javascript object>"
      ]
     },
     "metadata": {},
     "output_type": "display_data"
    }
   ],
   "source": [
    "group_by_class = {}\n",
    "for cra in crabadas:\n",
    "    class_name = cra[\"class_name\"]\n",
    "    if class_name in group_by_class:\n",
    "        group_by_class[class_name] = group_by_class[class_name] + 1\n",
    "    else:\n",
    "        group_by_class[class_name] = 1\n",
    "\n",
    "fig = px.bar(x=group_by_class.keys(), y=group_by_class.values())\n",
    "fig.show()"
   ]
  },
  {
   "cell_type": "code",
   "execution_count": null,
   "id": "da175c5e",
   "metadata": {},
   "outputs": [],
   "source": []
  }
 ],
 "metadata": {
  "kernelspec": {
   "display_name": "Python 3 (ipykernel)",
   "language": "python",
   "name": "python3"
  },
  "language_info": {
   "codemirror_mode": {
    "name": "ipython",
    "version": 3
   },
   "file_extension": ".py",
   "mimetype": "text/x-python",
   "name": "python",
   "nbconvert_exporter": "python",
   "pygments_lexer": "ipython3",
   "version": "3.9.10"
  }
 },
 "nbformat": 4,
 "nbformat_minor": 5
}
