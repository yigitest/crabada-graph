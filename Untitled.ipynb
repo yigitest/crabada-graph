{
 "cells": [
  {
   "cell_type": "code",
   "execution_count": 1,
   "id": "5482eb48",
   "metadata": {},
   "outputs": [
    {
     "data": {
      "application/javascript": [
       "\n",
       "            setTimeout(function() {\n",
       "                var nbb_cell_id = 1;\n",
       "                var nbb_unformatted_code = \"%load_ext nb_black\";\n",
       "                var nbb_formatted_code = \"%load_ext nb_black\";\n",
       "                var nbb_cells = Jupyter.notebook.get_cells();\n",
       "                for (var i = 0; i < nbb_cells.length; ++i) {\n",
       "                    if (nbb_cells[i].input_prompt_number == nbb_cell_id) {\n",
       "                        if (nbb_cells[i].get_text() == nbb_unformatted_code) {\n",
       "                             nbb_cells[i].set_text(nbb_formatted_code);\n",
       "                        }\n",
       "                        break;\n",
       "                    }\n",
       "                }\n",
       "            }, 500);\n",
       "            "
      ],
      "text/plain": [
       "<IPython.core.display.Javascript object>"
      ]
     },
     "metadata": {},
     "output_type": "display_data"
    }
   ],
   "source": [
    "%load_ext nb_black"
   ]
  },
  {
   "cell_type": "code",
   "execution_count": 2,
   "id": "e78451ab",
   "metadata": {},
   "outputs": [
    {
     "data": {
      "application/javascript": [
       "\n",
       "            setTimeout(function() {\n",
       "                var nbb_cell_id = 2;\n",
       "                var nbb_unformatted_code = \"import requests\\nfrom datetime import datetime\";\n",
       "                var nbb_formatted_code = \"import requests\\nfrom datetime import datetime\";\n",
       "                var nbb_cells = Jupyter.notebook.get_cells();\n",
       "                for (var i = 0; i < nbb_cells.length; ++i) {\n",
       "                    if (nbb_cells[i].input_prompt_number == nbb_cell_id) {\n",
       "                        if (nbb_cells[i].get_text() == nbb_unformatted_code) {\n",
       "                             nbb_cells[i].set_text(nbb_formatted_code);\n",
       "                        }\n",
       "                        break;\n",
       "                    }\n",
       "                }\n",
       "            }, 500);\n",
       "            "
      ],
      "text/plain": [
       "<IPython.core.display.Javascript object>"
      ]
     },
     "metadata": {},
     "output_type": "display_data"
    }
   ],
   "source": [
    "import requests\n",
    "from datetime import datetime"
   ]
  },
  {
   "cell_type": "code",
   "execution_count": 3,
   "id": "59253808",
   "metadata": {},
   "outputs": [
    {
     "data": {
      "application/javascript": [
       "\n",
       "            setTimeout(function() {\n",
       "                var nbb_cell_id = 3;\n",
       "                var nbb_unformatted_code = \"def _get_crabadas(class_id: int):\\n    url = \\\"https://api.crabada.com/public/crabada/all\\\"\\n    params = {\\n        \\\"limit\\\": 1000,\\n        \\\"page\\\": 1,\\n        \\\"from_breed_count\\\": 0,\\n        \\\"to_breed_count\\\": 0,\\n        \\\"from_legend\\\": 0,\\n        \\\"to_legend\\\": 0,\\n        \\\"from_pure\\\": 6,\\n        \\\"to_pure\\\": 6,\\n        \\\"stage\\\": 1,  # adult\\n        \\\"class_ids[]\\\": class_id,  # 7-GEM\\n        \\\"orderBy\\\": \\\"created_at\\\",\\n        \\\"order\\\": \\\"desc\\\",\\n    }\\n\\n    all_crabadas = []\\n\\n    while True:\\n\\n        result = requests.get(url=url, params=params)\\n        result.raise_for_status()\\n\\n        json = result.json()\\n\\n        crabada_array = json[\\\"result\\\"][\\\"data\\\"]\\n        all_crabadas.extend(crabada_array)\\n\\n        totalPages = json[\\\"result\\\"][\\\"totalPages\\\"]\\n        currentPage = json[\\\"result\\\"][\\\"page\\\"]\\n\\n        if currentPage < totalPages:\\n            params[\\\"page\\\"] = currentPage + 1\\n        else:\\n            break\\n\\n    return all_crabadas\";\n",
       "                var nbb_formatted_code = \"def _get_crabadas(class_id: int):\\n    url = \\\"https://api.crabada.com/public/crabada/all\\\"\\n    params = {\\n        \\\"limit\\\": 1000,\\n        \\\"page\\\": 1,\\n        \\\"from_breed_count\\\": 0,\\n        \\\"to_breed_count\\\": 0,\\n        \\\"from_legend\\\": 0,\\n        \\\"to_legend\\\": 0,\\n        \\\"from_pure\\\": 6,\\n        \\\"to_pure\\\": 6,\\n        \\\"stage\\\": 1,  # adult\\n        \\\"class_ids[]\\\": class_id,  # 7-GEM\\n        \\\"orderBy\\\": \\\"created_at\\\",\\n        \\\"order\\\": \\\"desc\\\",\\n    }\\n\\n    all_crabadas = []\\n\\n    while True:\\n\\n        result = requests.get(url=url, params=params)\\n        result.raise_for_status()\\n\\n        json = result.json()\\n\\n        crabada_array = json[\\\"result\\\"][\\\"data\\\"]\\n        all_crabadas.extend(crabada_array)\\n\\n        totalPages = json[\\\"result\\\"][\\\"totalPages\\\"]\\n        currentPage = json[\\\"result\\\"][\\\"page\\\"]\\n\\n        if currentPage < totalPages:\\n            params[\\\"page\\\"] = currentPage + 1\\n        else:\\n            break\\n\\n    return all_crabadas\";\n",
       "                var nbb_cells = Jupyter.notebook.get_cells();\n",
       "                for (var i = 0; i < nbb_cells.length; ++i) {\n",
       "                    if (nbb_cells[i].input_prompt_number == nbb_cell_id) {\n",
       "                        if (nbb_cells[i].get_text() == nbb_unformatted_code) {\n",
       "                             nbb_cells[i].set_text(nbb_formatted_code);\n",
       "                        }\n",
       "                        break;\n",
       "                    }\n",
       "                }\n",
       "            }, 500);\n",
       "            "
      ],
      "text/plain": [
       "<IPython.core.display.Javascript object>"
      ]
     },
     "metadata": {},
     "output_type": "display_data"
    }
   ],
   "source": [
    "def _get_crabadas(class_id: int):\n",
    "    url = \"https://api.crabada.com/public/crabada/all\"\n",
    "    params = {\n",
    "        \"limit\": 1000,\n",
    "        \"page\": 1,\n",
    "        \"from_breed_count\": 0,\n",
    "        \"to_breed_count\": 0,\n",
    "        \"from_legend\": 0,\n",
    "        \"to_legend\": 0,\n",
    "        \"from_pure\": 6,\n",
    "        \"to_pure\": 6,\n",
    "        \"stage\": 1,  # adult\n",
    "        \"class_ids[]\": class_id,  # 7-GEM\n",
    "        \"orderBy\": \"created_at\",\n",
    "        \"order\": \"desc\",\n",
    "    }\n",
    "\n",
    "    all_crabadas = []\n",
    "\n",
    "    while True:\n",
    "\n",
    "        result = requests.get(url=url, params=params)\n",
    "        result.raise_for_status()\n",
    "\n",
    "        json = result.json()\n",
    "\n",
    "        crabada_array = json[\"result\"][\"data\"]\n",
    "        all_crabadas.extend(crabada_array)\n",
    "\n",
    "        totalPages = json[\"result\"][\"totalPages\"]\n",
    "        currentPage = json[\"result\"][\"page\"]\n",
    "\n",
    "        if currentPage < totalPages:\n",
    "            params[\"page\"] = currentPage + 1\n",
    "        else:\n",
    "            break\n",
    "\n",
    "    return all_crabadas"
   ]
  },
  {
   "cell_type": "code",
   "execution_count": 4,
   "id": "3e6a6f71",
   "metadata": {},
   "outputs": [
    {
     "data": {
      "application/javascript": [
       "\n",
       "            setTimeout(function() {\n",
       "                var nbb_cell_id = 4;\n",
       "                var nbb_unformatted_code = \"def _get_all_price_history(crabadas):\\n    price_history = []\\n    try:\\n        counter = 0\\n        print(crabadas[17])\\n        for crabada in crabadas:\\n            crabada_id = crabada[\\\"id\\\"]\\n            crabada_class_name = crabada[\\\"class_name\\\"]\\n            \\n            if crabada['is_origin'] == 1 or  crabada['is_genesis'] == 1 or crabada['legend_number'] > 0:\\n                continue\\n            \\n            url = f\\\"https://api.crabada.com/public/order/matched/{crabada_id}\\\"\\n            result = requests.get(url=url)\\n            result.raise_for_status()\\n\\n            json = result.json()\\n            for element in json[\\\"result\\\"]:\\n                price = element[\\\"price\\\"]\\n                ts = element[\\\"transaction_time\\\"]\\n                transaction_time = datetime.utcfromtimestamp(ts)\\n\\n                price_history.append((transaction_time, price, crabada_class_name))\\n            counter = counter + 1\\n            if counter % 10 == 0:\\n                print(counter)\\n    except:\\n        return []\\n    return price_history\";\n",
       "                var nbb_formatted_code = \"def _get_all_price_history(crabadas):\\n    price_history = []\\n    try:\\n        counter = 0\\n        print(crabadas[17])\\n        for crabada in crabadas:\\n            crabada_id = crabada[\\\"id\\\"]\\n            crabada_class_name = crabada[\\\"class_name\\\"]\\n\\n            if (\\n                crabada[\\\"is_origin\\\"] == 1\\n                or crabada[\\\"is_genesis\\\"] == 1\\n                or crabada[\\\"legend_number\\\"] > 0\\n            ):\\n                continue\\n\\n            url = f\\\"https://api.crabada.com/public/order/matched/{crabada_id}\\\"\\n            result = requests.get(url=url)\\n            result.raise_for_status()\\n\\n            json = result.json()\\n            for element in json[\\\"result\\\"]:\\n                price = element[\\\"price\\\"]\\n                ts = element[\\\"transaction_time\\\"]\\n                transaction_time = datetime.utcfromtimestamp(ts)\\n\\n                price_history.append((transaction_time, price, crabada_class_name))\\n            counter = counter + 1\\n            if counter % 10 == 0:\\n                print(counter)\\n    except:\\n        return []\\n    return price_history\";\n",
       "                var nbb_cells = Jupyter.notebook.get_cells();\n",
       "                for (var i = 0; i < nbb_cells.length; ++i) {\n",
       "                    if (nbb_cells[i].input_prompt_number == nbb_cell_id) {\n",
       "                        if (nbb_cells[i].get_text() == nbb_unformatted_code) {\n",
       "                             nbb_cells[i].set_text(nbb_formatted_code);\n",
       "                        }\n",
       "                        break;\n",
       "                    }\n",
       "                }\n",
       "            }, 500);\n",
       "            "
      ],
      "text/plain": [
       "<IPython.core.display.Javascript object>"
      ]
     },
     "metadata": {},
     "output_type": "display_data"
    }
   ],
   "source": [
    "def _get_all_price_history(crabadas):\n",
    "    price_history = []\n",
    "    try:\n",
    "        counter = 0\n",
    "        print(crabadas[17])\n",
    "        for crabada in crabadas:\n",
    "            crabada_id = crabada[\"id\"]\n",
    "            crabada_class_name = crabada[\"class_name\"]\n",
    "\n",
    "            if (\n",
    "                crabada[\"is_origin\"] == 1\n",
    "                or crabada[\"is_genesis\"] == 1\n",
    "                or crabada[\"legend_number\"] > 0\n",
    "            ):\n",
    "                continue\n",
    "\n",
    "            url = f\"https://api.crabada.com/public/order/matched/{crabada_id}\"\n",
    "            result = requests.get(url=url)\n",
    "            result.raise_for_status()\n",
    "\n",
    "            json = result.json()\n",
    "            for element in json[\"result\"]:\n",
    "                price = element[\"price\"]\n",
    "                ts = element[\"transaction_time\"]\n",
    "                transaction_time = datetime.utcfromtimestamp(ts)\n",
    "\n",
    "                price_history.append((transaction_time, price, crabada_class_name))\n",
    "            counter = counter + 1\n",
    "            if counter % 10 == 0:\n",
    "                print(counter)\n",
    "    except:\n",
    "        return []\n",
    "    return price_history"
   ]
  },
  {
   "cell_type": "code",
   "execution_count": 5,
   "id": "1ea29127",
   "metadata": {},
   "outputs": [
    {
     "data": {
      "application/javascript": [
       "\n",
       "            setTimeout(function() {\n",
       "                var nbb_cell_id = 5;\n",
       "                var nbb_unformatted_code = \"surge = _get_crabadas(1)\\nsunken = _get_crabadas(2)\\nprime = _get_crabadas(3)\\nbulk = _get_crabadas(4)\\ncraboid = _get_crabadas(5)\\nruined = _get_crabadas(6)\\ngem = _get_crabadas(7)\\norganic = _get_crabadas(8)\";\n",
       "                var nbb_formatted_code = \"surge = _get_crabadas(1)\\nsunken = _get_crabadas(2)\\nprime = _get_crabadas(3)\\nbulk = _get_crabadas(4)\\ncraboid = _get_crabadas(5)\\nruined = _get_crabadas(6)\\ngem = _get_crabadas(7)\\norganic = _get_crabadas(8)\";\n",
       "                var nbb_cells = Jupyter.notebook.get_cells();\n",
       "                for (var i = 0; i < nbb_cells.length; ++i) {\n",
       "                    if (nbb_cells[i].input_prompt_number == nbb_cell_id) {\n",
       "                        if (nbb_cells[i].get_text() == nbb_unformatted_code) {\n",
       "                             nbb_cells[i].set_text(nbb_formatted_code);\n",
       "                        }\n",
       "                        break;\n",
       "                    }\n",
       "                }\n",
       "            }, 500);\n",
       "            "
      ],
      "text/plain": [
       "<IPython.core.display.Javascript object>"
      ]
     },
     "metadata": {},
     "output_type": "display_data"
    }
   ],
   "source": [
    "surge = _get_crabadas(1)\n",
    "sunken = _get_crabadas(2)\n",
    "prime = _get_crabadas(3)\n",
    "bulk = _get_crabadas(4)\n",
    "craboid = _get_crabadas(5)\n",
    "ruined = _get_crabadas(6)\n",
    "gem = _get_crabadas(7)\n",
    "organic = _get_crabadas(8)"
   ]
  },
  {
   "cell_type": "code",
   "execution_count": null,
   "id": "7c53e7b2",
   "metadata": {},
   "outputs": [
    {
     "name": "stdout",
     "output_type": "stream",
     "text": [
      "{'id': 53630, 'crabada_id': 53630, 'crabada_type': 1, 'type': 'NORMAL', 'is_origin': 0, 'is_genesis': 0, 'legend_number': 0, 'pure_number': 6, 'stage': 1, 'dna': '462913930971936694350823945194644739621576684372802855026049222146236220934', 'name': 'Crabada 53630', 'description': None, 'photo': '53630.png', 'atlas_photo': '53630-atlas.png', 'crabada_class': 1, 'class_id': 1, 'class_name': 'SURGE', 'crabada_subclass': 6, 'creator': '0x6bad4881ef149fa2deab68209cda712202b02402', 'owner': '0x82a85407bd612f52577909f4a58bfc6873f14da8', 'birthday': 1647491905, 'hp': 150, 'speed': 26, 'damage': 50, 'critical': 39, 'armor': 37, 'price': None, 'order_id': None, 'order_time': None, 'owner_full_name': None, 'owner_photo': None, 'owner_nft_avatar': None, 'breed_count': 0, 'created_at': '2022-03-17T04:38:29.567347', 'updated_at': '2022-03-22T05:02:03.567324'}\n",
      "10\n",
      "20\n",
      "30\n",
      "40\n",
      "50\n",
      "60\n"
     ]
    }
   ],
   "source": [
    "sample_size = 100\n",
    "\n",
    "ph = (\n",
    "    _get_all_price_history(surge[0:sample_size])\n",
    "    + _get_all_price_history(sunken[0:sample_size])\n",
    "    + _get_all_price_history(prime[0:sample_size])\n",
    "    + _get_all_price_history(bulk[0:sample_size])\n",
    "    + _get_all_price_history(craboid[0:sample_size])\n",
    "    + _get_all_price_history(ruined[0:sample_size])\n",
    "    + _get_all_price_history(gem[0:sample_size])\n",
    "    + _get_all_price_history(organic[0:sample_size])\n",
    ")"
   ]
  },
  {
   "cell_type": "code",
   "execution_count": null,
   "id": "351e7824",
   "metadata": {},
   "outputs": [],
   "source": [
    "import pandas as pd\n",
    "import plotly.express as px\n",
    "\n",
    "\n",
    "x = [ts for ts, price, class_name in ph]\n",
    "y = [price / 10**18 for ts, price, class_name in ph]\n",
    "color = [class_name for ts, price, class_name in ph]\n",
    "\n",
    "fig = px.scatter(x=x, y=y, color=color)\n",
    "fig.show()"
   ]
  },
  {
   "cell_type": "code",
   "execution_count": null,
   "id": "f86682d5",
   "metadata": {},
   "outputs": [],
   "source": []
  }
 ],
 "metadata": {
  "kernelspec": {
   "display_name": "Python 3 (ipykernel)",
   "language": "python",
   "name": "python3"
  },
  "language_info": {
   "codemirror_mode": {
    "name": "ipython",
    "version": 3
   },
   "file_extension": ".py",
   "mimetype": "text/x-python",
   "name": "python",
   "nbconvert_exporter": "python",
   "pygments_lexer": "ipython3",
   "version": "3.9.10"
  }
 },
 "nbformat": 4,
 "nbformat_minor": 5
}
